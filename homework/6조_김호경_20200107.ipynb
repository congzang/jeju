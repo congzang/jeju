{
 "cells": [
  {
   "cell_type": "code",
   "execution_count": 7,
   "metadata": {},
   "outputs": [
    {
     "data": {
      "text/html": [
       "<div style=\"width:100%;\"><div style=\"position:relative;width:100%;height:0;padding-bottom:60%;\"><iframe src=\"data:text/html;charset=utf-8;base64,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\" style=\"position:absolute;width:100%;height:100%;left:0;top:0;border:none !important;\" allowfullscreen webkitallowfullscreen mozallowfullscreen></iframe></div></div>"
      ],
      "text/plain": [
       "<folium.folium.Map at 0x1fcdbb271c8>"
      ]
     },
     "execution_count": 7,
     "metadata": {},
     "output_type": "execute_result"
    }
   ],
   "source": [
    "# 숙제. 서울 소재 10곳의 대학교 좌표를 표시하세요.\n",
    "import folium as fol\n",
    "myMap = fol.Map(location = [37.565711, 126.978090], zoom_start = 11)\n",
    "fol.Marker([37.461590, 126.951838], popup = \"1.서울대\").add_to(myMap)\n",
    "fol.Marker([37.496571, 126.957449], popup = \"2.숭실대\").add_to(myMap)\n",
    "fol.Marker([37.505379, 126.957093], popup = \"3.중앙대\").add_to(myMap)\n",
    "fol.Marker([37.546935, 126.965070], popup = \"4.숙명여대\").add_to(myMap)\n",
    "fol.Marker([37.551894, 126.925053], popup = \"5.홍익대\").add_to(myMap)\n",
    "fol.Marker([37.567037, 126.938274], popup = \"6.연세대\").add_to(myMap)\n",
    "fol.Marker([37.560016, 126.945523], popup = \"7.이화여대\").add_to(myMap)\n",
    "fol.Marker([37.562703, 126.953366], popup = \"8.추계예대\").add_to(myMap)\n",
    "fol.Marker([37.579348, 127.003298], popup = \"9.한국방통대\").add_to(myMap)\n",
    "fol.Marker([37.602564, 127.028063], popup = \"10.고려대\").add_to(myMap)\n",
    "myMap"
   ]
  },
  {
   "cell_type": "code",
   "execution_count": 6,
   "metadata": {},
   "outputs": [
    {
     "data": {
      "text/html": [
       "<div>\n",
       "<style scoped>\n",
       "    .dataframe tbody tr th:only-of-type {\n",
       "        vertical-align: middle;\n",
       "    }\n",
       "\n",
       "    .dataframe tbody tr th {\n",
       "        vertical-align: top;\n",
       "    }\n",
       "\n",
       "    .dataframe thead th {\n",
       "        text-align: right;\n",
       "    }\n",
       "</style>\n",
       "<table border=\"1\" class=\"dataframe\">\n",
       "  <thead>\n",
       "    <tr style=\"text-align: right;\">\n",
       "      <th></th>\n",
       "      <th>지역</th>\n",
       "      <th>2018</th>\n",
       "      <th>2017</th>\n",
       "      <th>2016</th>\n",
       "      <th>2015</th>\n",
       "      <th>2015-2018 증가율</th>\n",
       "      <th>2015-2017 증가율</th>\n",
       "    </tr>\n",
       "  </thead>\n",
       "  <tbody>\n",
       "    <tr>\n",
       "      <td>서울</td>\n",
       "      <td>서울 수도권</td>\n",
       "      <td>9904312</td>\n",
       "      <td>9631482</td>\n",
       "      <td>9762546</td>\n",
       "      <td>9853972</td>\n",
       "      <td>0.51</td>\n",
       "      <td>-2.26</td>\n",
       "    </tr>\n",
       "    <tr>\n",
       "      <td>부산</td>\n",
       "      <td>부산 경상권</td>\n",
       "      <td>3448737</td>\n",
       "      <td>3393191</td>\n",
       "      <td>3512547</td>\n",
       "      <td>3655437</td>\n",
       "      <td>-5.65</td>\n",
       "      <td>-7.17</td>\n",
       "    </tr>\n",
       "    <tr>\n",
       "      <td>인천</td>\n",
       "      <td>인천 수도권</td>\n",
       "      <td>2890451</td>\n",
       "      <td>2632035</td>\n",
       "      <td>2517680</td>\n",
       "      <td>2466338</td>\n",
       "      <td>17.20</td>\n",
       "      <td>6.72</td>\n",
       "    </tr>\n",
       "    <tr>\n",
       "      <td>대구</td>\n",
       "      <td>대구 경상권</td>\n",
       "      <td>2466052</td>\n",
       "      <td>2431774</td>\n",
       "      <td>2456016</td>\n",
       "      <td>2473990</td>\n",
       "      <td>-0.32</td>\n",
       "      <td>-1.71</td>\n",
       "    </tr>\n",
       "  </tbody>\n",
       "</table>\n",
       "</div>"
      ],
      "text/plain": [
       "        지역     2018     2017     2016     2015  2015-2018 증가율  2015-2017 증가율\n",
       "서울  서울 수도권  9904312  9631482  9762546  9853972           0.51          -2.26\n",
       "부산  부산 경상권  3448737  3393191  3512547  3655437          -5.65          -7.17\n",
       "인천  인천 수도권  2890451  2632035  2517680  2466338          17.20           6.72\n",
       "대구  대구 경상권  2466052  2431774  2456016  2473990          -0.32          -1.71"
      ]
     },
     "execution_count": 6,
     "metadata": {},
     "output_type": "execute_result"
    }
   ],
   "source": [
    "import pandas as pd\n",
    "# 문제. 다음 데이터를 데이터프레임에 저장하시요.\n",
    "#     지역      2018    2017    2016    2015  2015-2018 증가율\n",
    "# 서울 수도권  9904312 9631482 9762546 9853972    0.0283\n",
    "# 부산 경상권  3448737 3393191 3512547 3655437    0.0163\n",
    "# 인천 수도권  2890451 2632035 2517680 2466338    0.0982\n",
    "# 대구 경상권  2466052 2431774 2456016 2473990    0.0141\n",
    "columns = [\"지역\", \"2018\", \"2017\", \"2016\", \"2015\", \"2015-2018 증가율\"]\n",
    "index = [\"서울\", \"부산\", \"인천\", \"대구\"]\n",
    "data = { \"지역\": [\"서울 수도권\", \"부산 경상권\", \"인천 수도권\", \"대구 경상권\"],\n",
    "         \"2018\": [9904312, 3448737, 2890451, 2466052],\n",
    "         \"2017\": [9631482, 3393191, 2632035, 2431774],\n",
    "         \"2016\": [9762546, 3512547, 2517680, 2456016],\n",
    "         \"2015\": [9853972, 3655437, 2466338, 2473990],\n",
    "         \"2015-2018 증가율\": [0.0283, 0.0163, 0.0982, 0.0141]}\n",
    "\n",
    "df = pd.DataFrame(data, columns = columns, index = index)\n",
    "\n",
    "# 문제. \"2015-2018 증가율\"을 %로 변경하시요.\n",
    "df[\"2015-2018 증가율\"] = round(((df[\"2018\"]/df[\"2015\"])-1) * 100, 2)\n",
    "\n",
    "# 문제. 2015-2017의 증가율을 구해서 변수를 추가하시요.\n",
    "# (열이름: \"2015-2017 증가율\")\n",
    "df[\"2015-2017 증가율\"] = round(((df[\"2017\"]/df[\"2015\"])-1) * 100, 2)\n",
    "df"
   ]
  }
 ],
 "metadata": {
  "kernelspec": {
   "display_name": "Python 3",
   "language": "python",
   "name": "python3"
  },
  "language_info": {
   "codemirror_mode": {
    "name": "ipython",
    "version": 3
   },
   "file_extension": ".py",
   "mimetype": "text/x-python",
   "name": "python",
   "nbconvert_exporter": "python",
   "pygments_lexer": "ipython3",
   "version": "3.7.4"
  }
 },
 "nbformat": 4,
 "nbformat_minor": 2
}
