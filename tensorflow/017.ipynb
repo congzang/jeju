{
 "cells": [
  {
   "cell_type": "code",
   "execution_count": 25,
   "metadata": {},
   "outputs": [],
   "source": [
    "import warnings\n",
    "warnings.filterwarnings(action=\"ignore\")"
   ]
  },
  {
   "cell_type": "code",
   "execution_count": null,
   "metadata": {},
   "outputs": [],
   "source": [
    "# FFNN\n",
    "# 이미지의 숫자 예측\n",
    "# 0~9까지의 숫자를 이미지화 인식 => 자동차 번호판"
   ]
  },
  {
   "cell_type": "code",
   "execution_count": 20,
   "metadata": {},
   "outputs": [
    {
     "name": "stdout",
     "output_type": "stream",
     "text": [
      "Extracting /tmp/data/train-images-idx3-ubyte.gz\n",
      "Extracting /tmp/data/train-labels-idx1-ubyte.gz\n",
      "Extracting /tmp/data/t10k-images-idx3-ubyte.gz\n",
      "Extracting /tmp/data/t10k-labels-idx1-ubyte.gz\n"
     ]
    }
   ],
   "source": [
    "from tensorflow.examples.tutorials.mnist import input_data\n",
    "# target : 1000000000\n",
    "mnist = input_data.read_data_sets(\"/tmp/data/\", one_hot=True)\n",
    "import tensorflow as tf"
   ]
  },
  {
   "cell_type": "code",
   "execution_count": 104,
   "metadata": {},
   "outputs": [
    {
     "name": "stdout",
     "output_type": "stream",
     "text": [
      "(128, 784)\n",
      "Tensor(\"Placeholder:0\", shape=(?, 784), dtype=float32)\n"
     ]
    }
   ],
   "source": [
    "# 128장의 이미지를 random하게 가져온다.\n",
    "batch_x, batch_y = mnist.train.next_batch(128) # batch_x : image, batch_y : target\n",
    "print(batch_x.shape) # 128장 * 784(=가로 28 * 세로 28의 이미지가 flatten되어 784)\n",
    "learning_rate = 0.1  # hyper parameter\n",
    "num_steps = 500      # epoch세대 \n",
    "batch_size = 128     # mini batch 크기(속도를 고속으로, local해를 복구하기 위하여 mini batch사용)\n",
    "display_step = 100   # 시각화하기 위함\n",
    "\n",
    "# hidden layer가 2개\n",
    "# 784(pixel 1개가 변수)\n",
    "#  => 1번 레이어 = 784 * 256 -> 2번 레이어 256 * 256 -> 3번 레이어 256 * 10\n",
    "n_hidden_1 = 256; n_hidden_2 = 256\n",
    "num_input = 784; num_classes = 10 # target이 0~9(=10개)\n",
    "X = tf.placeholder(\"float\", [None, num_input]) # 128 x 784\n",
    "Y = tf.placeholder(\"float\", [None, num_classes]) # 128 x 10\n",
    "# 가중치(설명력, 계수)\n",
    "weights = {\n",
    "    \"h1\" : tf.Variable(tf.random_normal([num_input, n_hidden_1])),   # 784 x 256\n",
    "    \"h2\" : tf.Variable(tf.random_normal([n_hidden_1, n_hidden_2])),  # 256 x 256\n",
    "    \"out\" : tf.Variable(tf.random_normal([n_hidden_2, num_classes])) # 256 x 10\n",
    "}\n",
    "# bias(activation) - 가중치 한 덩어리당 bias가 반드시 존재한다.\n",
    "# bias는 변수개수만큼 존재한다.\n",
    "biases = {\n",
    "    \"b1\" : tf.Variable(tf.random_normal([n_hidden_1])),\n",
    "    \"b2\" : tf.Variable(tf.random_normal([n_hidden_2])),\n",
    "    \"out\" : tf.Variable(tf.random_normal([num_classes]))\n",
    "}"
   ]
  },
  {
   "cell_type": "code",
   "execution_count": 22,
   "metadata": {},
   "outputs": [],
   "source": [
    "def neural_net(x): # X = 128 x 784\n",
    "    # 128 x 784, 784 x 256 => 128 x 256 전달 데이터(tensor)(*bias는 더해주기만 하는거라서 개수로 안함)\n",
    "    layer_1 = tf.add(tf.matmul(x, weights[\"h1\"]), biases[\"b1\"])\n",
    "    # 128 x 256, 256 x 256 => 128 x 256\n",
    "    layer_2 = tf.add(tf.matmul(layer_1, weights[\"h2\"]), biases[\"b2\"])\n",
    "    # 128 x 256, 256 x 10 => 128 x 10\n",
    "    out_layer = tf.matmul(layer_2, weights[\"out\"]) + biases[\"out\"]\n",
    "    \n",
    "    return out_layer"
   ]
  },
  {
   "cell_type": "code",
   "execution_count": 23,
   "metadata": {},
   "outputs": [],
   "source": [
    "logits = neural_net(X) # =128 x 10\n",
    "# 경사하강법 사용을 위해서는 미분이 가능해야한다 -> 분류하여 미분값을 취한다\n",
    "loss_op = tf.reduce_mean(\n",
    "    # softmax : 확률값으로 계산\n",
    "    tf.nn.softmax_cross_entropy_with_logits_v2( # one-hot encoding 된 값 * log(확률값)\n",
    "        logits = logits, labels = Y))\n",
    "# 최적화기 : 기울기, 학습율(Adam = momentum + propgrad)\n",
    "# Adagrad : learning rate를 처음에는 크게 -> 점점 작게\n",
    "# propgrad : Adagrad + adaptive하게(현재 상태를 봐가면서 적응적으로)\n",
    "optimizer = tf.train.AdamOptimizer(learning_rate=learning_rate)\n",
    "train_op = optimizer.minimize(loss_op)\n",
    "# argmax : 가장 큰 값의 index(one-hot encoding되어있음) => 그 자체가 target이다.\n",
    "correct_pred = tf.equal(tf.argmax(logits, 1), tf.argmax(Y, 1)) # 1, 0\n",
    "accuracy = tf.reduce_mean(tf.cast(correct_pred, tf.float32))\n",
    "init = tf.global_variables_initializer()"
   ]
  },
  {
   "cell_type": "code",
   "execution_count": 24,
   "metadata": {},
   "outputs": [
    {
     "name": "stdout",
     "output_type": "stream",
     "text": [
      "Step 1, Minibatch Loss= 12806.0762, Training Accuracy= 0.367\n",
      "테스트 정확도 :  0.2387\n",
      "Step 100, Minibatch Loss= 423.4575, Training Accuracy= 0.828\n",
      "테스트 정확도 :  0.8359\n",
      "Step 200, Minibatch Loss= 153.4784, Training Accuracy= 0.852\n",
      "테스트 정확도 :  0.8418\n",
      "Step 300, Minibatch Loss= 96.5707, Training Accuracy= 0.852\n",
      "테스트 정확도 :  0.8383\n",
      "Step 400, Minibatch Loss= 40.6246, Training Accuracy= 0.891\n",
      "테스트 정확도 :  0.858\n",
      "Step 500, Minibatch Loss= 62.8232, Training Accuracy= 0.883\n",
      "테스트 정확도 :  0.8571\n"
     ]
    }
   ],
   "source": [
    "with tf.Session() as sess: # session연결 = GPU에 연결(CPU와 GPU 연결을 일반화하기 위해 session이 있음)\n",
    "    sess.run(init)\n",
    "    for step in range(1, num_steps + 1): # epoch\n",
    "        # batch_x : 128 x 784, batch_y : 128 x 10\n",
    "        batch_x, batch_y = mnist.train.next_batch(batch_size)\n",
    "        sess.run(train_op, feed_dict={X: batch_x, Y: batch_y})\n",
    "        if step % display_step == 0 or step == 1:\n",
    "            loss, acc = sess.run([loss_op, accuracy],\n",
    "                                feed_dict = {X: batch_x, Y: batch_y})\n",
    "            print(\"Step \" + str(step) + \", Minibatch Loss= \" + \"{:.4f}\".format(loss) +\n",
    "                 \", Training Accuracy= \" + \"{:.3f}\".format(acc))\n",
    "            print(\"테스트 정확도 : \",\n",
    "                  sess.run(accuracy, feed_dict={X: mnist.test.images, Y: mnist.test.labels}))"
   ]
  },
  {
   "cell_type": "code",
   "execution_count": 46,
   "metadata": {},
   "outputs": [
    {
     "data": {
      "text/html": [
       "<div>\n",
       "<style scoped>\n",
       "    .dataframe tbody tr th:only-of-type {\n",
       "        vertical-align: middle;\n",
       "    }\n",
       "\n",
       "    .dataframe tbody tr th {\n",
       "        vertical-align: top;\n",
       "    }\n",
       "\n",
       "    .dataframe thead th {\n",
       "        text-align: right;\n",
       "    }\n",
       "</style>\n",
       "<table border=\"1\" class=\"dataframe\">\n",
       "  <thead>\n",
       "    <tr style=\"text-align: right;\">\n",
       "      <th></th>\n",
       "      <th>CRIM</th>\n",
       "      <th>ZN</th>\n",
       "      <th>INDUS</th>\n",
       "      <th>CHAS</th>\n",
       "      <th>NOX</th>\n",
       "      <th>RM</th>\n",
       "      <th>AGE</th>\n",
       "      <th>DIS</th>\n",
       "      <th>RAD</th>\n",
       "      <th>TAX</th>\n",
       "      <th>PTRATIO</th>\n",
       "      <th>B</th>\n",
       "      <th>LSTAT</th>\n",
       "      <th>const</th>\n",
       "    </tr>\n",
       "  </thead>\n",
       "  <tbody>\n",
       "    <tr>\n",
       "      <td>501</td>\n",
       "      <td>0.06263</td>\n",
       "      <td>0.0</td>\n",
       "      <td>11.93</td>\n",
       "      <td>0.0</td>\n",
       "      <td>0.573</td>\n",
       "      <td>6.593</td>\n",
       "      <td>69.1</td>\n",
       "      <td>2.4786</td>\n",
       "      <td>1.0</td>\n",
       "      <td>273.0</td>\n",
       "      <td>21.0</td>\n",
       "      <td>391.99</td>\n",
       "      <td>9.67</td>\n",
       "      <td>1.0</td>\n",
       "    </tr>\n",
       "    <tr>\n",
       "      <td>502</td>\n",
       "      <td>0.04527</td>\n",
       "      <td>0.0</td>\n",
       "      <td>11.93</td>\n",
       "      <td>0.0</td>\n",
       "      <td>0.573</td>\n",
       "      <td>6.120</td>\n",
       "      <td>76.7</td>\n",
       "      <td>2.2875</td>\n",
       "      <td>1.0</td>\n",
       "      <td>273.0</td>\n",
       "      <td>21.0</td>\n",
       "      <td>396.90</td>\n",
       "      <td>9.08</td>\n",
       "      <td>1.0</td>\n",
       "    </tr>\n",
       "    <tr>\n",
       "      <td>503</td>\n",
       "      <td>0.06076</td>\n",
       "      <td>0.0</td>\n",
       "      <td>11.93</td>\n",
       "      <td>0.0</td>\n",
       "      <td>0.573</td>\n",
       "      <td>6.976</td>\n",
       "      <td>91.0</td>\n",
       "      <td>2.1675</td>\n",
       "      <td>1.0</td>\n",
       "      <td>273.0</td>\n",
       "      <td>21.0</td>\n",
       "      <td>396.90</td>\n",
       "      <td>5.64</td>\n",
       "      <td>1.0</td>\n",
       "    </tr>\n",
       "    <tr>\n",
       "      <td>504</td>\n",
       "      <td>0.10959</td>\n",
       "      <td>0.0</td>\n",
       "      <td>11.93</td>\n",
       "      <td>0.0</td>\n",
       "      <td>0.573</td>\n",
       "      <td>6.794</td>\n",
       "      <td>89.3</td>\n",
       "      <td>2.3889</td>\n",
       "      <td>1.0</td>\n",
       "      <td>273.0</td>\n",
       "      <td>21.0</td>\n",
       "      <td>393.45</td>\n",
       "      <td>6.48</td>\n",
       "      <td>1.0</td>\n",
       "    </tr>\n",
       "    <tr>\n",
       "      <td>505</td>\n",
       "      <td>0.04741</td>\n",
       "      <td>0.0</td>\n",
       "      <td>11.93</td>\n",
       "      <td>0.0</td>\n",
       "      <td>0.573</td>\n",
       "      <td>6.030</td>\n",
       "      <td>80.8</td>\n",
       "      <td>2.5050</td>\n",
       "      <td>1.0</td>\n",
       "      <td>273.0</td>\n",
       "      <td>21.0</td>\n",
       "      <td>396.90</td>\n",
       "      <td>7.88</td>\n",
       "      <td>1.0</td>\n",
       "    </tr>\n",
       "  </tbody>\n",
       "</table>\n",
       "</div>"
      ],
      "text/plain": [
       "        CRIM   ZN  INDUS  CHAS    NOX     RM   AGE     DIS  RAD    TAX  \\\n",
       "501  0.06263  0.0  11.93   0.0  0.573  6.593  69.1  2.4786  1.0  273.0   \n",
       "502  0.04527  0.0  11.93   0.0  0.573  6.120  76.7  2.2875  1.0  273.0   \n",
       "503  0.06076  0.0  11.93   0.0  0.573  6.976  91.0  2.1675  1.0  273.0   \n",
       "504  0.10959  0.0  11.93   0.0  0.573  6.794  89.3  2.3889  1.0  273.0   \n",
       "505  0.04741  0.0  11.93   0.0  0.573  6.030  80.8  2.5050  1.0  273.0   \n",
       "\n",
       "     PTRATIO       B  LSTAT  const  \n",
       "501     21.0  391.99   9.67    1.0  \n",
       "502     21.0  396.90   9.08    1.0  \n",
       "503     21.0  396.90   5.64    1.0  \n",
       "504     21.0  393.45   6.48    1.0  \n",
       "505     21.0  396.90   7.88    1.0  "
      ]
     },
     "execution_count": 46,
     "metadata": {},
     "output_type": "execute_result"
    }
   ],
   "source": [
    "from sklearn.datasets import load_boston\n",
    "import pandas as pd\n",
    "import numpy as np\n",
    "import tensorflow as tf\n",
    "boston = load_boston()\n",
    "df = pd.DataFrame(boston.data, columns = boston.feature_names)\n",
    "df[\"const\"] = np.ones(df.shape[0])\n",
    "df.tail()"
   ]
  },
  {
   "cell_type": "code",
   "execution_count": 47,
   "metadata": {},
   "outputs": [],
   "source": [
    "n, m = df.shape\n",
    "X = tf.placeholder(tf.float64, shape=(n, m))\n",
    "y = tf.placeholder(tf.float64, shape=(n, 1))\n",
    "XT = tf.transpose(X) # 14 x 506"
   ]
  },
  {
   "cell_type": "code",
   "execution_count": 49,
   "metadata": {},
   "outputs": [
    {
     "name": "stdout",
     "output_type": "stream",
     "text": [
      "예측한 집값 : [18.40613603] 실제 집값 : 18.2\n"
     ]
    }
   ],
   "source": [
    "# 행렬식\n",
    "# 거듭제곱 : 상관계수 ( 506(Data point) x 14(변수) )\n",
    "# 14 x 506, 506 x 14 => 14 x 14 (상관행렬)\n",
    "# -> 역행렬 14 x 14, 14 x 506 => 14 x 506\n",
    "# 14 x 506, 506 x 1 => 14 x 1(가중치)\n",
    "# 역행렬을 이용해서 가중치를 결정\n",
    "w = tf.matmul(tf.matmul(tf.matrix_inverse(tf.matmul(XT, X)), XT), y) # 14 x 1\n",
    "y_pred = tf.matmul(X, w) # 506 x 14, 14 x 1 => 506 x 1 회귀식\n",
    "\n",
    "with tf.Session() as sess:\n",
    "    y_pred = sess.run(y_pred, feed_dict={X: df.values,\n",
    "                                         y: boston.target.reshape(-1, 1)})\n",
    "print(\"예측한 집값 :\", y_pred[19], \"실제 집값 :\", boston.target[19])"
   ]
  },
  {
   "cell_type": "code",
   "execution_count": 51,
   "metadata": {},
   "outputs": [
    {
     "name": "stdout",
     "output_type": "stream",
     "text": [
      "홑일 때  [0 2 3 0 2 3 0 2 3 0 2 3 0 2 3]\n"
     ]
    }
   ],
   "source": [
    "import tensorflow as tf\n",
    "sess = tf.Session()\n",
    "\n",
    "val = [0,2,3]\n",
    "val = tf.tile(val, [5])\n",
    "print(\"홑일 때 \", sess.run(val))"
   ]
  },
  {
   "cell_type": "code",
   "execution_count": 54,
   "metadata": {},
   "outputs": [
    {
     "name": "stdout",
     "output_type": "stream",
     "text": [
      "2차원일때\n",
      " [[1 1 1 1 1 1]\n",
      " [2 2 2 2 2 2]\n",
      " [3 3 3 3 3 3]\n",
      " [1 1 1 1 1 1]\n",
      " [2 2 2 2 2 2]\n",
      " [3 3 3 3 3 3]\n",
      " [1 1 1 1 1 1]\n",
      " [2 2 2 2 2 2]\n",
      " [3 3 3 3 3 3]\n",
      " [1 1 1 1 1 1]\n",
      " [2 2 2 2 2 2]\n",
      " [3 3 3 3 3 3]\n",
      " [1 1 1 1 1 1]\n",
      " [2 2 2 2 2 2]\n",
      " [3 3 3 3 3 3]]\n"
     ]
    }
   ],
   "source": [
    "# tile은 차원을 확대하지는 않는다.\n",
    "val = [[1,1,1],[2,2,2],[3,3,3]] # 3 x 3\n",
    "val = tf.tile(val, [5,2]) # 15 x 6\n",
    "print(\"2차원일때\\n\", sess.run(val))"
   ]
  },
  {
   "cell_type": "code",
   "execution_count": 56,
   "metadata": {},
   "outputs": [
    {
     "name": "stdout",
     "output_type": "stream",
     "text": [
      "[[ 1.  2.  1.  2.  1.  2.]\n",
      " [ 2.  1.  2.  1.  2.  1.]\n",
      " [-2. -1. -2. -1. -2. -1.]]\n",
      "[[ 1.  2.  1.  2.  1.  2.]\n",
      " [ 2.  1.  2.  1.  2.  1.]\n",
      " [-2. -1. -2. -1. -2. -1.]\n",
      " [ 1.  2.  1.  2.  1.  2.]\n",
      " [ 2.  1.  2.  1.  2.  1.]\n",
      " [-2. -1. -2. -1. -2. -1.]]\n"
     ]
    }
   ],
   "source": [
    "input_vecs = [[1., 2.], [2., 1.], [-2., -1.]]\n",
    "tiled_vecs = tf.tile(input_vecs, [1, 3])\n",
    "print(sess.run(tiled_vecs))\n",
    "tiled_vecs = tf.tile(input_vecs, [2, 3])\n",
    "print(sess.run(tiled_vecs))"
   ]
  },
  {
   "cell_type": "code",
   "execution_count": 57,
   "metadata": {},
   "outputs": [],
   "source": [
    "# kmeans : k가 결정 => 중심이 발생\n",
    "#  - 각 데이터의 중심값을 빼서 거리값을 계산"
   ]
  },
  {
   "cell_type": "code",
   "execution_count": 92,
   "metadata": {},
   "outputs": [],
   "source": [
    "import numpy as np\n",
    "import matplotlib.pyplot as plt\n",
    "import tensorflow as tf\n",
    "from sklearn import datasets\n",
    "from sklearn.preprocessing import scale\n",
    "from tensorflow.python.framework import ops\n",
    "\n",
    "ops.reset_default_graph() # 그라프 초기화\n",
    "sess = tf.Session()\n",
    "iris = datasets.load_iris() # 4개의 변수 - target"
   ]
  },
  {
   "cell_type": "code",
   "execution_count": 100,
   "metadata": {},
   "outputs": [],
   "source": [
    "num_pts = len(iris.data) # 행의 수\n",
    "num_feats = len(iris.data[0]) # 열의 수\n",
    "k = 3 # 군집수\n",
    "generations = 25 # epoch\n",
    "data_points = tf.Variable(iris.data)\n",
    "# 레이블 변수\n",
    "cluster_labels = tf.Variable(tf.zeros([num_pts], dtype = tf.int64))\n",
    "# 중심데이터를 랜덤으로 취한다.\n",
    "# 중심의 열변수개수 = 4개\n",
    "rand_starts = np.array([iris.data[np.random.choice(len(iris.data))] for _ in range(k)])\n",
    "centroids = tf.Variable(rand_starts) # 중심\n",
    "centroid_matrix = tf.reshape(tf.tile(centroids, [num_pts, 1]), [num_pts, k, num_feats]) # (150,3,4)\n",
    "point_matrix = tf.reshape(tf.tile(data_points, [1, k]), [num_pts, k, num_feats]) # (150,3,4)\n",
    "distances = tf.reduce_sum(tf.square(point_matrix - centroid_matrix), axis=2)  # (150,3,1)\n",
    "centroid_group = tf.argmin(distances, 1) # argmin : 값을 기준으로 index를 추출(2개 전제 - 인덱스, 실제값 비교)"
   ]
  },
  {
   "cell_type": "code",
   "execution_count": 101,
   "metadata": {},
   "outputs": [],
   "source": [
    "# 그룹별로 거리의 평균\n",
    "# 중심거리를 재계산해서 중심값을 재할당\n",
    "def data_group_avg(group_ids, data):\n",
    "    # 라벨번호로 값의 합계 : 라벨 - 값, 그룹이 3개\n",
    "    sum_total = tf.unsorted_segment_sum(data, group_ids, 3)\n",
    "    # 그룹의 전체 개수\n",
    "    num_total = tf.unsorted_segment_sum(tf.ones_like(data), group_ids, 3) # _like : 사이즈 일치\n",
    "    avg_by_group = sum_total / num_total # 그룹의 평균거리\n",
    "    return (avg_by_group)\n",
    "means = data_group_avg(centroid_group, data_points)\n",
    "# update : node를 결정\n",
    "update = tf.group(centroids.assign(means), cluster_labels.assign(centroid_group))\n",
    "init = tf.global_variables_initializer()\n",
    "sess.run(init)"
   ]
  },
  {
   "cell_type": "code",
   "execution_count": 102,
   "metadata": {},
   "outputs": [
    {
     "name": "stdout",
     "output_type": "stream",
     "text": [
      "Calculating gen 0, out of 25.\n",
      "Group counts: [57, 12, 81]\n",
      "Calculating gen 1, out of 25.\n",
      "Group counts: [53, 22, 75]\n",
      "Calculating gen 2, out of 25.\n",
      "Group counts: [51, 32, 67]\n",
      "Calculating gen 3, out of 25.\n",
      "Group counts: [50, 35, 65]\n",
      "Calculating gen 4, out of 25.\n",
      "Group counts: [50, 38, 62]\n",
      "Calculating gen 5, out of 25.\n",
      "Group counts: [50, 38, 62]\n",
      "Calculating gen 6, out of 25.\n",
      "Group counts: [50, 38, 62]\n",
      "Calculating gen 7, out of 25.\n",
      "Group counts: [50, 38, 62]\n",
      "Calculating gen 8, out of 25.\n",
      "Group counts: [50, 38, 62]\n",
      "Calculating gen 9, out of 25.\n",
      "Group counts: [50, 38, 62]\n",
      "Calculating gen 10, out of 25.\n",
      "Group counts: [50, 38, 62]\n",
      "Calculating gen 11, out of 25.\n",
      "Group counts: [50, 38, 62]\n",
      "Calculating gen 12, out of 25.\n",
      "Group counts: [50, 38, 62]\n",
      "Calculating gen 13, out of 25.\n",
      "Group counts: [50, 38, 62]\n",
      "Calculating gen 14, out of 25.\n",
      "Group counts: [50, 38, 62]\n",
      "Calculating gen 15, out of 25.\n",
      "Group counts: [50, 38, 62]\n",
      "Calculating gen 16, out of 25.\n",
      "Group counts: [50, 38, 62]\n",
      "Calculating gen 17, out of 25.\n",
      "Group counts: [50, 38, 62]\n",
      "Calculating gen 18, out of 25.\n",
      "Group counts: [50, 38, 62]\n",
      "Calculating gen 19, out of 25.\n",
      "Group counts: [50, 38, 62]\n",
      "Calculating gen 20, out of 25.\n",
      "Group counts: [50, 38, 62]\n",
      "Calculating gen 21, out of 25.\n",
      "Group counts: [50, 38, 62]\n",
      "Calculating gen 22, out of 25.\n",
      "Group counts: [50, 38, 62]\n",
      "Calculating gen 23, out of 25.\n",
      "Group counts: [50, 38, 62]\n",
      "Calculating gen 24, out of 25.\n",
      "Group counts: [50, 38, 62]\n"
     ]
    }
   ],
   "source": [
    "for i in range(generations):\n",
    "    print(\"Calculating gen {}, out of {}.\".format(i, generations)) # _ : 실행의 마지막 결과값\n",
    "    # centroid_group : 그룹번호 결정\n",
    "    # update : 군집의 중심값을 재계산하고 그룹을 변경\n",
    "    _, centroid_group_count = sess.run([update, centroid_group])\n",
    "    group_count = []\n",
    "    for ix in range(k): # 군집별 카운트\n",
    "        group_count.append(np.sum(centroid_group_count == ix))\n",
    "    print(\"Group counts: {}\".format(group_count))\n",
    "    \n",
    "# 결정된 중심값, 할당된 군집번호\n",
    "[centers, assignments] = sess.run([centroids, cluster_labels])"
   ]
  },
  {
   "cell_type": "code",
   "execution_count": 103,
   "metadata": {},
   "outputs": [
    {
     "name": "stdout",
     "output_type": "stream",
     "text": [
      "Accuracy : 0.89\n"
     ]
    }
   ],
   "source": [
    "# set : key의 중복을 불허한다.\n",
    "def most_common(my_list):\n",
    "    return (max(set(my_list), key=my_list.count))\n",
    "# 라벨링\n",
    "label0 = most_common(list(assignments[0:50]))\n",
    "label1 = most_common(list(assignments[50:100]))\n",
    "label2 = most_common(list(assignments[100:150]))\n",
    "\n",
    "group0_count = np.sum(assignments[0:50] == label0)\n",
    "group1_count = np.sum(assignments[50:100] == label1)\n",
    "group2_count = np.sum(assignments[100:150] == label2)\n",
    "\n",
    "accuracy = (group0_count + group1_count + group2_count) / 150.\n",
    "print(\"Accuracy : {:.2}\".format(accuracy))"
   ]
  },
  {
   "cell_type": "code",
   "execution_count": 112,
   "metadata": {},
   "outputs": [],
   "source": [
    "# 틱택토 게임 시작\n",
    "import tensorflow as tf\n",
    "import csv\n",
    "import random\n",
    "import numpy as np\n",
    "from tensorflow.python.framework import ops\n",
    "ops.reset_default_graph()"
   ]
  },
  {
   "cell_type": "code",
   "execution_count": 113,
   "metadata": {},
   "outputs": [],
   "source": [
    "response = 6\n",
    "batch_size = 50\n",
    "symmetry = [\"rotate180\", \"rotate90\", \"rotate270\", \"flip_v\", \"flip_h\"]"
   ]
  },
  {
   "cell_type": "code",
   "execution_count": 114,
   "metadata": {},
   "outputs": [],
   "source": [
    "# 말판\n",
    "def print_board(board):\n",
    "    symbols = [\"O\", \" \", \"X\"]\n",
    "    board_plus1 = [int(x) + 1 for x in board]\n",
    "    print(\" \" + symbols[board_plus1[0]] + \" | \" + symbols[board_plus1[1]]\n",
    "         + \" | \" + symbols[board_plus1[2]])\n",
    "    print(\"__________\")\n",
    "    print(\" \" + symbols[board_plus1[3]] + \" | \" + symbols[board_plus1[4]]\n",
    "         + \" | \" + symbols[board_plus1[5]])\n",
    "    print(\"__________\")\n",
    "    print(\" \" + symbols[board_plus1[6]] + \" | \" + symbols[board_plus1[7]]\n",
    "         + \" | \" + symbols[board_plus1[8]])"
   ]
  },
  {
   "cell_type": "code",
   "execution_count": 115,
   "metadata": {},
   "outputs": [],
   "source": [
    "# 다양한 경우를 충족하기 위해 변화\n",
    "def get_symmetry(board, response, transformation):\n",
    "    if transformation == \"rotate180\":\n",
    "        new_response = 8 - response\n",
    "        return (board[::-1], new_response)\n",
    "    elif transformation == \"rotate90\":\n",
    "        new_response = [6,3,0,7,4,1,8,5,2].index(response)\n",
    "        tuple_board = list(zip(*[board[6:9], board[3:6], board[0:3]]))\n",
    "        return ([value for item in tuple_board for value in item], new_response)\n",
    "    elif transformation == \"rotate270\":\n",
    "        new_response = [2,5,8,1,4,7,0,3,6].index(response)\n",
    "        tuple_board = list(zip(*[board[0:3], board[3:6], board[6:9]]))[::-1]\n",
    "        return ([value for item in tuple_board for value in item], new_response)\n",
    "    elif transformation == \"flip_v\": # vertical\n",
    "        new_response = [6,7,8,3,4,5,0,1,2].index(response)\n",
    "        return (board[6:9] + board[3:6] + board[0:3], new_response)\n",
    "    elif transformation == \"flip_h\": # horizontal\n",
    "        new_response = [2,1,0,5,4,3,8,7,6].index(response)\n",
    "        new_board = board[::-1]\n",
    "        return (new_board[6:9] + new_board[3:6] + new_board[0:3], new_response)\n",
    "    else:\n",
    "        raise ValueError(\"해당하는 경우가 없음\")"
   ]
  },
  {
   "cell_type": "code",
   "execution_count": 116,
   "metadata": {},
   "outputs": [],
   "source": [
    "# 파일로부터 말 규칙 로딩\n",
    "def get_moves_from_csv(csv_file):\n",
    "    moves = []\n",
    "    with open(csv_file, \"rt\") as csvfile:\n",
    "        reader = csv.reader(csvfile, delimiter = \",\")\n",
    "        for row in reader :\n",
    "            moves.append(([int(x) for x in row[0:9]], int(row[9])))\n",
    "    return (moves)"
   ]
  },
  {
   "cell_type": "code",
   "execution_count": 117,
   "metadata": {},
   "outputs": [],
   "source": [
    "def get_rand_move(moves, n=1, rand_transforms=2):\n",
    "    (board, response) = random.choice(moves)\n",
    "    possible_transforms = [\"rotate90\", \"rotate180\", \"rotate270\", \"flip_v\", \"flip_h\"]\n",
    "    \n",
    "    for i in range(rand_transforms):\n",
    "        random_transform = random.choice(possible_transforms)\n",
    "        (board, response) = get_symmetry(board, response, random_transform)\n",
    "        \n",
    "    return (board, response)"
   ]
  },
  {
   "cell_type": "code",
   "execution_count": 118,
   "metadata": {},
   "outputs": [],
   "source": [
    "moves = get_moves_from_csv(\"tictactoe_moves.csv\")\n",
    "train_length = 500\n",
    "train_set = []\n",
    "for t in range(train_length):\n",
    "    train_set.append(get_rand_move(moves))"
   ]
  },
  {
   "cell_type": "code",
   "execution_count": 119,
   "metadata": {},
   "outputs": [],
   "source": [
    "def init_weights(shape):\n",
    "    return(tf.Variable(tf.random_normal(shape)))"
   ]
  },
  {
   "cell_type": "code",
   "execution_count": 120,
   "metadata": {},
   "outputs": [],
   "source": [
    "def model(X, A1, A2, bias1, bias2):\n",
    "    layer1 = tf.nn.sigmoid(tf.add(tf.matmul(X, A1), bias1))\n",
    "    layer2 = tf.add(tf.matmul(layer1, A2), bias2)\n",
    "    return (layer2)"
   ]
  },
  {
   "cell_type": "code",
   "execution_count": 121,
   "metadata": {},
   "outputs": [],
   "source": [
    "X = tf.placeholder(dtype=tf.float32, shape=[None, 9])\n",
    "Y = tf.placeholder(dtype=tf.int32, shape=[None])\n",
    "A1 = init_weights([9, 81])\n",
    "bias1 = init_weights([81])\n",
    "A2 = init_weights([81, 9])\n",
    "bias2 = init_weights([9])\n",
    "model_output = model(X, A1, A2, bias1, bias2)\n",
    "\n",
    "# 분류 : 1~0사이의 확률값\n",
    "loss = tf.reduce_mean(tf.nn.sparse_softmax_cross_entropy_with_logits(logits = model_output, labels = Y)) # 확률\n",
    "train_step = tf.train.GradientDescentOptimizer(0.025).minimize(loss)\n",
    "prediction = tf.argmax(model_output, 1)\n",
    "sess = tf.Session()\n",
    "init = tf.global_variables_initializer()\n",
    "sess.run(init)"
   ]
  },
  {
   "cell_type": "code",
   "execution_count": 122,
   "metadata": {},
   "outputs": [
    {
     "name": "stdout",
     "output_type": "stream",
     "text": [
      "Iteration 0 Loss: 7.3570585\n",
      "Iteration 500 Loss: 1.7680413\n",
      "Iteration 1000 Loss: 1.5676608\n",
      "Iteration 1500 Loss: 1.3956932\n",
      "Iteration 2000 Loss: 1.3381006\n",
      "Iteration 2500 Loss: 1.2517333\n",
      "Iteration 3000 Loss: 1.2859079\n",
      "Iteration 3500 Loss: 1.0231106\n",
      "Iteration 4000 Loss: 1.056713\n",
      "Iteration 4500 Loss: 0.991197\n",
      "Iteration 5000 Loss: 1.0500451\n",
      "Iteration 5500 Loss: 1.0318258\n",
      "Iteration 6000 Loss: 0.93362963\n",
      "Iteration 6500 Loss: 0.75592536\n",
      "Iteration 7000 Loss: 0.82352346\n",
      "Iteration 7500 Loss: 0.7267734\n",
      "Iteration 8000 Loss: 0.74781775\n",
      "Iteration 8500 Loss: 0.71243757\n",
      "Iteration 9000 Loss: 0.7828669\n",
      "Iteration 9500 Loss: 0.76656175\n"
     ]
    }
   ],
   "source": [
    "loss_vec = []\n",
    "for i in range(10000):\n",
    "    # 50개를 임의적으로 선택\n",
    "    rand_indices = np.random.choice(range(len(train_set)), batch_size, replace = False)\n",
    "    batch_data = [train_set[i] for i in rand_indices]\n",
    "    x_input = [x[0] for x in batch_data]\n",
    "    y_target = np.array([y[1] for y in batch_data])\n",
    "    sess.run(train_step, feed_dict={X: x_input, Y: y_target})\n",
    "    temp_loss = sess.run(loss, feed_dict={X: x_input, Y: y_target})\n",
    "    loss_vec.append(temp_loss)\n",
    "    if i % 500 == 0 :\n",
    "        print(\"Iteration \" + str(i) + \" Loss: \" + str(temp_loss))"
   ]
  },
  {
   "cell_type": "code",
   "execution_count": 123,
   "metadata": {},
   "outputs": [],
   "source": [
    "test_board = [-1,0,0,1,-1,-1,0,0,1]\n",
    "train_set = [x for x in train_set if x[0] != test_board]"
   ]
  },
  {
   "cell_type": "code",
   "execution_count": 124,
   "metadata": {},
   "outputs": [],
   "source": [
    "# 게임의 승패 결정\n",
    "def check(board):\n",
    "    wins = [[0,1,2], [3,4,5], [6,7,8], [0,3,6], [1,4,7], [2,5,8], [0,4,8], [2,4,6]]\n",
    "    for i in range(len(wins)):\n",
    "        if board[wins[i][0]] == board[wins[i][1]] == board[wins[i][2]] == 1.:\n",
    "            return (1)\n",
    "        elif board[wins[i][0]] == board[wins[i][1]] == board[wins[i][2]] == -1.:\n",
    "            return (-1)\n",
    "    return (0)"
   ]
  },
  {
   "cell_type": "code",
   "execution_count": 127,
   "metadata": {
    "scrolled": true
   },
   "outputs": [
    {
     "name": "stdout",
     "output_type": "stream",
     "text": [
      "이동하고 싶은 인덱스를 입력하세요 (0-8):0\n",
      "모델이 이동하였습니다.\n",
      " X |   |  \n",
      "__________\n",
      "   | O |  \n",
      "__________\n",
      "   |   |  \n",
      "이동하고 싶은 인덱스를 입력하세요 (0-8):0\n",
      "모델이 이동하였습니다.\n",
      " X |   |  \n",
      "__________\n",
      "   | O |  \n",
      "__________\n",
      " O |   |  \n",
      "이동하고 싶은 인덱스를 입력하세요 (0-8):0\n",
      "모델이 이동하였습니다.\n",
      " X |   | O\n",
      "__________\n",
      "   | O |  \n",
      "__________\n",
      " O |   |  \n",
      "게임 종료! 졌습니다!\n"
     ]
    }
   ],
   "source": [
    "game_tracker = [0., 0., 0., 0., 0., 0., 0., 0., 0.]\n",
    "win_logical = False\n",
    "num_moves = 0\n",
    "while not win_logical:\n",
    "    player_index = input(\"이동하고 싶은 인덱스를 입력하세요 (0-8):\")\n",
    "    num_moves += 1\n",
    "    game_tracker[int(player_index)] = 1.\n",
    "    [potential_moves] = sess.run(model_output, feed_dict={X: [game_tracker]})\n",
    "    # 말여부를 확인해서 가능한 값을 선택\n",
    "    allowed_moves = [ix for ix, x in enumerate(game_tracker) if x == 0.0]\n",
    "    # 허락위치에 있는 것인지 확인\n",
    "    model_move = np.argmax([x if ix in allowed_moves else -999.0\n",
    "                           for ix, x in enumerate(potential_moves)])\n",
    "    game_tracker[int(model_move)] = -1.\n",
    "    print(\"모델이 이동하였습니다.\")\n",
    "    print_board(game_tracker)\n",
    "    if check(game_tracker) == 1 or num_moves >= 20:\n",
    "        print(\"게임 종료! 승리하였습니다!\")\n",
    "        win_logical = True\n",
    "    elif check(game_tracker) == -1:\n",
    "        print(\"게임 종료! 졌습니다!\")\n",
    "        win_logical = True\n",
    "# 틱택토 게임 끝"
   ]
  },
  {
   "cell_type": "code",
   "execution_count": 68,
   "metadata": {},
   "outputs": [],
   "source": [
    "%matplotlib inline\n",
    "import matplotlib.pyplot as plt\n",
    "import os\n",
    "\n",
    "def save_fig(fig_id, tight_layout=True):\n",
    "    path = os.path.join(\"./images/\", fig_id + \".png\")\n",
    "    print(\"Saving figure\", fig_id)\n",
    "    if tight_layout:\n",
    "        plt.tight_layout()\n",
    "    plt.savefig(path, format=\"png\", dpi=300)"
   ]
  },
  {
   "cell_type": "code",
   "execution_count": 84,
   "metadata": {},
   "outputs": [],
   "source": [
    "def reset_graph(seed=42):\n",
    "    tf.reset_default_graph()\n",
    "    tf.set_random_seed(seed)\n",
    "    np.random.seed(seed)"
   ]
  },
  {
   "cell_type": "code",
   "execution_count": 85,
   "metadata": {},
   "outputs": [],
   "source": [
    "from sklearn.datasets import load_sample_image\n",
    "china = load_sample_image(\"china.jpg\")\n",
    "# 70(높이:행), 120(가로:열)\n",
    "image = china[150:220, 130:250] # clipping\n",
    "height, width, channels = image.shape # channels : R,G,B 3개\n",
    "image_grayscale = image.mean(axis=2).astype(np.float32) # channels별(axis=2)로 묶어서 평균 계산\n",
    "images = image_grayscale.reshape(1, height, width, 1)"
   ]
  },
  {
   "cell_type": "code",
   "execution_count": 86,
   "metadata": {},
   "outputs": [],
   "source": [
    "# 흑백\n",
    "def plot_image(image):\n",
    "    plt.imshow(image, cmap=\"gray\", interpolation=\"nearest\") # interpolation : 보간법\n",
    "    plt.axis(\"off\") # 이미지 축 생략\n",
    "# 컬러\n",
    "def plot_color_image(image):\n",
    "    plt.imshow(image.astype(np.uint8), interpolation=\"nearest\")\n",
    "    plt.axis(\"off\")"
   ]
  },
  {
   "cell_type": "code",
   "execution_count": 110,
   "metadata": {},
   "outputs": [
    {
     "data": {
      "text/plain": [
       "array([[0., 0., 0., 0., 0., 0., 0.],\n",
       "       [0., 0., 0., 0., 0., 0., 0.],\n",
       "       [0., 0., 0., 0., 0., 0., 0.],\n",
       "       [1., 1., 1., 1., 1., 1., 1.],\n",
       "       [0., 0., 0., 0., 0., 0., 0.],\n",
       "       [0., 0., 0., 0., 0., 0., 0.],\n",
       "       [0., 0., 0., 0., 0., 0., 0.]], dtype=float32)"
      ]
     },
     "execution_count": 110,
     "metadata": {},
     "output_type": "execute_result"
    }
   ],
   "source": [
    "# filter 생성\n",
    "import numpy as np\n",
    "# shape=(filter의 높이, 가로, 입력채널, 출력채널)\n",
    "fmap = np.zeros(shape=(7,7,1,2), dtype=np.float32) # filter가 2개 필요하다.\n",
    "fmap[:, 3, 0, 0] = 1\n",
    "fmap[3, :, 0, 1] = 1 # 하얀게 가로로\n",
    "fmap[:, :, 0, 1]"
   ]
  },
  {
   "cell_type": "code",
   "execution_count": 88,
   "metadata": {},
   "outputs": [
    {
     "data": {
      "image/png": "[encoded data removed]",
      "text/plain": [
       "<Figure size 432x288 with 1 Axes>"
      ]
     },
     "metadata": {
      "needs_background": "light"
     },
     "output_type": "display_data"
    },
    {
     "name": "stdout",
     "output_type": "stream",
     "text": [
      "******************************************\n",
      "******************************************\n",
      "******************************************\n"
     ]
    },
    {
     "data": {
      "image/png": "[encoded data removed]",
      "text/plain": [
       "<Figure size 432x288 with 1 Axes>"
      ]
     },
     "metadata": {
      "needs_background": "light"
     },
     "output_type": "display_data"
    },
    {
     "name": "stdout",
     "output_type": "stream",
     "text": [
      "[[0. 0. 0. 1. 0. 0. 0.]\n",
      " [0. 0. 0. 1. 0. 0. 0.]\n",
      " [0. 0. 0. 1. 0. 0. 0.]\n",
      " [0. 0. 0. 1. 0. 0. 0.]\n",
      " [0. 0. 0. 1. 0. 0. 0.]\n",
      " [0. 0. 0. 1. 0. 0. 0.]\n",
      " [0. 0. 0. 1. 0. 0. 0.]]\n"
     ]
    }
   ],
   "source": [
    "plot_image(fmap[:, :, 0, 0])\n",
    "plt.show()\n",
    "print(\"******************************************\")\n",
    "print(\"******************************************\")\n",
    "print(\"******************************************\")\n",
    "plot_image(fmap[:, :, 0, 1])\n",
    "plt.show()\n",
    "print(fmap[:, :, 0, 0])\n"
   ]
  },
  {
   "cell_type": "code",
   "execution_count": 104,
   "metadata": {},
   "outputs": [],
   "source": [
    "reset_graph()\n",
    "X = tf.placeholder(tf.float32, shape=(None, height, width, 1))\n",
    "feature_maps = tf.constant(fmap)\n",
    "# convolution은 1d(text), 2d(image), 3d(동영상)\n",
    "# convolution, filter, padding, strides\n",
    "# 70 x 120 => 70 x 120 <- padding=\"SAME\"이므로 출력이미지도 똑같은 크기\n",
    "# * padding이 \"SAME\"이 아닌 경우 출력이미지 크기 : 64 x (120-7+1)\n",
    "# padding 옵션 : SAME, VALID\n",
    "convolution = tf.nn.conv2d(X, feature_maps, strides=[1,1,1,1], padding=\"SAME\", use_cudnn_on_gpu=False)"
   ]
  },
  {
   "cell_type": "code",
   "execution_count": 105,
   "metadata": {},
   "outputs": [],
   "source": [
    "with tf.Session() as sess:\n",
    "    output = convolution.eval(feed_dict={X: images})"
   ]
  },
  {
   "cell_type": "code",
   "execution_count": 106,
   "metadata": {},
   "outputs": [
    {
     "name": "stdout",
     "output_type": "stream",
     "text": [
      "Saving figure china_original\n"
     ]
    },
    {
     "data": {
      "image/png": "[encoded data removed]",
      "text/plain": [
       "<Figure size 432x288 with 1 Axes>"
      ]
     },
     "metadata": {
      "needs_background": "light"
     },
     "output_type": "display_data"
    }
   ],
   "source": [
    "plot_image(images[0, :, :, 0])\n",
    "save_fig(\"china_original\", tight_layout=False)\n",
    "plt.show()"
   ]
  },
  {
   "cell_type": "code",
   "execution_count": 107,
   "metadata": {},
   "outputs": [
    {
     "name": "stdout",
     "output_type": "stream",
     "text": [
      "Saving figure china_vertical\n"
     ]
    },
    {
     "data": {
      "image/png": "[encoded data removed]",
      "text/plain": [
       "<Figure size 432x288 with 1 Axes>"
      ]
     },
     "metadata": {
      "needs_background": "light"
     },
     "output_type": "display_data"
    }
   ],
   "source": [
    "plot_image(output[0, :, :, 0]) # 0번 필터 적용 : 세로줄\n",
    "save_fig(\"china_vertical\", tight_layout=False)\n",
    "plt.show()"
   ]
  },
  {
   "cell_type": "code",
   "execution_count": 108,
   "metadata": {},
   "outputs": [
    {
     "name": "stdout",
     "output_type": "stream",
     "text": [
      "Saving figure china_horizontal\n"
     ]
    },
    {
     "data": {
      "image/png": "[encoded data removed]",
      "text/plain": [
       "<Figure size 432x288 with 1 Axes>"
      ]
     },
     "metadata": {
      "needs_background": "light"
     },
     "output_type": "display_data"
    }
   ],
   "source": [
    "plot_image(output[0, :, :, 1]) # 1번 필터 적용 : 가로줄\n",
    "save_fig(\"china_horizontal\", tight_layout=False)\n",
    "plt.show()"
   ]
  },
  {
   "cell_type": "code",
   "execution_count": null,
   "metadata": {},
   "outputs": [],
   "source": []
  }
 ],
 "metadata": {
  "kernelspec": {
   "display_name": "Python 3",
   "language": "python",
   "name": "python3"
  },
  "language_info": {
   "codemirror_mode": {
    "name": "ipython",
    "version": 3
   },
   "file_extension": ".py",
   "mimetype": "text/x-python",
   "name": "python",
   "nbconvert_exporter": "python",
   "pygments_lexer": "ipython3",
   "version": "3.7.4"
  }
 },
 "nbformat": 4,
 "nbformat_minor": 2
}
