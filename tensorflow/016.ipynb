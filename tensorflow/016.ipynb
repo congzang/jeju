{
 "cells": [
  {
   "cell_type": "code",
   "execution_count": 3,
   "metadata": {},
   "outputs": [
    {
     "name": "stdout",
     "output_type": "stream",
     "text": [
      "1.14.0\n"
     ]
    }
   ],
   "source": [
    "# >> conda install tensorflow=1.14.0\n",
    "import tensorflow as tf\n",
    "print(tf.__version__)"
   ]
  },
  {
   "cell_type": "code",
   "execution_count": 2,
   "metadata": {},
   "outputs": [
    {
     "name": "stderr",
     "output_type": "stream",
     "text": [
      "C:\\Users\\ICT01_08\\Anaconda3\\envs\\tf_test\\lib\\site-packages\\tensorflow\\python\\framework\\dtypes.py:516: FutureWarning: Passing (type, 1) or '1type' as a synonym of type is deprecated; in a future version of numpy, it will be understood as (type, (1,)) / '(1,)type'.\n",
      "  _np_qint8 = np.dtype([(\"qint8\", np.int8, 1)])\n",
      "C:\\Users\\ICT01_08\\Anaconda3\\envs\\tf_test\\lib\\site-packages\\tensorflow\\python\\framework\\dtypes.py:517: FutureWarning: Passing (type, 1) or '1type' as a synonym of type is deprecated; in a future version of numpy, it will be understood as (type, (1,)) / '(1,)type'.\n",
      "  _np_quint8 = np.dtype([(\"quint8\", np.uint8, 1)])\n",
      "C:\\Users\\ICT01_08\\Anaconda3\\envs\\tf_test\\lib\\site-packages\\tensorflow\\python\\framework\\dtypes.py:518: FutureWarning: Passing (type, 1) or '1type' as a synonym of type is deprecated; in a future version of numpy, it will be understood as (type, (1,)) / '(1,)type'.\n",
      "  _np_qint16 = np.dtype([(\"qint16\", np.int16, 1)])\n",
      "C:\\Users\\ICT01_08\\Anaconda3\\envs\\tf_test\\lib\\site-packages\\tensorflow\\python\\framework\\dtypes.py:519: FutureWarning: Passing (type, 1) or '1type' as a synonym of type is deprecated; in a future version of numpy, it will be understood as (type, (1,)) / '(1,)type'.\n",
      "  _np_quint16 = np.dtype([(\"quint16\", np.uint16, 1)])\n",
      "C:\\Users\\ICT01_08\\Anaconda3\\envs\\tf_test\\lib\\site-packages\\tensorflow\\python\\framework\\dtypes.py:520: FutureWarning: Passing (type, 1) or '1type' as a synonym of type is deprecated; in a future version of numpy, it will be understood as (type, (1,)) / '(1,)type'.\n",
      "  _np_qint32 = np.dtype([(\"qint32\", np.int32, 1)])\n",
      "C:\\Users\\ICT01_08\\Anaconda3\\envs\\tf_test\\lib\\site-packages\\tensorflow\\python\\framework\\dtypes.py:525: FutureWarning: Passing (type, 1) or '1type' as a synonym of type is deprecated; in a future version of numpy, it will be understood as (type, (1,)) / '(1,)type'.\n",
      "  np_resource = np.dtype([(\"resource\", np.ubyte, 1)])\n"
     ]
    },
    {
     "name": "stdout",
     "output_type": "stream",
     "text": [
      "Tensor(\"Const:0\", shape=(), dtype=string)\n",
      "b'Hello, TensorFlow!'\n"
     ]
    },
    {
     "name": "stderr",
     "output_type": "stream",
     "text": [
      "C:\\Users\\ICT01_08\\Anaconda3\\envs\\tf_test\\lib\\site-packages\\tensorboard\\compat\\tensorflow_stub\\dtypes.py:541: FutureWarning: Passing (type, 1) or '1type' as a synonym of type is deprecated; in a future version of numpy, it will be understood as (type, (1,)) / '(1,)type'.\n",
      "  _np_qint8 = np.dtype([(\"qint8\", np.int8, 1)])\n",
      "C:\\Users\\ICT01_08\\Anaconda3\\envs\\tf_test\\lib\\site-packages\\tensorboard\\compat\\tensorflow_stub\\dtypes.py:542: FutureWarning: Passing (type, 1) or '1type' as a synonym of type is deprecated; in a future version of numpy, it will be understood as (type, (1,)) / '(1,)type'.\n",
      "  _np_quint8 = np.dtype([(\"quint8\", np.uint8, 1)])\n",
      "C:\\Users\\ICT01_08\\Anaconda3\\envs\\tf_test\\lib\\site-packages\\tensorboard\\compat\\tensorflow_stub\\dtypes.py:543: FutureWarning: Passing (type, 1) or '1type' as a synonym of type is deprecated; in a future version of numpy, it will be understood as (type, (1,)) / '(1,)type'.\n",
      "  _np_qint16 = np.dtype([(\"qint16\", np.int16, 1)])\n",
      "C:\\Users\\ICT01_08\\Anaconda3\\envs\\tf_test\\lib\\site-packages\\tensorboard\\compat\\tensorflow_stub\\dtypes.py:544: FutureWarning: Passing (type, 1) or '1type' as a synonym of type is deprecated; in a future version of numpy, it will be understood as (type, (1,)) / '(1,)type'.\n",
      "  _np_quint16 = np.dtype([(\"quint16\", np.uint16, 1)])\n",
      "C:\\Users\\ICT01_08\\Anaconda3\\envs\\tf_test\\lib\\site-packages\\tensorboard\\compat\\tensorflow_stub\\dtypes.py:545: FutureWarning: Passing (type, 1) or '1type' as a synonym of type is deprecated; in a future version of numpy, it will be understood as (type, (1,)) / '(1,)type'.\n",
      "  _np_qint32 = np.dtype([(\"qint32\", np.int32, 1)])\n",
      "C:\\Users\\ICT01_08\\Anaconda3\\envs\\tf_test\\lib\\site-packages\\tensorboard\\compat\\tensorflow_stub\\dtypes.py:550: FutureWarning: Passing (type, 1) or '1type' as a synonym of type is deprecated; in a future version of numpy, it will be understood as (type, (1,)) / '(1,)type'.\n",
      "  np_resource = np.dtype([(\"resource\", np.ubyte, 1)])\n"
     ]
    }
   ],
   "source": [
    "# 데이터 타입\n",
    "import tensorflow as tf\n",
    "\n",
    "# tensorflow 변수 - constant, variables, placeholder\n",
    "hello = tf.constant(\"Hello, TensorFlow!\") # 상수 선언\n",
    "\n",
    "sess = tf.Session()\n",
    "print(hello) # tensorflow의 데이터는 직접 확인이 불가하다.\n",
    "print(sess.run(hello)) # numpy데이터로 변환하여 출력된다."
   ]
  },
  {
   "cell_type": "code",
   "execution_count": 107,
   "metadata": {},
   "outputs": [
    {
     "name": "stdout",
     "output_type": "stream",
     "text": [
      "<tf.Variable 'y_1:0' shape=() dtype=int32_ref>\n"
     ]
    }
   ],
   "source": [
    "x = tf.constant(35, name = \"x\")\n",
    "# 모델의 그라프 구조 확인\n",
    "# 모델을 그대로 저장할 때 메모리 위치를 확인하기 위해서\n",
    "y = tf.Variable(x+5, name = \"y\") # 변수가 있는 경우 반드시 초기화\n",
    "\n",
    "print(y)"
   ]
  },
  {
   "cell_type": "code",
   "execution_count": 7,
   "metadata": {},
   "outputs": [
    {
     "name": "stdout",
     "output_type": "stream",
     "text": [
      "40\n"
     ]
    }
   ],
   "source": [
    "model = tf.global_variables_initializer() # 변수초기화\n",
    "with tf.Session() as session:\n",
    "    session.run(model)\n",
    "    print(session.run(y))"
   ]
  },
  {
   "cell_type": "code",
   "execution_count": 11,
   "metadata": {},
   "outputs": [
    {
     "name": "stdout",
     "output_type": "stream",
     "text": [
      "[5 7 9]\n"
     ]
    }
   ],
   "source": [
    "# Pandas에서 데이터 초기화 -> list, dict에 담아서\n",
    "# 요소끼리 계산(행렬연산X, 배열 연산)\n",
    "a = tf.constant([1,2,3], name = \"a\") # GPU\n",
    "b = tf.constant([4,5,6], name = \"b\")\n",
    "add_op = a + b\n",
    "\n",
    "with tf.Session() as session:\n",
    "    print(session.run(add_op))"
   ]
  },
  {
   "cell_type": "code",
   "execution_count": 14,
   "metadata": {},
   "outputs": [],
   "source": [
    "# 자료구조가 Graph로 구성되어진다.\n",
    "# 여기서는 구조만 만드는 것이다.(계산구조, Graph구조)\n",
    "#  -> session이 연결되어야 수행\n",
    "a = tf.placeholder(tf.int16) #  데이터 없이 공간만 확보\n",
    "b = tf.placeholder(tf.int16)\n",
    "add = tf.add(a,b)\n",
    "mul = tf.multiply(a,b)\n",
    "total = tf.multiply(add, mul)"
   ]
  },
  {
   "cell_type": "code",
   "execution_count": 18,
   "metadata": {},
   "outputs": [
    {
     "name": "stdout",
     "output_type": "stream",
     "text": [
      "feed 변수 합 5\n",
      "feed 변수 곱 6\n",
      "feed 변수 곱 6\n"
     ]
    }
   ],
   "source": [
    "# with가 끝나면 sess는 사라짐\n",
    "with tf.Session() as sess:\n",
    "    print(\"feed 변수 합 %i\" % sess.run(add, # 데이터 주입 호출\n",
    "                                   feed_dict = {a:2, b:3}))\n",
    "    print(\"feed 변수 곱 %i\" % sess.run(mul,\n",
    "                                   feed_dict = {a:2, b:3}))\n",
    "    print(\"feed 변수 곱 %i\" % sess.run(total,\n",
    "                                   feed_dict = {a:1, b:2})) # add, mul 다 호출함"
   ]
  },
  {
   "cell_type": "code",
   "execution_count": 20,
   "metadata": {},
   "outputs": [
    {
     "name": "stdout",
     "output_type": "stream",
     "text": [
      "[[12.]]\n"
     ]
    }
   ],
   "source": [
    "matrix1 = tf.constant([[3., 3.]]) # 1x2\n",
    "matrix2 = tf.constant([[2.], [2.]]) # 2x1\n",
    "product = tf.matmul(matrix1, matrix2) # 행렬곱\n",
    "\n",
    "with tf.Session() as sess:\n",
    "    result = sess.run(product)\n",
    "    print(result)"
   ]
  },
  {
   "cell_type": "code",
   "execution_count": 68,
   "metadata": {},
   "outputs": [],
   "source": [
    "zeros = tf.zeros([2,2]) # 0\n",
    "ones = tf.ones([6]) # 1\n",
    "# 균등분포\n",
    "uniform = tf.random_uniform([3,3,3], minval=0.0, maxval=10)\n",
    "# 정규분포\n",
    "normal = tf.random_normal([3,3,3], mean=0.0, stddev=2.0)\n",
    "#표준편차 2배 내의 것으로 초기화\n",
    "trunc = tf.truncated_normal([2,2], mean=5.0, stddev=1.0)\n",
    "random_var = tf.Variable(tf.truncated_normal([2,2]))"
   ]
  },
  {
   "cell_type": "code",
   "execution_count": 69,
   "metadata": {},
   "outputs": [
    {
     "name": "stdout",
     "output_type": "stream",
     "text": [
      "[[6.1066513 6.233135 ]\n",
      " [4.6417885 5.8903728]]\n",
      "변수초기화 [[-0.48440027 -0.88966125]\n",
      " [ 0.9074482   0.9246764 ]]\n"
     ]
    }
   ],
   "source": [
    "sess = tf.Session()\n",
    "print(sess.run(trunc))\n",
    "\n",
    "init = tf.global_variables_initializer() # 변수초기화\n",
    "sess.run(init)\n",
    "print(\"변수초기화\", sess.run(random_var))"
   ]
  },
  {
   "cell_type": "code",
   "execution_count": 37,
   "metadata": {},
   "outputs": [
    {
     "name": "stdout",
     "output_type": "stream",
     "text": [
      "<class 'tensorflow.python.framework.tensor_shape.TensorShape'>\n",
      "(6, 2)\n",
      "(2, 6)\n"
     ]
    }
   ],
   "source": [
    "import tensorflow as tf\n",
    "my_tensor = tf.constant(0, shape=[6,2]) # 6x2행렬 => 상수화\n",
    "my_static_shape = my_tensor.get_shape()\n",
    "print(type(my_static_shape))\n",
    "print(my_static_shape) # 내용은 run으로 확인, shape는 get_shape()로 확인\n",
    "\n",
    "my_tensor_transposed = tf.transpose(my_tensor)\n",
    "print(my_tensor_transposed.get_shape())"
   ]
  },
  {
   "cell_type": "code",
   "execution_count": 39,
   "metadata": {},
   "outputs": [
    {
     "name": "stdout",
     "output_type": "stream",
     "text": [
      "[0. 0.]\n"
     ]
    },
    {
     "name": "stderr",
     "output_type": "stream",
     "text": [
      "C:\\Users\\ICT01_08\\Anaconda3\\envs\\tf_test\\lib\\site-packages\\tensorflow\\python\\client\\session.py:1735: UserWarning: An interactive session is already active. This can cause out-of-memory errors in some cases. You must explicitly call `InteractiveSession.close()` to release resources held by the other session(s).\n",
      "  warnings.warn('An interactive session is already active. This can '\n"
     ]
    }
   ],
   "source": [
    "import tensorflow as tf\n",
    "tf.InteractiveSession() # 대화형 세션\n",
    "tf.zeros(2)\n",
    "a = tf.zeros(2)\n",
    "print(a.eval()) # interactive session일 경우에는 eval() 쓰면 내용을 확인할 수 있다.(run() 안 사용해도)"
   ]
  },
  {
   "cell_type": "code",
   "execution_count": 45,
   "metadata": {},
   "outputs": [],
   "source": [
    "def showvalue(t):\n",
    "    sess = tf.InteractiveSession()\n",
    "    tf.global_variables_initializer().run()\n",
    "    print(t.eval())\n",
    "    sess.close()"
   ]
  },
  {
   "cell_type": "code",
   "execution_count": 47,
   "metadata": {},
   "outputs": [
    {
     "name": "stdout",
     "output_type": "stream",
     "text": [
      "[ 3.5 10.1]\n",
      "[-8  5 17]\n"
     ]
    }
   ],
   "source": [
    "c2, c3 = tf.constant([1.2, 5.6]), tf.constant([-4, -1, 7])\n",
    "v2, v3 = tf.constant([2.3, 4.5]), tf.constant([-2, 3, 5])\n",
    "showvalue(tf.add_n([c2, v2]))\n",
    "showvalue(tf.add_n([c3, v3, v3])) # 여러개가 가능하도록 함"
   ]
  },
  {
   "cell_type": "code",
   "execution_count": 71,
   "metadata": {
    "scrolled": true
   },
   "outputs": [
    {
     "name": "stdout",
     "output_type": "stream",
     "text": [
      "[[ 2.  1.  1.]\n",
      " [ 4.  3.  4.]\n",
      " [-4.  2.  2.]]\n",
      "[[ 1.]\n",
      " [ 2.]\n",
      " [-6.]]\n",
      "\n",
      "계수:\n",
      " [[ 1.0000001]\n",
      " [-2.0000002]\n",
      " [ 1.0000001]]\n",
      "[[ 1.0000001]\n",
      " [-2.0000002]\n",
      " [ 1.0000001]]\n",
      "1)2x +  y +  z =  1 검산=> [1.0000001]\n",
      "2)3개 방정식 검산=>\n",
      " [[ 1.0000001]\n",
      " [ 2.       ]\n",
      " [-6.000001 ]]\n",
      "해:\n",
      " [[ 1.0000002]\n",
      " [-2.0000005]\n",
      " [ 1.0000002]]\n"
     ]
    }
   ],
   "source": [
    "#  2x +  y +  z =  1\n",
    "#  4x + 3y + 4z =  2\n",
    "# -4x + 2y + 2z = -6\n",
    "# A dot x = [1, 2, -6] # 행렬나누기 -> 역행렬 곱\n",
    "#       y\n",
    "#       z\n",
    "sess = tf.Session()\n",
    "x = tf.constant([2.0, 1.0, 1.0, 4, 3, 4, -4, 2, 2], shape=[3,3])\n",
    "print(sess.run(x))\n",
    "\n",
    "y = tf.constant([1.0,2,-6], shape=[3,1])\n",
    "print(sess.run(y))\n",
    "\n",
    "z = tf.matrix_solve(x, y) # x의 역행렬을 구하고 y와 행렬곱(matrix_inverse(x) -> matmul(x_1, y)의 결과와 같음)\n",
    "result = sess.run(z)\n",
    "print(\"\\n계수:\\n\", result)\n",
    "print(sess.run(z)) # 1, -2, 1\n",
    "# 검산\n",
    "# 2*1 + (-2) + 1 = 1\n",
    "\n",
    "print(\"1)2x +  y +  z =  1 검산=>\", 2.0 * result[0] + 1.0 * result[1] + 1.0 * result[2])\n",
    "print(\"2)3개 방정식 검산=>\\n\", sess.run(tf.matmul(x, z)))\n",
    "\n",
    "x_1 = tf.matrix_inverse(x)\n",
    "z = tf.matmul(x_1, y)\n",
    "print(\"해:\\n\", sess.run(z)) # 1, -2, 1"
   ]
  },
  {
   "cell_type": "code",
   "execution_count": 79,
   "metadata": {},
   "outputs": [
    {
     "name": "stdout",
     "output_type": "stream",
     "text": [
      "[9.508034   0.77286935]\n",
      "[[-0.38631773 -0.92236584]\n",
      " [-0.92236584  0.38631773]]\n",
      "[[-0.42866713  0.8059641 ]\n",
      " [-0.56630695  0.1123824 ]\n",
      " [-0.70394677 -0.58119917]]\n"
     ]
    }
   ],
   "source": [
    "# svd(Singular Value decomposition)\n",
    "# PCA - 고윳값 분해 eigenvalue + eigenvector : 정방행렬에만 가능(행과 열의 수가 같은)\n",
    "a = tf.constant([1, 2, 3 ,4, 5, 6], shape=[2,3])\n",
    "a = tf.to_float(a)\n",
    "# 행과 열의 특징을 별도로 뽑음\n",
    "# 정방행렬\n",
    "# truncate : \n",
    "s, u, v = tf.svd(a) # singular value, u(2x2), s(1x2), v(3x2)\n",
    "print(sess.run(s))\n",
    "print(sess.run(u))\n",
    "print(sess.run(v))"
   ]
  },
  {
   "cell_type": "code",
   "execution_count": 84,
   "metadata": {},
   "outputs": [
    {
     "name": "stdout",
     "output_type": "stream",
     "text": [
      "[[1 0 0 0]\n",
      " [0 2 0 0]\n",
      " [0 0 3 0]\n",
      " [0 0 0 4]]\n",
      "diag_part(dia) : [1 2 3 4]\n",
      "trace(dia) : 10\n"
     ]
    }
   ],
   "source": [
    "# 대각행렬\n",
    "diagonal = [1,2,3,4]\n",
    "dia = tf.diag(diagonal) # 대각행렬 - One-hot-encoding\n",
    "print(sess.run(dia))\n",
    "print(\"diag_part(dia) :\", sess.run(tf.diag_part(dia))) # 대각선요소만\n",
    "print(\"trace(dia) :\", sess.run(tf.trace(dia))) # 대각요소의 합"
   ]
  },
  {
   "cell_type": "code",
   "execution_count": 13,
   "metadata": {},
   "outputs": [
    {
     "data": {
      "text/plain": [
       "array([[ 58,  64],\n",
       "       [139, 154]])"
      ]
     },
     "execution_count": 13,
     "metadata": {},
     "output_type": "execute_result"
    }
   ],
   "source": [
    "import numpy as np\n",
    "a = tf.constant([1,2,3,4,5,6], shape=[2,3])\n",
    "b = tf.constant([7,8,9,10,11,12], shape=[3,2])\n",
    "c = tf.matmul(a, b)\n",
    "sess.run(c)"
   ]
  },
  {
   "cell_type": "code",
   "execution_count": 14,
   "metadata": {},
   "outputs": [
    {
     "name": "stdout",
     "output_type": "stream",
     "text": [
      "[[[ 1  2  3]\n",
      "  [ 4  5  6]]\n",
      "\n",
      " [[ 7  8  9]\n",
      "  [10 11 12]]]\n",
      "[[[13 14]\n",
      "  [15 16]\n",
      "  [17 18]]\n",
      "\n",
      " [[19 20]\n",
      "  [21 22]\n",
      "  [23 24]]]\n"
     ]
    },
    {
     "data": {
      "text/plain": [
       "array([[[ 94, 100],\n",
       "        [229, 244]],\n",
       "\n",
       "       [[508, 532],\n",
       "        [697, 730]]])"
      ]
     },
     "execution_count": 14,
     "metadata": {},
     "output_type": "execute_result"
    }
   ],
   "source": [
    "# 행열 : 행과 열을 확인하고 앞의 것은 개수(어떻게 층을 이루고 있는가)\n",
    "a = tf.constant(np.arange(1, 13, dtype=np.int32), shape=[2,2,3]) # 두번째 세번째 인덱스만(2x3), 행렬을 중심하고 데이터 표현\n",
    "print(sess.run(a))\n",
    "b = tf.constant(np.arange(13, 25, dtype=np.int32), shape=[2,3,2]) # 두번째 세번째 인덱스만(3x2)\n",
    "print(sess.run(b))\n",
    "c = tf.matmul(a, b)\n",
    "sess.run(c) # 2x2x2"
   ]
  },
  {
   "cell_type": "code",
   "execution_count": 15,
   "metadata": {},
   "outputs": [
    {
     "name": "stdout",
     "output_type": "stream",
     "text": [
      "run(a) >>\n",
      " [[[[ 1  2  3]\n",
      "   [ 4  5  6]]\n",
      "\n",
      "  [[ 7  8  9]\n",
      "   [10 11 12]]]\n",
      "\n",
      "\n",
      " [[[13 14 15]\n",
      "   [16 17 18]]\n",
      "\n",
      "  [[19 20 21]\n",
      "   [22 23 24]]]]\n",
      "\n",
      "run(b) >>\n",
      " [[[[25 26]\n",
      "   [27 28]\n",
      "   [29 30]]\n",
      "\n",
      "  [[31 32]\n",
      "   [33 34]\n",
      "   [35 36]]]\n",
      "\n",
      "\n",
      " [[[37 38]\n",
      "   [39 40]\n",
      "   [41 42]]\n",
      "\n",
      "  [[43 44]\n",
      "   [45 46]\n",
      "   [47 48]]]]\n",
      "\n",
      "run(c) >>\n",
      " [[[[ 166  172]\n",
      "   [ 409  424]]\n",
      "\n",
      "  [[ 796  820]\n",
      "   [1093 1126]]]\n",
      "\n",
      "\n",
      " [[[1642 1684]\n",
      "   [1993 2044]]\n",
      "\n",
      "  [[2704 2764]\n",
      "   [3109 3178]]]]\n"
     ]
    }
   ],
   "source": [
    "a = tf.constant(np.arange(1, 25, dtype=np.int32), shape=[2, 2, 2, 3]) # 두번째 세번째 인덱스만(2x3), 행렬을 중심하고 데이터 표현\n",
    "print(\"run(a) >>\\n\", sess.run(a))\n",
    "b = tf.constant(np.arange(25, 49, dtype=np.int32), shape=[2, 2, 3, 2]) # 두번째 세번째 인덱스만(3x2)\n",
    "print(\"\\nrun(b) >>\\n\",sess.run(b))\n",
    "c = tf.matmul(a, b)\n",
    "\n",
    "print(\"\\nrun(c) >>\\n\",sess.run(c)) # 2x2 => 4개"
   ]
  },
  {
   "cell_type": "code",
   "execution_count": 16,
   "metadata": {
    "scrolled": true
   },
   "outputs": [
    {
     "name": "stdout",
     "output_type": "stream",
     "text": [
      "[[[[  14   32]\n",
      "   [  32   77]]\n",
      "\n",
      "  [[ 194  266]\n",
      "   [ 266  365]]]\n",
      "\n",
      "\n",
      " [[[ 590  716]\n",
      "   [ 716  869]]\n",
      "\n",
      "  [[1202 1382]\n",
      "   [1382 1589]]]]\n"
     ]
    },
    {
     "data": {
      "text/plain": [
       "<tf.Tensor 'MatMul_4:0' shape=(2, 2, 2, 2) dtype=int32>"
      ]
     },
     "execution_count": 16,
     "metadata": {},
     "output_type": "execute_result"
    }
   ],
   "source": [
    "# a를 제곱한다면 : 자기 자신을 제곱하려면 전치시켜야 한다.\n",
    "d = tf.matmul(a, tf.transpose(a, perm=[0,1,3,2]))\n",
    "print(sess.run(d))\n",
    "tf.matmul(a, a, transpose_b= True) # 전치해서 자기제곱"
   ]
  },
  {
   "cell_type": "code",
   "execution_count": 20,
   "metadata": {},
   "outputs": [
    {
     "name": "stdout",
     "output_type": "stream",
     "text": [
      "[2 2 3]\n"
     ]
    },
    {
     "data": {
      "text/plain": [
       "array([[[ 1,  7],\n",
       "        [ 4, 10]],\n",
       "\n",
       "       [[ 2,  8],\n",
       "        [ 5, 11]],\n",
       "\n",
       "       [[ 3,  9],\n",
       "        [ 6, 12]]])"
      ]
     },
     "execution_count": 20,
     "metadata": {},
     "output_type": "execute_result"
    }
   ],
   "source": [
    "# 0 1 2 4\n",
    "# 4x2x2x3\n",
    "x = tf.constant([[[1,2,3], [4,5,6]], [[7,8,9], [10,11,12]]])\n",
    "print(sess.run(tf.shape(x)))\n",
    "sess.run(tf.transpose(x))"
   ]
  },
  {
   "cell_type": "code",
   "execution_count": 23,
   "metadata": {},
   "outputs": [
    {
     "data": {
      "text/plain": [
       "array([[[ 1,  7],\n",
       "        [ 2,  8],\n",
       "        [ 3,  9]],\n",
       "\n",
       "       [[ 4, 10],\n",
       "        [ 5, 11],\n",
       "        [ 6, 12]]])"
      ]
     },
     "execution_count": 23,
     "metadata": {},
     "output_type": "execute_result"
    }
   ],
   "source": [
    "y = tf.transpose(x, perm=[0,2,1])\n",
    "sess.run(tf.transpose(y))"
   ]
  },
  {
   "cell_type": "code",
   "execution_count": 25,
   "metadata": {},
   "outputs": [
    {
     "data": {
      "text/plain": [
       "array([[[ 14,  32],\n",
       "        [ 32,  77]],\n",
       "\n",
       "       [[194, 266],\n",
       "        [266, 365]]])"
      ]
     },
     "execution_count": 25,
     "metadata": {},
     "output_type": "execute_result"
    }
   ],
   "source": [
    "sess.run(tf.matmul(x, tf.transpose(x, perm=[0,2,1])))"
   ]
  },
  {
   "cell_type": "code",
   "execution_count": 31,
   "metadata": {},
   "outputs": [
    {
     "data": {
      "text/plain": [
       "array([[[[[[1]],\n",
       "\n",
       "          [[2]],\n",
       "\n",
       "          [[3]]]],\n",
       "\n",
       "\n",
       "\n",
       "        [[[[4]],\n",
       "\n",
       "          [[5]],\n",
       "\n",
       "          [[6]]]]]])"
      ]
     },
     "execution_count": 31,
     "metadata": {},
     "output_type": "execute_result"
    }
   ],
   "source": [
    "t = [1,2,3,4,5,6]\n",
    "t = tf.reshape(t, [1,2,1,3,1,1])\n",
    "sess.run(t)"
   ]
  },
  {
   "cell_type": "code",
   "execution_count": 33,
   "metadata": {},
   "outputs": [
    {
     "name": "stdout",
     "output_type": "stream",
     "text": [
      "t의 차원은 [1 2 1 3 1 1]\n"
     ]
    }
   ],
   "source": [
    "print(\"t의 차원은\", sess.run(tf.shape(t)))"
   ]
  },
  {
   "cell_type": "code",
   "execution_count": 35,
   "metadata": {},
   "outputs": [
    {
     "name": "stdout",
     "output_type": "stream",
     "text": [
      "차원의 수를 축소할 때 :  [2 3]\n"
     ]
    }
   ],
   "source": [
    "print(\"차원의 수를 축소할 때 : \", sess.run(tf.shape(tf.squeeze(t))))\n",
    "# 요소 수가 1개인 차원을 모두 없애버림\n",
    "# => [1 2 1 3 1 1] 이 차원에서는 1 다 없애고, 2,3만 남음"
   ]
  },
  {
   "cell_type": "code",
   "execution_count": 40,
   "metadata": {},
   "outputs": [
    {
     "name": "stdout",
     "output_type": "stream",
     "text": [
      "sess.run(tf.reshape(tensor, [2, -1]))\n",
      "[[ 1  2  3  4  5  6]\n",
      " [ 7  8  9 10 11 12]]\n",
      "\n",
      "sess.run(tf.reshape(tensor, [2, -1,3]))\n",
      "[[[ 1  2  3]\n",
      "  [ 4  5  6]]\n",
      "\n",
      " [[ 7  8  9]\n",
      "  [10 11 12]]]\n"
     ]
    }
   ],
   "source": [
    "tensor = [1,2,3,4,5,6,7,8,9,10,11,12]\n",
    "print(\"sess.run(tf.reshape(tensor, [2, -1]))\")\n",
    "print(sess.run(tf.reshape(tensor, [2, -1])))\n",
    "tf.reshape(tensor, [-1, 6])\n",
    "print(\"\\nsess.run(tf.reshape(tensor, [2, -1,3]))\")\n",
    "print(sess.run(tf.reshape(tensor, [2, -1,3])))"
   ]
  },
  {
   "cell_type": "code",
   "execution_count": 43,
   "metadata": {},
   "outputs": [
    {
     "name": "stdout",
     "output_type": "stream",
     "text": [
      "Tensor(\"ExpandDims_2:0\", shape=(1, 1, 2, 1, 3, 1, 1), dtype=int32)\n"
     ]
    }
   ],
   "source": [
    "# t = [1 2 1 3 1 1] -> 차원확대 => 1, 1, 2, 1, 3, 1, 1(맨 앞에 1추가)\n",
    "print(tf.expand_dims(t, 0)) # 차원 확대"
   ]
  },
  {
   "cell_type": "code",
   "execution_count": 50,
   "metadata": {
    "scrolled": true
   },
   "outputs": [
    {
     "name": "stdout",
     "output_type": "stream",
     "text": [
      "[[0 0 0 0 0 0 0]\n",
      " [0 0 1 2 3 0 0]\n",
      " [0 0 4 5 6 0 0]\n",
      " [0 0 0 0 0 0 0]]\n"
     ]
    }
   ],
   "source": [
    "# padding 충전재\n",
    "t = [[1,2,3], [4,5,6]] # 2x3\n",
    "paddings = [[1,1,],[2,2]] # 2x3 => 4x7\n",
    "print(sess.run(tf.pad(t, paddings, \"constant\")))"
   ]
  },
  {
   "cell_type": "code",
   "execution_count": 52,
   "metadata": {},
   "outputs": [
    {
     "name": "stdout",
     "output_type": "stream",
     "text": [
      "[[5 4 5 6 5]\n",
      " [2 1 2 3 2]\n",
      " [5 4 5 6 5]\n",
      " [2 1 2 3 2]]\n"
     ]
    }
   ],
   "source": [
    "# 수를 채우는 방법\n",
    "paddings = [[1,1,], [1,1]] # 4x5\n",
    "print(sess.run(tf.pad(t, paddings, \"reflect\")))"
   ]
  },
  {
   "cell_type": "code",
   "execution_count": 55,
   "metadata": {},
   "outputs": [
    {
     "name": "stdout",
     "output_type": "stream",
     "text": [
      "[[1 1 2 3 3]\n",
      " [1 1 2 3 3]\n",
      " [4 4 5 6 6]\n",
      " [4 4 5 6 6]]\n"
     ]
    }
   ],
   "source": [
    "print(sess.run(tf.pad(t, paddings, \"symmetric\")))"
   ]
  },
  {
   "cell_type": "code",
   "execution_count": null,
   "metadata": {},
   "outputs": [],
   "source": [
    "# 다차 방정식의 해\n",
    "#  - 무작위 대입법\n",
    "#  - 역행렬을 구함(계수, y값이 다 결정되었을 경우 사용)\n",
    "#\n",
    "# 입출력 데이터만 아는 경우에는?\n",
    "#   => 가중치 학습을 통해서 학습 -> 계수 결정"
   ]
  },
  {
   "cell_type": "code",
   "execution_count": 57,
   "metadata": {},
   "outputs": [
    {
     "data": {
      "text/plain": [
       "100"
      ]
     },
     "execution_count": 57,
     "metadata": {},
     "output_type": "execute_result"
    }
   ],
   "source": [
    "import numpy as np\n",
    "import tensorflow as tf\n",
    "\n",
    "# 데이터 생성 => minibatch -> feeding\n",
    "x_data = np.random.rand(100).astype(np.float32)\n",
    "y_data= x_data * 0.1 + 0.3 # y_data:실제값\n",
    "len(y_data)"
   ]
  },
  {
   "cell_type": "code",
   "execution_count": 76,
   "metadata": {},
   "outputs": [],
   "source": [
    "# 설명력\n",
    "# bias 는 activation 활성화\n",
    "# 가중치에는 꼭 bias가 1개씩 결합\n",
    "x = tf.placeholder(tf.float32, name=\"x\")\n",
    "y = tf.placeholder(tf.float32)\n",
    "\n",
    "W = tf.Variable(tf.random_uniform([1], -1.0, 1.0)) # 가중치(균등분포)\n",
    "b = tf.Variable(tf.zeros([1])) # bias\n",
    "sess = tf.Session()\n",
    "y_model = W * x + b # 예측함수(y:예측치)"
   ]
  },
  {
   "cell_type": "code",
   "execution_count": 77,
   "metadata": {},
   "outputs": [],
   "source": [
    "# loss function - MSE(2차원인 경우 포물선을 이루고 최적점은 1개)\n",
    "loss = tf.reduce_mean(tf.square(y_model - y)) # MSE, reduce_mean:전부 더하여 평균을 구함\n",
    "# 경사하강법\n",
    "# 기울기 : 미분을 이용해서 => 기울기가 -(음)이면 가중치에 차를 더함\n",
    "#                          => 기울기가 +(양)이면 가중치에 감함\n",
    "optimizer = tf.train.GradientDescentOptimizer(0.5) # 학습율:0.5\n",
    "train = optimizer.minimize(loss) # minimize : loss함수를 최적화"
   ]
  },
  {
   "cell_type": "code",
   "execution_count": 78,
   "metadata": {},
   "outputs": [],
   "source": [
    "init = tf.global_variables_initializer()\n",
    "sess.run(init)"
   ]
  },
  {
   "cell_type": "code",
   "execution_count": 88,
   "metadata": {},
   "outputs": [
    {
     "name": "stdout",
     "output_type": "stream",
     "text": [
      "0 [0.1000001] [0.29999995]\n",
      "20 [0.1000001] [0.29999995]\n",
      "40 [0.1000001] [0.29999995]\n",
      "60 [0.1000001] [0.29999995]\n",
      "80 [0.1000001] [0.29999995]\n",
      "100 [0.1000001] [0.29999995]\n",
      "120 [0.1000001] [0.29999995]\n",
      "140 [0.1000001] [0.29999995]\n",
      "160 [0.1000001] [0.29999995]\n",
      "180 [0.1000001] [0.29999995]\n",
      "200 [0.1000001] [0.29999995]\n"
     ]
    }
   ],
   "source": [
    "for step in range(201):\n",
    "    sess.run(train, {x:x_data, y:y_data})\n",
    "    if step % 20 == 0:\n",
    "        print(step, sess.run(W), sess.run(b))"
   ]
  },
  {
   "cell_type": "code",
   "execution_count": 92,
   "metadata": {},
   "outputs": [],
   "source": [
    "predicted = sess.run(y_model, {x:[i for i in range(100)]})"
   ]
  },
  {
   "cell_type": "code",
   "execution_count": 95,
   "metadata": {},
   "outputs": [
    {
     "data": {
      "image/png": "[encoded data removed]",
      "text/plain": [
       "<Figure size 432x288 with 1 Axes>"
      ]
     },
     "metadata": {
      "needs_background": "light"
     },
     "output_type": "display_data"
    }
   ],
   "source": [
    "%matplotlib inline\n",
    "import matplotlib.pyplot as plt\n",
    "plt.plot(x_data, y_data, \"o\", markersize = 5)\n",
    "plt.plot(predicted, \"r\")\n",
    "plt.show()"
   ]
  },
  {
   "cell_type": "code",
   "execution_count": 99,
   "metadata": {},
   "outputs": [],
   "source": [
    "from tensorflow.python.framework import ops\n",
    "import os\n",
    "ops.reset_default_graph()"
   ]
  },
  {
   "cell_type": "code",
   "execution_count": 100,
   "metadata": {},
   "outputs": [
    {
     "name": "stdout",
     "output_type": "stream",
     "text": [
      "[1. 3. 5. 7. 9.]\n",
      "[ 3.  9. 15. 21. 27.]\n",
      "[ 5. 15. 25. 35. 45.]\n",
      "[ 7. 21. 35. 49. 63.]\n",
      "[ 9. 27. 45. 63. 81.]\n"
     ]
    }
   ],
   "source": [
    "sess = tf.Session()\n",
    "x_vals = np.array([1., 3., 5., 7., 9.])\n",
    "y_vals = np.array([1., 3., 5., 7., 9.])\n",
    "x_data = tf.placeholder(tf.float32)\n",
    "y_data = tf.placeholder(tf.float32)\n",
    "m = tf.constant(3.)\n",
    "prod = tf.multiply(x_data, y_data)\n",
    "for x_val in x_vals :\n",
    "    print(sess.run(prod, feed_dict = {x_data: x_val, y_data: y_vals}))\n",
    "    "
   ]
  },
  {
   "cell_type": "code",
   "execution_count": 105,
   "metadata": {},
   "outputs": [],
   "source": [
    "merged = tf.summary.merge_all()\n",
    "if not os.path.exists(\"c://tmp/tensorboard_logs/\"):\n",
    "    os.makedirs(\"c://tmp/tensorboard_logs/\")\n",
    "    \n",
    "my_writer = tf.summary.FileWriter(\"c://tmp/tensorboard_logs/\", sess.graph)\n",
    "# anaconda prompt에서\n",
    "# tensorboard --logdir=/tmp\n",
    "# 결과출력 URL\n",
    "# http://localhost:6006/"
   ]
  },
  {
   "cell_type": "code",
   "execution_count": 107,
   "metadata": {},
   "outputs": [],
   "source": [
    "import numpy\n",
    "rng = numpy.random\n",
    "\n",
    "learning_rate = 0.01\n",
    "training_epochs = 4000\n",
    "display_step = 50\n",
    "\n",
    "train_X = numpy.asarray([3.3,4.4,5.5,6.71,6.93,4.168,9.779,6.182,7.59,2.167,7.042,10.791,5.313,7.997,5.654,9.27,3.1])\n",
    "train_Y = numpy.asarray([1.7,2.76,2.09,3.19,1.694,1.573,3.366,2.596,2.53,1.221,2.827,3.465,1.65,2.904,2.42,2.94,1.3]) "
   ]
  },
  {
   "cell_type": "code",
   "execution_count": 123,
   "metadata": {},
   "outputs": [],
   "source": [
    "n_samples = train_X.shape[0] # 차수 [0]:행의 수=>Data Point(관측치), [1]:열의 수=>변수의 개수\n",
    "X = tf.placeholder(\"float\")\n",
    "Y = tf.placeholder(\"float\")\n",
    "W = tf.Variable(rng.randn(), name=\"weight\")\n",
    "b = tf.Variable(rng.randn(), name=\"bias\")\n",
    "activation = tf.add(tf.multiply(X, W), b) # y = ax + b (activation:예측치)\n",
    "# minibatch size를 고려\n",
    "cost = tf.reduce_sum(tf.pow(activation-Y, 2)) / (2*n_samples)\n",
    "\n",
    "# 역전파\n",
    "# momentum: 가던 방향으로 데이터를 고려\n",
    "optimizer = tf.train.GradientDescentOptimizer(learning_rate).minimize(cost) # learning_rate - hyper parameter\n",
    "init = tf.initialize_all_variables()"
   ]
  },
  {
   "cell_type": "code",
   "execution_count": 125,
   "metadata": {},
   "outputs": [
    {
     "name": "stdout",
     "output_type": "stream",
     "text": [
      "Epoch: 0001 cost= 27.891872406 W= -0.6249829 b= -0.9113383\n",
      "Epoch: 0051 cost= 0.209601864 W= 0.4531931 b= -0.66321415\n",
      "Epoch: 0101 cost= 0.194279894 W= 0.4410841 b= -0.5761026\n",
      "Epoch: 0151 cost= 0.180727378 W= 0.42969528 b= -0.49417245\n",
      "Epoch: 0201 cost= 0.168739885 W= 0.41898373 b= -0.41711465\n",
      "Epoch: 0251 cost= 0.158136785 W= 0.40890938 b= -0.34464008\n",
      "Epoch: 0301 cost= 0.148758233 W= 0.39943412 b= -0.27647546\n",
      "Epoch: 0351 cost= 0.140462920 W= 0.39052242 b= -0.21236536\n",
      "Epoch: 0401 cost= 0.133125678 W= 0.38214073 b= -0.15206796\n",
      "Epoch: 0451 cost= 0.126635954 W= 0.3742575 b= -0.09535684\n",
      "Epoch: 0501 cost= 0.120895892 W= 0.3668432 b= -0.04201854\n",
      "Epoch: 0551 cost= 0.115818925 W= 0.3598698 b= 0.008147477\n",
      "Epoch: 0601 cost= 0.111328460 W= 0.3533111 b= 0.05533\n",
      "Epoch: 0651 cost= 0.107356831 W= 0.34714252 b= 0.09970626\n",
      "Epoch: 0701 cost= 0.103844076 W= 0.3413409 b= 0.14144316\n",
      "Epoch: 0751 cost= 0.100737207 W= 0.3358842 b= 0.18069804\n",
      "Epoch: 0801 cost= 0.097989373 W= 0.3307521 b= 0.21761817\n",
      "Epoch: 0851 cost= 0.095559075 W= 0.32592526 b= 0.25234246\n",
      "Epoch: 0901 cost= 0.093409702 W= 0.3213854 b= 0.28500146\n",
      "Epoch: 0951 cost= 0.091508768 W= 0.31711555 b= 0.31571817\n",
      "Epoch: 1001 cost= 0.089827590 W= 0.31309977 b= 0.34460768\n",
      "Epoch: 1051 cost= 0.088340759 W= 0.30932274 b= 0.37177932\n",
      "Epoch: 1101 cost= 0.087025814 W= 0.30577034 b= 0.3973354\n",
      "Epoch: 1151 cost= 0.085862972 W= 0.30242926 b= 0.4213706\n",
      "Epoch: 1201 cost= 0.084834620 W= 0.29928684 b= 0.4439765\n",
      "Epoch: 1251 cost= 0.083925188 W= 0.29633132 b= 0.46523833\n",
      "Epoch: 1301 cost= 0.083120927 W= 0.2935515 b= 0.4852361\n",
      "Epoch: 1351 cost= 0.082409762 W= 0.29093722 b= 0.5040437\n",
      "Epoch: 1401 cost= 0.081780925 W= 0.28847834 b= 0.5217327\n",
      "Epoch: 1451 cost= 0.081224822 W= 0.2861656 b= 0.5383701\n",
      "Epoch: 1501 cost= 0.080733061 W= 0.28399044 b= 0.55401826\n",
      "Epoch: 1551 cost= 0.080298275 W= 0.2819446 b= 0.5687357\n",
      "Epoch: 1601 cost= 0.079913832 W= 0.2800204 b= 0.5825785\n",
      "Epoch: 1651 cost= 0.079573900 W= 0.27821073 b= 0.59559745\n",
      "Epoch: 1701 cost= 0.079273395 W= 0.2765086 b= 0.607842\n",
      "Epoch: 1751 cost= 0.079007678 W= 0.2749078 b= 0.6193583\n",
      "Epoch: 1801 cost= 0.078772821 W= 0.27340233 b= 0.630188\n",
      "Epoch: 1851 cost= 0.078565188 W= 0.27198642 b= 0.6403739\n",
      "Epoch: 1901 cost= 0.078381620 W= 0.27065477 b= 0.64995366\n",
      "Epoch: 1951 cost= 0.078219369 W= 0.26940238 b= 0.6589634\n",
      "Epoch: 2001 cost= 0.078075916 W= 0.2682243 b= 0.66743857\n",
      "Epoch: 2051 cost= 0.077949136 W= 0.26711634 b= 0.6754092\n",
      "Epoch: 2101 cost= 0.077837057 W= 0.266074 b= 0.68290704\n",
      "Epoch: 2151 cost= 0.077738009 W= 0.2650939 b= 0.68995816\n",
      "Epoch: 2201 cost= 0.077650480 W= 0.26417205 b= 0.6965899\n",
      "Epoch: 2251 cost= 0.077573121 W= 0.26330492 b= 0.7028281\n",
      "Epoch: 2301 cost= 0.077504747 W= 0.2624894 b= 0.7086951\n",
      "Epoch: 2351 cost= 0.077444360 W= 0.26172227 b= 0.7142131\n",
      "Epoch: 2401 cost= 0.077390984 W= 0.261001 b= 0.71940243\n",
      "Epoch: 2451 cost= 0.077343859 W= 0.26032254 b= 0.7242834\n",
      "Epoch: 2501 cost= 0.077302195 W= 0.2596844 b= 0.728874\n",
      "Epoch: 2551 cost= 0.077265404 W= 0.25908405 b= 0.7331926\n",
      "Epoch: 2601 cost= 0.077232920 W= 0.2585196 b= 0.73725355\n",
      "Epoch: 2651 cost= 0.077204198 W= 0.25798854 b= 0.7410736\n",
      "Epoch: 2701 cost= 0.077178881 W= 0.25748917 b= 0.7446664\n",
      "Epoch: 2751 cost= 0.077156492 W= 0.2570194 b= 0.7480455\n",
      "Epoch: 2801 cost= 0.077136748 W= 0.25657773 b= 0.75122356\n",
      "Epoch: 2851 cost= 0.077119298 W= 0.25616226 b= 0.75421256\n",
      "Epoch: 2901 cost= 0.077103920 W= 0.25577143 b= 0.7570235\n",
      "Epoch: 2951 cost= 0.077090360 W= 0.2554038 b= 0.759668\n",
      "Epoch: 3001 cost= 0.077078365 W= 0.25505814 b= 0.7621548\n",
      "Epoch: 3051 cost= 0.077067800 W= 0.254733 b= 0.7644943\n",
      "Epoch: 3101 cost= 0.077058472 W= 0.25442713 b= 0.7666942\n",
      "Epoch: 3151 cost= 0.077050254 W= 0.25413954 b= 0.7687629\n",
      "Epoch: 3201 cost= 0.077042975 W= 0.25386894 b= 0.7707098\n",
      "Epoch: 3251 cost= 0.077036604 W= 0.25361446 b= 0.7725404\n",
      "Epoch: 3301 cost= 0.077030972 W= 0.25337535 b= 0.77426124\n",
      "Epoch: 3351 cost= 0.077026017 W= 0.25315022 b= 0.77588063\n",
      "Epoch: 3401 cost= 0.077021651 W= 0.25293836 b= 0.77740437\n",
      "Epoch: 3451 cost= 0.077017784 W= 0.25273928 b= 0.7788371\n",
      "Epoch: 3501 cost= 0.077014409 W= 0.25255206 b= 0.78018355\n",
      "Epoch: 3551 cost= 0.077011436 W= 0.25237596 b= 0.78145015\n",
      "Epoch: 3601 cost= 0.077008821 W= 0.25221023 b= 0.7826421\n",
      "Epoch: 3651 cost= 0.077006504 W= 0.25205445 b= 0.7837636\n",
      "Epoch: 3701 cost= 0.077004485 W= 0.25190774 b= 0.7848187\n",
      "Epoch: 3751 cost= 0.077002712 W= 0.25176996 b= 0.78581\n",
      "Epoch: 3801 cost= 0.077001162 W= 0.2516407 b= 0.78673947\n",
      "Epoch: 3851 cost= 0.076999784 W= 0.25151923 b= 0.7876131\n",
      "Epoch: 3901 cost= 0.076998577 W= 0.2514049 b= 0.7884361\n",
      "Epoch: 3951 cost= 0.076997526 W= 0.2512975 b= 0.78920865\n",
      "최적화 종료\n",
      "cost= 0.076996624 W= 0.2511981 b= 0.7899238\n"
     ]
    },
    {
     "data": {
      "image/png": "[encoded data removed]",
      "text/plain": [
       "<Figure size 432x288 with 1 Axes>"
      ]
     },
     "metadata": {
      "needs_background": "light"
     },
     "output_type": "display_data"
    }
   ],
   "source": [
    "# session을 연결하기 전까지는 graph를 정의\n",
    "# node( 연산 ) + edge( 데이터 전달 : tensor(배열적 요소 + 행렬적 요소) )\n",
    "# 전제조건 : GPU가 존재한다. => GPU와 CPU를 네트워크로 연결한다.\n",
    "with tf.Session() as sess:\n",
    "    sess.run(init)\n",
    "    for epoch in range(training_epochs):\n",
    "        for(x,y) in zip(train_X, train_Y):\n",
    "            sess.run(optimizer, feed_dict = {X: x, Y: y})\n",
    "            \n",
    "        # accuracy : 점점 증가\n",
    "        if epoch % display_step == 0: # 비용함수 : 점점 감소(우하향곡선)\n",
    "            print(\"Epoch:\", \"%04d\" % (epoch+1), \"cost=\", \"{:.9f}\".format(sess.run(cost, feed_dict={X: train_X, Y:train_Y})),\n",
    "                 \"W=\", sess.run(W), \"b=\", sess.run(b))\n",
    "    print(\"최적화 종료\")\n",
    "    print(\"cost=\", sess.run(cost, feed_dict={X: train_X, Y:train_Y}), \"W=\", sess.run(W), \"b=\", sess.run(b)) # 수렴값\n",
    "    plt.plot(train_X, train_Y, \"ro\", label=\"Original Data\")\n",
    "    \n",
    "    # predict 한 결과값 출력\n",
    "    plt.plot(train_X, sess.run(W) * train_X + sess.run(b), label = \"Fitted Line\")\n",
    "    plt.legend()\n",
    "    plt.show()"
   ]
  },
  {
   "cell_type": "code",
   "execution_count": 128,
   "metadata": {},
   "outputs": [],
   "source": [
    "# tensor - 직접 시각화하는 것이 불가능하다. => numpy format으로 변환한다.\n",
    "import tensorflow as tf\n",
    "def run_variable(variable):\n",
    "    tf.global_variables_initializer()\n",
    "    with tf.Session() as sess:\n",
    "        return sess.run(variable)"
   ]
  },
  {
   "cell_type": "code",
   "execution_count": 132,
   "metadata": {},
   "outputs": [],
   "source": [
    "my_distribution = tf.random_uniform((600,400), seed=42) # 전체 데이터수 24개\n",
    "uniform = run_variable(my_distribution)"
   ]
  },
  {
   "cell_type": "code",
   "execution_count": 134,
   "metadata": {},
   "outputs": [
    {
     "data": {
      "image/png": "[encoded data removed]",
      "text/plain": [
       "<Figure size 432x288 with 1 Axes>"
      ]
     },
     "metadata": {
      "needs_background": "light"
     },
     "output_type": "display_data"
    }
   ],
   "source": [
    "from matplotlib import pyplot as plt\n",
    "plt.hist(uniform.flatten()) # 1차원으로 데이터 생성(데이터가 메모리 저장되는 방식 1차원)\n",
    "plt.show()\n",
    "# 데이터 개수에 따라 균등분포를 이루기도 하고 이루지 않기도 한다."
   ]
  },
  {
   "cell_type": "code",
   "execution_count": 171,
   "metadata": {},
   "outputs": [
    {
     "name": "stdout",
     "output_type": "stream",
     "text": [
      "[-10.          -9.7979798   -9.5959596   -9.39393939  -9.19191919\n",
      "  -8.98989899  -8.78787879  -8.58585859  -8.38383838  -8.18181818\n",
      "  -7.97979798  -7.77777778  -7.57575758  -7.37373737  -7.17171717\n",
      "  -6.96969697  -6.76767677  -6.56565657  -6.36363636  -6.16161616\n",
      "  -5.95959596  -5.75757576  -5.55555556  -5.35353535  -5.15151515\n",
      "  -4.94949495  -4.74747475  -4.54545455  -4.34343434  -4.14141414\n",
      "  -3.93939394  -3.73737374  -3.53535354  -3.33333333  -3.13131313\n",
      "  -2.92929293  -2.72727273  -2.52525253  -2.32323232  -2.12121212\n",
      "  -1.91919192  -1.71717172  -1.51515152  -1.31313131  -1.11111111\n",
      "  -0.90909091  -0.70707071  -0.50505051  -0.3030303   -0.1010101\n",
      "   0.1010101    0.3030303    0.50505051   0.70707071   0.90909091\n",
      "   1.11111111   1.31313131   1.51515152   1.71717172   1.91919192\n",
      "   2.12121212   2.32323232   2.52525253   2.72727273   2.92929293\n",
      "   3.13131313   3.33333333   3.53535354   3.73737374   3.93939394\n",
      "   4.14141414   4.34343434   4.54545455   4.74747475   4.94949495\n",
      "   5.15151515   5.35353535   5.55555556   5.75757576   5.95959596\n",
      "   6.16161616   6.36363636   6.56565657   6.76767677   6.96969697\n",
      "   7.17171717   7.37373737   7.57575758   7.77777778   7.97979798\n",
      "   8.18181818   8.38383838   8.58585859   8.78787879   8.98989899\n",
      "   9.19191919   9.39393939   9.5959596    9.7979798   10.        ]\n"
     ]
    }
   ],
   "source": [
    "# activation 함수 : 회귀인지 분류인지를 결정\n",
    "#  - 비선형 매핑 : 선형대수->비선형문제로 변경\n",
    "#  - 가중치를 깊게하고, 활성화함수 매핑으로 XOR문제를 해결\n",
    "import tensorflow as tf\n",
    "import numpy as np\n",
    "import matplotlib.pyplot as plt\n",
    "from tensorflow.python.framework import ops\n",
    "ops.reset_default_graph() # 그라프 초기화\n",
    "sess = tf.Session()\n",
    "\n",
    "x_vals = np.linspace(start = -10., stop = 10., num = 100)\n",
    "print(x_vals)"
   ]
  },
  {
   "cell_type": "code",
   "execution_count": 172,
   "metadata": {},
   "outputs": [
    {
     "name": "stdout",
     "output_type": "stream",
     "text": [
      "[-0.  3. 10.]\n",
      "[0.26894143 0.5        0.7310586 ]\n",
      "[-0.7615942  0.         0.7615942]\n",
      "[-0.63212055  0.          1.        ]\n",
      "[0.31326166 0.6931472  1.3132616 ]\n",
      "[-0.9999546  -0.99994444 -0.999932   -0.99991677 -0.99989814 -0.99987534\n",
      " -0.99984743 -0.99981327 -0.99977147 -0.99972031 -0.99965769 -0.99958106\n",
      " -0.99948727 -0.99937248 -0.999232   -0.99906006 -0.99884964 -0.9985921\n",
      " -0.99827691 -0.99789116 -0.99741905 -0.99684124 -0.99613408 -0.99526861\n",
      " -0.99420938 -0.99291301 -0.99132643 -0.98938465 -0.98700817 -0.98409965\n",
      " -0.98053999 -0.97618343 -0.97085155 -0.96432601 -0.95633957 -0.94656519\n",
      " -0.9346026  -0.9199619  -0.90204355 -0.88011378 -0.85327452 -0.82042669\n",
      " -0.78022512 -0.73102351 -0.67080701 -0.59710968 -0.50691352 -0.3965249\n",
      " -0.26142329 -0.0960761   0.1010101   0.3030303   0.50505051  0.70707071\n",
      "  0.90909091  1.11111111  1.31313131  1.51515152  1.71717172  1.91919192\n",
      "  2.12121212  2.32323232  2.52525253  2.72727273  2.92929293  3.13131313\n",
      "  3.33333333  3.53535354  3.73737374  3.93939394  4.14141414  4.34343434\n",
      "  4.54545455  4.74747475  4.94949495  5.15151515  5.35353535  5.55555556\n",
      "  5.75757576  5.95959596  6.16161616  6.36363636  6.56565657  6.76767677\n",
      "  6.96969697  7.17171717  7.37373737  7.57575758  7.77777778  7.97979798\n",
      "  8.18181818  8.38383838  8.58585859  8.78787879  8.98989899  9.19191919\n",
      "  9.39393939  9.5959596   9.7979798  10.        ]\n",
      "[4.53988992e-05 5.55621925e-05 6.80006294e-05 8.32234827e-05\n",
      " 1.01854002e-04 1.24654915e-04 1.52559623e-04 1.86710374e-04\n",
      " 2.28504961e-04 2.79653838e-04 3.42249995e-04 4.18854392e-04\n",
      " 5.12600439e-04 6.27321712e-04 7.67708042e-04 9.39496227e-04\n",
      " 1.14970295e-03 1.40690911e-03 1.72160671e-03 2.10662180e-03\n",
      " 2.57762963e-03 3.15378152e-03 3.85846667e-03 4.72023638e-03\n",
      " 5.77392318e-03 7.06199264e-03 8.63617122e-03 1.05593993e-02\n",
      " 1.29081631e-02 1.57752639e-02 1.92730804e-02 2.35373794e-02\n",
      " 2.87317129e-02 3.50524161e-02 4.27341757e-02 5.20560700e-02\n",
      " 6.33478781e-02 7.69963170e-02 9.34506760e-02 1.13227094e-01\n",
      " 1.36910472e-01 1.65152775e-01 1.98666320e-01 2.38210660e-01\n",
      " 2.84571982e-01 3.38534624e-01 4.00845440e-01 4.72173209e-01\n",
      " 5.53066799e-01 6.43916968e-01 7.44927069e-01 8.56097102e-01\n",
      " 9.77223714e-01 1.10791615e+00 1.24762553e+00 1.39568309e+00\n",
      " 1.55134197e+00 1.71381783e+00 1.88232449e+00 2.05610239e+00\n",
      " 2.23443922e+00 2.41668300e+00 2.60224884e+00 2.79062061e+00\n",
      " 2.98134900e+00 3.17404731e+00 3.36838575e+00 3.56408525e+00\n",
      " 3.76091112e+00 3.95866702e+00 4.15718941e+00 4.35634251e+00\n",
      " 4.55601394e+00 4.75611092e+00 4.95655694e+00 5.15728907e+00\n",
      " 5.35825559e+00 5.55941402e+00 5.76072954e+00 5.96217359e+00\n",
      " 6.16372278e+00 6.36535797e+00 6.56706347e+00 6.76882647e+00\n",
      " 6.97063647e+00 7.17248488e+00 7.37436470e+00 7.57627018e+00\n",
      " 7.77819663e+00 7.98014023e+00 8.18209784e+00 8.38406689e+00\n",
      " 8.58604530e+00 8.78803135e+00 8.99002364e+00 9.19202105e+00\n",
      " 9.39402262e+00 9.59602760e+00 9.79803536e+00 1.00000454e+01]\n"
     ]
    },
    {
     "data": {
      "image/png": "[encoded data removed]",
      "text/plain": [
       "<Figure size 432x288 with 1 Axes>"
      ]
     },
     "metadata": {
      "needs_background": "light"
     },
     "output_type": "display_data"
    },
    {
     "data": {
      "image/png": "[encoded data removed]",
      "text/plain": [
       "<Figure size 432x288 with 1 Axes>"
      ]
     },
     "metadata": {
      "needs_background": "light"
     },
     "output_type": "display_data"
    }
   ],
   "source": [
    "# ReLU\n",
    "print(sess.run(tf.nn.relu([-3., 3., 10.]))) # 0 ~ oo(무한대)\n",
    "y_relu = sess.run(tf.nn.relu(x_vals))\n",
    "\n",
    "# Sigmoid\n",
    "print(sess.run(tf.nn.sigmoid([-1., 0., 1.]))) # 0 ~ 1\n",
    "y_sigmoid = sess.run(tf.nn.sigmoid(x_vals))\n",
    "\n",
    "# Tanh\n",
    "print(sess.run(tf.nn.tanh([-1., 0., 1.]))) # -1 ~ 1\n",
    "y_tanh = sess.run(tf.nn.tanh(x_vals))\n",
    "\n",
    "# ExpLU\n",
    "print(sess.run(tf.nn.elu([-1., 0., 1.]))) # -1 ~ oo(무한대) (elu는 relu의 수정본)\n",
    "y_elu = sess.run(tf.nn.elu(x_vals))\n",
    "\n",
    "# Softplus\n",
    "print(sess.run(tf.nn.softplus([-1., 0., 1.]))) # 각진 단점 보완\n",
    "y_softplus = sess.run(tf.nn.softplus(x_vals))\n",
    "\n",
    "print(y_elu)\n",
    "print(y_softplus)\n",
    "\n",
    "plt.plot(x_vals, y_relu, \"b:\", label=\"ReLU\", linewidth=2)\n",
    "plt.plot(x_vals, y_elu, \"k-\", label=\"ExpLU\", linewidth=0.5)\n",
    "plt.plot(x_vals, y_softplus, \"r--\", label=\"Softplus\", linewidth=2)\n",
    "plt.ylim([-1.5, 7])\n",
    "plt.legend(loc=\"upper left\")\n",
    "plt.show()\n",
    "\n",
    "plt.plot(x_vals, y_sigmoid, \"r--\", label=\"Sigmoid\", linewidth=2)\n",
    "plt.plot(x_vals, y_tanh, \"b:\", label=\"Tanh\", linewidth=2)\n",
    "plt.ylim([-2, 2])\n",
    "plt.legend(loc=\"upper left\")\n",
    "plt.show()"
   ]
  },
  {
   "cell_type": "code",
   "execution_count": 173,
   "metadata": {},
   "outputs": [],
   "source": [
    "ops.reset_default_graph() # 그라프 초기화\n",
    "sess = tf.Session()\n",
    "\n",
    "# seed값 초기화\n",
    "tf.set_random_seed(5)\n",
    "np.random.seed(42)\n",
    "\n",
    "batch_size = 50\n",
    "a1 = tf.Variable(tf.random_normal(shape=[1,1]))  # 가중치\n",
    "b1 = tf.Variable(tf.random_uniform(shape=[1,1])) # bias\n",
    "a2 = tf.Variable(tf.random_normal(shape=[1,1]))\n",
    "b2 = tf.Variable(tf.random_uniform(shape=[1,1]))\n",
    "x = np.random.normal(2, 0.1, 500)\n",
    "\n",
    "# shape=[None, 1] : placeholder 크기를 fix하지 않고 입력데이터로부터 계산\n",
    "# 행데이터로 생성\n",
    "x_data = tf.placeholder(shape=[None, 1], dtype=tf.float32)"
   ]
  },
  {
   "cell_type": "code",
   "execution_count": 174,
   "metadata": {},
   "outputs": [
    {
     "name": "stdout",
     "output_type": "stream",
     "text": [
      "\n",
      " Sigmod AND Relu 함수의 최적화 0.75\n"
     ]
    }
   ],
   "source": [
    "# y = ax + b\n",
    "# sigmoid:0 ~ 1값으로 mapping\n",
    "sigmoid_activation = tf.sigmoid(tf.add(tf.matmul(x_data, a1), b1))\n",
    "# relu : 0 ~ oo(무한대)값으로 mapping\n",
    "relu_activation = tf.nn.relu(tf.add(tf.matmul(x_data, a2), b2))\n",
    "# 0.75로 수렴하는 과정\n",
    "# MSE를 사용\n",
    "loss1 = tf.reduce_mean(tf.square(tf.subtract(sigmoid_activation, 0.75)))\n",
    "loss2 = tf.reduce_mean(tf.square(tf.subtract(relu_activation, 0.75)))\n",
    "init = tf.global_variables_initializer()\n",
    "sess.run(init)\n",
    "my_opt = tf.train.GradientDescentOptimizer(0.01)\n",
    "train_step_sigmoid = my_opt.minimize(loss1)\n",
    "train_step_relu = my_opt.minimize(loss2)\n",
    "print(\"\\n Sigmod AND Relu 함수의 최적화 0.75\")"
   ]
  },
  {
   "cell_type": "code",
   "execution_count": 175,
   "metadata": {},
   "outputs": [],
   "source": [
    "# loss 값을 저장하기 위한 배열\n",
    "loss_vec_sigmoid = []\n",
    "loss_vec_relu = []"
   ]
  },
  {
   "cell_type": "code",
   "execution_count": 176,
   "metadata": {},
   "outputs": [
    {
     "name": "stdout",
     "output_type": "stream",
     "text": [
      "0 sigmoid = 0.12655206 relu = 2.0227606\n",
      "50 sigmoid = 0.17863758 relu = 0.7530296\n",
      "100 sigmoid = 0.24769813 relu = 0.7492897\n",
      "150 sigmoid = 0.3446748 relu = 0.7499546\n",
      "200 sigmoid = 0.4400661 relu = 0.7539999\n",
      "250 sigmoid = 0.5236898 relu = 0.754772\n",
      "300 sigmoid = 0.58373857 relu = 0.7508698\n",
      "350 sigmoid = 0.62733483 relu = 0.7470234\n",
      "400 sigmoid = 0.6549499 relu = 0.75180537\n",
      "450 sigmoid = 0.67452586 relu = 0.75470716\n"
     ]
    },
    {
     "data": {
      "image/png": "[encoded data removed]",
      "text/plain": [
       "<Figure size 432x288 with 1 Axes>"
      ]
     },
     "metadata": {
      "needs_background": "light"
     },
     "output_type": "display_data"
    }
   ],
   "source": [
    "for i in range(500):\n",
    "    rand_indices = np.random.choice(len(x), size=batch_size)\n",
    "    x_vals = np.transpose([x[rand_indices]]) # 모양을 맞추기 위해\n",
    "    sess.run(train_step_sigmoid, feed_dict={x_data:x_vals})\n",
    "    sess.run(train_step_relu, feed_dict={x_data:x_vals})\n",
    "    loss_vec_sigmoid.append(sess.run(loss1, feed_dict={x_data: x_vals}))\n",
    "    loss_vec_relu.append(sess.run(loss2, feed_dict={x_data: x_vals}))\n",
    "    \n",
    "    sigmoid_output = np.mean(sess.run(sigmoid_activation, feed_dict={x_data: x_vals}))\n",
    "    relu_output = np.mean(sess.run(relu_activation, feed_dict={x_data: x_vals}))\n",
    "    \n",
    "    if i % 50 == 0:\n",
    "        print(i, \"sigmoid = \" + str(np.mean(sigmoid_output)) + \" relu = \" + str(np.mean(relu_output)))\n",
    "        \n",
    "plt.plot(loss_vec_sigmoid, 'k-', label='Sigmoid Activation')\n",
    "plt.plot(loss_vec_relu, 'r--', label='Relu Activation')\n",
    "plt.ylim([0, 1.0])\n",
    "plt.title('loss per Generation')\n",
    "plt.xlabel('Generation')\n",
    "plt.ylabel('Loss')\n",
    "plt.legend(loc='upper right')\n",
    "plt.show() "
   ]
  },
  {
   "cell_type": "code",
   "execution_count": null,
   "metadata": {},
   "outputs": [],
   "source": []
  }
 ],
 "metadata": {
  "kernelspec": {
   "display_name": "Python 3",
   "language": "python",
   "name": "python3"
  },
  "language_info": {
   "codemirror_mode": {
    "name": "ipython",
    "version": 3
   },
   "file_extension": ".py",
   "mimetype": "text/x-python",
   "name": "python",
   "nbconvert_exporter": "python",
   "pygments_lexer": "ipython3",
   "version": "3.7.6"
  }
 },
 "nbformat": 4,
 "nbformat_minor": 2
}
