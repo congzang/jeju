{
 "cells": [
  {
   "cell_type": "code",
   "execution_count": null,
   "metadata": {},
   "outputs": [],
   "source": [
    "# 편집모드와 명령행 모드 (주석)"
   ]
  },
  {
   "cell_type": "code",
   "execution_count": 7,
   "metadata": {},
   "outputs": [
    {
     "name": "stdout",
     "output_type": "stream",
     "text": [
      "10\n",
      "10\n"
     ]
    }
   ],
   "source": [
    "a = 10 # 주소 => 값 저장(맵핑)\n",
    "b = a  # 10이 대입되는 것이 아니고 a가 가리키는 주소가 대입\n",
    "print(a)\n",
    "print(b)"
   ]
  },
  {
   "cell_type": "code",
   "execution_count": 10,
   "metadata": {},
   "outputs": [
    {
     "name": "stdout",
     "output_type": "stream",
     "text": [
      "주소값 대입 140722424881840\n",
      "140722424881840\n"
     ]
    },
    {
     "data": {
      "text/plain": [
       "(None, None)"
      ]
     },
     "execution_count": 10,
     "metadata": {},
     "output_type": "execute_result"
    }
   ],
   "source": [
    "# 주소값 일치\n",
    "print('주소값 대입', id(a)), print(id(b))"
   ]
  },
  {
   "cell_type": "code",
   "execution_count": 128,
   "metadata": {},
   "outputs": [
    {
     "name": "stdout",
     "output_type": "stream",
     "text": [
      "20\n",
      "10\n",
      "주소값 대입 140722424882160\n",
      "140722424881840\n"
     ]
    },
    {
     "data": {
      "text/plain": [
       "(None, None)"
      ]
     },
     "execution_count": 128,
     "metadata": {},
     "output_type": "execute_result"
    }
   ],
   "source": [
    "a = 20\n",
    "print(a)\n",
    "print(b)\n",
    "print('주소값 대입', id(a)),print(id(b))"
   ]
  },
  {
   "cell_type": "code",
   "execution_count": 15,
   "metadata": {},
   "outputs": [
    {
     "data": {
      "text/plain": [
       "int"
      ]
     },
     "execution_count": 15,
     "metadata": {},
     "output_type": "execute_result"
    }
   ],
   "source": [
    "type(a)"
   ]
  },
  {
   "cell_type": "code",
   "execution_count": 16,
   "metadata": {},
   "outputs": [
    {
     "name": "stdout",
     "output_type": "stream",
     "text": [
      "10\n"
     ]
    }
   ],
   "source": [
    "# 파이썬은 대소문자를 구분한다.\n",
    "a = 10\n",
    "A = 20\n",
    "print(a)"
   ]
  },
  {
   "cell_type": "code",
   "execution_count": 23,
   "metadata": {},
   "outputs": [
    {
     "name": "stdout",
     "output_type": "stream",
     "text": [
      "수식을 입력하시요10\n",
      "10\n",
      "10\n"
     ]
    }
   ],
   "source": [
    "# 데이터 입력 : 프롬프트 텍스트\n",
    "problem = input(\"수식을 입력하시요\") # 데이터입출력은 '문자열'로 입출력 됨(problem: 문자형)\n",
    "\n",
    "# 연산을 위해 데이터 타입을 숫자로 변경\n",
    "print(problem) # 현재 problem: 문자형\n",
    "\n",
    "print(int(problem))  # 데이터 casting : 데이터 형변환(현재 문자형->숫자형으로 변환)\n",
    "print(eval(problem)) # eval: 평가"
   ]
  },
  {
   "cell_type": "code",
   "execution_count": 24,
   "metadata": {},
   "outputs": [
    {
     "name": "stdout",
     "output_type": "stream",
     "text": [
      "0.00424\n",
      "127\n"
     ]
    }
   ],
   "source": [
    "a3 = 4.24e-3 # exponent : 지수형\n",
    "a4 = 0o177   # Octal    : 8진수로 표현\n",
    "print(a3)\n",
    "print(a4)"
   ]
  },
  {
   "cell_type": "code",
   "execution_count": 3,
   "metadata": {},
   "outputs": [
    {
     "name": "stdout",
     "output_type": "stream",
     "text": [
      "이름을 입력하세요 : 홍123 길동\n",
      "홍\n",
      "1\n",
      "2\n",
      "3\n",
      "4\n",
      "이름:  길동\n",
      "성(s):  홍123\n"
     ]
    }
   ],
   "source": [
    "# fullName : 문자열(=1차원 배열형)\n",
    "# 숫자 int 4바이트, float 4바이트\n",
    "fullName = input(\"이름을 입력하세요 : \")\n",
    "n = fullName.rfind(\" \") # rfind() : Reverse Find\n",
    "\n",
    "print(fullName[0])\n",
    "print(fullName[1])\n",
    "print(fullName[2])\n",
    "print(fullName[3])\n",
    "print(n)\n",
    "\n",
    "# List Indexing\n",
    "print(\"이름: \", fullName[n+1:])\n",
    "print(\"성(s): \", fullName[:n]) # =fullname[:n] -> 0 ~ (n-1)만 포함(n은 포함안됨)"
   ]
  },
  {
   "cell_type": "code",
   "execution_count": 17,
   "metadata": {},
   "outputs": [
    {
     "name": "stdout",
     "output_type": "stream",
     "text": [
      "01234567890123456789\n",
      "012345678901234567890123456789\n",
      "0123456789\n",
      "4\n",
      "9\n",
      "12\n",
      "89\n",
      "\n",
      "345678\n",
      "3456789\n",
      "10\n"
     ]
    },
    {
     "data": {
      "text/plain": [
       "['0123456789']"
      ]
     },
     "execution_count": 17,
     "metadata": {},
     "output_type": "execute_result"
    }
   ],
   "source": [
    "# 문자열은 ' : single quotation, \"korea\" : double quotation\n",
    "# \"\"\" \"\"\" : 3개인 경우는 입력하는대로 저장함(다중행주석)\n",
    "s = \"0123456789\"\n",
    "print(s + s)      # koreakorea\n",
    "print(s * 3)      # koreakoreakorea\n",
    "print(s[0:])      # korea\n",
    "print(s[4])       # a\n",
    "print(s[-1])      # a (* -기호 사용 indexing : R에서는 제외, 파이썬에서는 뒤에서)\n",
    "print(s[1:3])     # or (1:3 = 1~2번 index 참조)\n",
    "print(s[-2:])     # ea\n",
    "print(s[-2:5])    # ea\n",
    "\n",
    "print(s[3:-1])    # e  345678\n",
    "print(s[3:])      # e  3456789\n",
    "\n",
    "print(len(s))     # 5\n",
    "\n",
    "s.split('r')\n"
   ]
  },
  {
   "cell_type": "code",
   "execution_count": 11,
   "metadata": {},
   "outputs": [
    {
     "name": "stdout",
     "output_type": "stream",
     "text": [
      "['Seoul', ' Inchen', ' won']\n"
     ]
    }
   ],
   "source": [
    "t = \"Seoul, Inchen, won\".split(',') # list로 분할\n",
    "print(t)"
   ]
  },
  {
   "cell_type": "code",
   "execution_count": 7,
   "metadata": {},
   "outputs": [
    {
     "data": {
      "text/plain": [
       "'Seoul, Inchen, won'"
      ]
     },
     "execution_count": 7,
     "metadata": {},
     "output_type": "execute_result"
    }
   ],
   "source": [
    "','.join(t)"
   ]
  },
  {
   "cell_type": "code",
   "execution_count": 10,
   "metadata": {},
   "outputs": [
    {
     "name": "stdout",
     "output_type": "stream",
     "text": [
      "Korea\n",
      "2\n",
      "1\n",
      "True\n",
      "False\n",
      "True\n",
      "koRea\n",
      "False\n",
      "True\n"
     ]
    }
   ],
   "source": [
    "# 파이썬은 객체지향 프로그래밍으로 설계된 언어\n",
    "# 모든 것이 객체, 함수도 객체\n",
    "# c, java는 객체지향을 별도로 학습, python은 자체가 객체\n",
    "s = \"korea\"\n",
    "print(s.capitalize())         # 첫번째 문자가 대문자\n",
    "print(s.find(\"r\"))            # 몇번째 index에 있는가\n",
    "print(s.count(\"re\"))          # 몇 번 나타나는가\n",
    "\n",
    "print(s.isalpha())            # 문자열인가\n",
    "print(s.isdigit())            # 숫자인가\n",
    "print(\"0123\".isdigit())\n",
    "\n",
    "print(s.replace(\"r\", \"R\"))    # 문자1을 문자2로 대체\n",
    "print(s.startswith(\"K\"))      # 시작하는 문자\n",
    "print(s.endswith(\"a\"))        # 끝나는 문자"
   ]
  },
  {
   "cell_type": "code",
   "execution_count": 25,
   "metadata": {},
   "outputs": [
    {
     "name": "stdout",
     "output_type": "stream",
     "text": [
      "7 -1 12 0.75\n",
      "0.75\n",
      "1\n",
      "0\n",
      "1\n",
      "0\n",
      "1.75\n",
      "1\n",
      "3\n"
     ]
    }
   ],
   "source": [
    "# 산술연산\n",
    "a = 3\n",
    "b = 4\n",
    "\n",
    "print(a + b, a - b, a * b, a / b)\n",
    "print(a / b)\n",
    "\n",
    "# 나머지 연산자 : 경우의 수를 생성할 때 사용한다. 변수가 가질 수 있는 경우의 수를 확인한다.\n",
    "print(a % b)\n",
    "print(1 % 2)\n",
    "print(2 % 2)\n",
    "print(3 % 2)\n",
    "print(4 % 2)\n",
    "\n",
    "print(7 / 4)\n",
    "print(7 // 4) # 몫 연산자\n",
    "print(7 % 4)  # 나머지 연산자"
   ]
  },
  {
   "cell_type": "code",
   "execution_count": 26,
   "metadata": {},
   "outputs": [
    {
     "name": "stdout",
     "output_type": "stream",
     "text": [
      "sum([1,2,3]) :  6\n",
      "min([1,2,3]) :  1\n",
      "abs(-11) :  11\n",
      "pow(2, 10) :  1024\n",
      "round(3.141595) :  3\n",
      "round(3.141595, 2) :  3.14\n"
     ]
    }
   ],
   "source": [
    "# 내장함수 : \n",
    "# 괄호의 의미 - [] : list       {} : dict,set        () : tuple,함수\n",
    "print(\"sum([1,2,3]) : \", sum([1,2,3]))\n",
    "print(\"min([1,2,3]) : \", min([1,2,3]))\n",
    "print(\"abs(-11) : \", abs(-11))      # 절대값(absolute)\n",
    "print(\"pow(2, 10) : \", pow(2, 10))  # 제곱(power)\n",
    "print(\"round(3.141595) : \", round(3.141595))        # 반올림\n",
    "print(\"round(3.141595, 2) : \", round(3.141595, 2))  # 반올림\n",
    "# 함수의 형태가 다르면 python 외 다른 언어에서는 Overloading이라 한다.\n",
    "# python에서는 Overloading이라는 개념이 없음 -> 기본 매개변수"
   ]
  },
  {
   "cell_type": "code",
   "execution_count": 32,
   "metadata": {},
   "outputs": [
    {
     "name": "stdout",
     "output_type": "stream",
     "text": [
      "19\n"
     ]
    }
   ],
   "source": [
    "# 문제 : 숫자 4, 7, 8을 리스트로 초기화하고 합계를 출력하시요.\n",
    "nums = [4, 7, 8]\n",
    "print( sum(nums) )"
   ]
  },
  {
   "cell_type": "code",
   "execution_count": 127,
   "metadata": {},
   "outputs": [
    {
     "name": "stdout",
     "output_type": "stream",
     "text": [
      "첫번째 수 >> 30\n",
      "두번째 수 >> 5\n",
      "'입력된수의 합 / 2'의 결과 몫 =  17    나머지 =  1\n",
      "몫 :  17\n",
      "나머지 :  1\n",
      "홀수입니다!!\n"
     ]
    }
   ],
   "source": [
    "# 문제 : 두 수를 입력받아 몫과 나머지를 출력하시요.\n",
    "\n",
    "# 사용자입력\n",
    "str1 = input(\"첫번째 수 >> \")\n",
    "str2 = input(\"두번째 수 >> \")\n",
    "\n",
    "# 형변환\n",
    "n1 = int(str1)\n",
    "n2 = int(str2)\n",
    "hab = n1 + n2\n",
    "\n",
    "quotient = hab // 2\n",
    "remainder = hab % 2\n",
    "\n",
    "print(\"'입력된수의 합 / 2'의 결과 몫 = \", quotient, \"   나머지 = \", remainder)\n",
    "\n",
    "# 결과\n",
    "print(\"몫 : \", quotient)\n",
    "print(\"나머지 : \", remainder)\n",
    "\n",
    "# 파이썬의 블록은 들여쓰기이다. (블록: 여러 일을 묶는 역할)\n",
    "# : 조건문, 반복문, 함수\n",
    "if remainder == 0:\n",
    "    print(\"짝수입니다!!\")\n",
    "    print(\"짝수입니다!!\")\n",
    "    print(\"짝수입니다!!\")\n",
    "else:\n",
    "    print(\"홀수입니다!!\")"
   ]
  },
  {
   "cell_type": "markdown",
   "metadata": {},
   "source": [
    "# Scope"
   ]
  },
  {
   "cell_type": "code",
   "execution_count": 46,
   "metadata": {},
   "outputs": [
    {
     "name": "stdout",
     "output_type": "stream",
     "text": [
      "200\n",
      "300\n"
     ]
    }
   ],
   "source": [
    "x = 300 # 전역변수\n",
    "\n",
    "# 함수도 리턴 타입을 지정하지 않는다.\n",
    "def myfunc():\n",
    "    x = 200 # 지역변수: 함수와 생사를 같이한다.\n",
    "    print(x)\n",
    "    \n",
    "myfunc()\n",
    "print(x)"
   ]
  },
  {
   "cell_type": "code",
   "execution_count": 57,
   "metadata": {},
   "outputs": [
    {
     "name": "stdout",
     "output_type": "stream",
     "text": [
      "숫자를 입력하세요 >> 30\n",
      "가위\n"
     ]
    }
   ],
   "source": [
    "# 문제 : 어떤 수가 들어오더라도 나머지가 '0:가위, 1:바위, 2:보'로 출력하시요.\n",
    "select = int(input(\"숫자를 입력하세요 >> \")) % 3\n",
    "\n",
    "if select == 0:\n",
    "    print(\"가위\")\n",
    "elif select == 1:\n",
    "    print(\"바위\")\n",
    "elif select == 2:\n",
    "    print(\"보\")"
   ]
  },
  {
   "cell_type": "code",
   "execution_count": 126,
   "metadata": {},
   "outputs": [
    {
     "name": "stdout",
     "output_type": "stream",
     "text": [
      "5\n",
      "fire\n",
      "['earths', 'water']\n",
      "['water', 1, 'air', 'earths', 'fire']\n"
     ]
    }
   ],
   "source": [
    "# random : 프로그램에서 난수는 의사난수\n",
    "import random\n",
    "\n",
    "random.seed(1000)\n",
    "print(random.randint(1, 5))\n",
    "\n",
    "elements = [\"earth\", 1, \"air\", \"fire\", \"water\"] # list : 서로 다른 자료형을 하나의 list에 저장가능(=> 주소값을 저장하므로)\n",
    "elements[0] = \"earths\"\n",
    "\n",
    "print(random.choice(elements))     # 1개 선택\n",
    "print(random.sample(elements, 2))  # 개수만큼 샘플링\n",
    "\n",
    "random.shuffle(elements) # 순서 바꿈\n",
    "print(elements)"
   ]
  },
  {
   "cell_type": "code",
   "execution_count": 101,
   "metadata": {},
   "outputs": [
    {
     "name": "stdout",
     "output_type": "stream",
     "text": [
      "True\n",
      "True\n"
     ]
    }
   ],
   "source": [
    "# 비교 연산자(>=, <=, ==, <, >)와 논리 연산자(and, or, not)\n",
    "a = 20\n",
    "b = 10\n",
    "\n",
    "c = a > 10 and b < 50\n",
    "print(c) # True\n",
    "\n",
    "c = 10 < a < 50\n",
    "print(c) # True"
   ]
  },
  {
   "cell_type": "code",
   "execution_count": 129,
   "metadata": {},
   "outputs": [
    {
     "name": "stdout",
     "output_type": "stream",
     "text": [
      "6 5\n"
     ]
    }
   ],
   "source": [
    "# swap\n",
    "x = 5\n",
    "y = 6\n",
    "\n",
    "x, y = y, x # 리턴값이 2개 이상도 가능\n",
    "print(x, y)"
   ]
  },
  {
   "cell_type": "code",
   "execution_count": 133,
   "metadata": {},
   "outputs": [
    {
     "name": "stdout",
     "output_type": "stream",
     "text": [
      "[3, ['a', 'b', 'c'], 4]\n",
      "['a', 'b']\n",
      "1\n",
      "Life\n"
     ]
    }
   ],
   "source": [
    "# list 안의 list\n",
    "# a에 저장된 것 : List 주소. 리스트는 주소를 담는 항아리 느낌..\n",
    "a = [1, 2, 3, ['a', 'b', 'c'], 4, 5] # 3번idx : ['a', 'b', 'c']\n",
    "# 2차원리스트\n",
    "# a = [['A',100,50], ['B',80,20], ['C',90,70]]\n",
    "print(a[2:5])\n",
    "print(a[3][:2])\n",
    "\n",
    "# 3차 list\n",
    "a = [1, 2, ['a', 'b', ['Life', 'is']]]\n",
    "print(a[0])\n",
    "print(a[2][2][0])"
   ]
  },
  {
   "cell_type": "code",
   "execution_count": 136,
   "metadata": {},
   "outputs": [
    {
     "name": "stdout",
     "output_type": "stream",
     "text": [
      "[10, 20, 30, 40, 50, 60]\n",
      "60\n",
      "[10, 20, 30, 40, 50]\n",
      "60\n",
      "80\n"
     ]
    }
   ],
   "source": [
    "# list를 이용한 Stack          LIFO - 복귀주소저장(함수의 운용)\n",
    "a = [10, 20, 30, 40, 50]\n",
    "\n",
    "a.append(60)    # 데이터 추가 시 append()\n",
    "print(a)\n",
    "\n",
    "print(a.pop())  # 뒤에서 데이터 가지고 오면서 삭제\n",
    "print(a)\n",
    "\n",
    "a.append(60)\n",
    "print(a.pop())\n",
    "\n",
    "a.append(70)\n",
    "a.append(80)\n",
    "print(a.pop())"
   ]
  },
  {
   "cell_type": "code",
   "execution_count": 214,
   "metadata": {},
   "outputs": [
    {
     "name": "stdout",
     "output_type": "stream",
     "text": [
      "7 12\n",
      "7\n"
     ]
    },
    {
     "data": {
      "text/plain": [
       "(9, 20)"
      ]
     },
     "execution_count": 214,
     "metadata": {},
     "output_type": "execute_result"
    }
   ],
   "source": [
    "# 파이썬 함수에서 리턴값의 지정은 없음\n",
    "# define\n",
    "def calc(a,b): # 함수의 역할: 작업      매개변수: 작업을 할 때 필요한 데이터\n",
    "    return a+b, a*b\n",
    "\n",
    "x,y = calc(3,4)\n",
    "print(x,y)\n",
    "print(x)\n",
    "\n",
    "x,y\n",
    "args = (4,5) # tuple(데이터 묶음)\n",
    "calc(*args) # 앞에 *표시는 묶인 데이터를 풀어서 함수 실행(pointer)"
   ]
  },
  {
   "cell_type": "code",
   "execution_count": 142,
   "metadata": {},
   "outputs": [
    {
     "data": {
      "text/plain": [
       "dict_items([('one', 1), ('two', 2)])"
      ]
     },
     "execution_count": 142,
     "metadata": {},
     "output_type": "execute_result"
    }
   ],
   "source": [
    "# Dictionary\n",
    "d = {'one':1, 'two':2} # key : 저장될 주소값으로 계산됨 -> 검색 시 가장 속도가 빠름\n",
    "d.items()\n",
    "\n",
    "# MongoDB => NOSQL(key-data형식으로 저장되어있음, 대용량 데이터를 빠르게 처리가능)"
   ]
  },
  {
   "cell_type": "code",
   "execution_count": 158,
   "metadata": {},
   "outputs": [
    {
     "name": "stdout",
     "output_type": "stream",
     "text": [
      "2\n",
      "True\n",
      "1\n",
      "['incheon', 'seoul', 'suwon']\n",
      "['suwon', 'seoul', 'incheon']\n"
     ]
    }
   ],
   "source": [
    "cities = [\"seoul\", \"incheon\", \"suwon\"]\n",
    "print(cities.index('suwon'))\n",
    "print(\"incheon\" in cities) # in : 포함연산자\n",
    "\n",
    "print(cities.count(\"seoul\"))\n",
    "\n",
    "print(sorted(cities))\n",
    "print(sorted(cities, reverse = True)) # reverse=True : 내림차순"
   ]
  },
  {
   "cell_type": "code",
   "execution_count": 208,
   "metadata": {},
   "outputs": [
    {
     "name": "stdout",
     "output_type": "stream",
     "text": [
      "['seoul', 'incheon', 'suwon']\n",
      "['seoul', 'incheon', 'suwon', 'busan']\n",
      "['daegu', 'seoul', 'incheon', 'suwon', 'busan']\n",
      "결합 ['daegu', 'seoul', 'incheon', 'suwon', 'busan', 'jeju', 'kwangju']\n",
      "['daegu', 'seoul', 'incheon', 'suwon', 'busan', ['daejeon', 'ulsan']]\n",
      "['daegu', 'seoul', 'incheon', 'suwon', 'busan', ['daejeon', 'ulsan'], 'jeju', 'kwangju']\n"
     ]
    }
   ],
   "source": [
    "# List는 데이터 삽입,삭제가 용이\n",
    "cities = [\"seoul\", \"incheon\", \"suwon\"]\n",
    "print(cities)\n",
    "\n",
    "cities.append(\"busan\")\n",
    "print(cities)\n",
    "\n",
    "cities.insert(0, \"daegu\") # 데이터 삽입\n",
    "print(cities)\n",
    "\n",
    "other_cities = [\"jeju\", \"kwangju\"]\n",
    "print(\"결합\", cities + other_cities) # 리스트 + 연산자\n",
    "\n",
    "cities.append([\"daejeon\", \"ulsan\"]) # 리스트 모양 그대로 append(리스트 추가)\n",
    "print(cities)\n",
    "cities.extend([\"jeju\", \"kwangju\"])  # 리스트 모양을 풀어서 append\n",
    "print(cities)"
   ]
  },
  {
   "cell_type": "code",
   "execution_count": 209,
   "metadata": {},
   "outputs": [
    {
     "name": "stdout",
     "output_type": "stream",
     "text": [
      "['daejeon', 'ulsan']\n",
      "ulsan\n",
      "['daegu', 'seoul', 'incheon', 'suwon', 'busan', ['daejeon', 'jeju22222'], 'jeju', 'kwangju']\n",
      "jeju22222\n",
      "['daegu', 'seoul', 'incheon', 'suwon', 'busan', ['daejeon'], 'jeju', 'kwangju']\n"
     ]
    }
   ],
   "source": [
    "print(cities[5])\n",
    "print(cities[5][1])    # ulsan\n",
    "cities[5][1] = \"jeju22222\"  # ulsan -> jeju\n",
    "print(cities)\n",
    "\n",
    "print(cities[5][1])\n",
    "#del cities[5][1]              # index로 접근. 객체를 알 수 없으니까.\n",
    "cities[5].remove(cities[5][1]) # 값으로 접근.\n",
    "print(cities)"
   ]
  },
  {
   "cell_type": "code",
   "execution_count": 213,
   "metadata": {},
   "outputs": [
    {
     "name": "stdout",
     "output_type": "stream",
     "text": [
      "점수입력 :  98\n",
      "A\n"
     ]
    }
   ],
   "source": [
    "print(\"점수입력 : \", end = \" \") # \\n : New line\n",
    "jumsu = int(input())\n",
    "\n",
    "if jumsu >= 90: print(\"A\")\n",
    "elif jumsu >= 80: print(\"B\")\n",
    "elif jumsu >= 70: print(\"C\")\n",
    "elif jumsu >= 60: print(\"D\")\n",
    "else: print(\"F\")"
   ]
  },
  {
   "cell_type": "code",
   "execution_count": null,
   "metadata": {},
   "outputs": [],
   "source": [
    "# 자료구조를 데이터 타입화\n",
    "# list : 데이터의 앞/뒤에 다음/이전 데이터의 주소 저장\n",
    "#      : 메모리를 효율적으로 사용하고 삽입/삭제를 용이하게 하기 위해서 사용하는 자료구조\n",
    "# dict : key값이 데이터가 저장되어지는 주소값으로 계산되는 hash함수를 이용해 데이터 저장\n",
    "#      : 검색속도가 빠름\n",
    "#      : 데이터 주소값으로 변환되어지는 {key:data} 형식으로 저장됨\n",
    "# set  : key만 저장(중복 불허) - 범주형 데이터의 종류를 확인할 때 사용\n",
    "# tuple : list와 동일한데 변경불가(tuple의 사용되는 함수가 작음) ex) append(), insert() 등 사용불가\n",
    "#       : 함수의 매개변수로 값을 전달하거나 여러 개의 값을 리턴하고 싶을 때 사용\n",
    "#       : 속도가 빠름"
   ]
  },
  {
   "cell_type": "code",
   "execution_count": 8,
   "metadata": {},
   "outputs": [
    {
     "name": "stdout",
     "output_type": "stream",
     "text": [
      "color(BLUE/RED) >> red\n",
      "mode(STEADY/FLASHING) >> steady\n",
      "예측된 날씨는 ' 비오는 날 ' 입니다.\n"
     ]
    }
   ],
   "source": [
    "# 다음 표(color와 mode에 따른 날씨)를 if문을 이용하여 출력하시요.\n",
    "#             (반응에 따른 날씨 예측 프로그램)\n",
    "#                       BLUE   RED\n",
    "#            STEADY     화창   비오는날\n",
    "#          FLASHING     구름   눈오는날\n",
    "inColor = input(\"color(BLUE/RED) >> \").upper()\n",
    "inMode = input(\"mode(STEADY/FLASHING) >> \").upper()\n",
    "result = \"\"\n",
    "\n",
    "if inColor == \"BLUE\":\n",
    "    if inMode == \"STEADY\":\n",
    "        result = \"화창한 날\"\n",
    "    elif inMode == \"FLASHING\":\n",
    "        result = \"구름낀 날\"\n",
    "elif inColor == \"RED\":\n",
    "    if inMode == \"STEADY\":\n",
    "        result = \"비오는 날\"\n",
    "    elif inMode == \"FLASHING\":\n",
    "        result = \"눈오는 날\"\n",
    "\n",
    "print(\"예측된 날씨는 '\", result, \"' 입니다.\")"
   ]
  },
  {
   "cell_type": "code",
   "execution_count": 7,
   "metadata": {},
   "outputs": [
    {
     "name": "stdout",
     "output_type": "stream",
     "text": [
      "총비용을 입력하세요 >> 200000\n",
      "총수익을 입력하세요 >> 20000\n",
      "순손실 = 180,000.000\n"
     ]
    }
   ],
   "source": [
    "# 수입(revenue)과 지출(costs)을 입력받아 순수입을 출력하는 프로그램을 작성하시요.\n",
    "#     - 제약조건 : 소수점 이하 2자리까지 출력(round)\n",
    "#                : 수입과 지출이 동일한 경우를 고려하시요.(손익분기점)\n",
    "#                : 결과 출력 시 경우에 따라 순수익, 순손실도 같이 출력하도록 하시요.\n",
    "costs = eval(input(\"총비용을 입력하세요 >> \"))\n",
    "revenue = eval(input(\"총수익을 입력하세요 >> \"))\n",
    "\n",
    "if costs == revenue:\n",
    "    result = \"손익분기점입니다.\"\n",
    "else:\n",
    "    if costs < revenue:\n",
    "        profit = revenue - costs\n",
    "        result = \"순수익 = {0:,.3f}\".format(round(profit,2)) # 포멧문자열\n",
    "    else:\n",
    "        loss = costs - revenue\n",
    "        result = \"순손실 = {0:,.3f}\".format(round(loss,2))\n",
    "print(result)\n"
   ]
  },
  {
   "cell_type": "code",
   "execution_count": 66,
   "metadata": {},
   "outputs": [
    {
     "name": "stdout",
     "output_type": "stream",
     "text": [
      "1,234,567,890\n",
      "3\n"
     ]
    }
   ],
   "source": [
    "t1 = int(\"1234567890\")\n",
    "t2 = \"{:,}\".format(t1)\n",
    "print(t2)\n",
    "\n",
    "import random\n",
    "\n",
    "random.seed()\n",
    "print(random.randint(1, 5))"
   ]
  }
 ],
 "metadata": {
  "kernelspec": {
   "display_name": "Python 3",
   "language": "python",
   "name": "python3"
  },
  "language_info": {
   "codemirror_mode": {
    "name": "ipython",
    "version": 3
   },
   "file_extension": ".py",
   "mimetype": "text/x-python",
   "name": "python",
   "nbconvert_exporter": "python",
   "pygments_lexer": "ipython3",
   "version": "3.7.4"
  }
 },
 "nbformat": 4,
 "nbformat_minor": 2
}
