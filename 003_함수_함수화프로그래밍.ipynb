{
 "cells": [
  {
   "cell_type": "code",
   "execution_count": 1,
   "metadata": {},
   "outputs": [],
   "source": [
    "# 함수 (function)\n",
    "# - 함수이름은 중복X - overloading은 default 매개변수로 해결한다.\n",
    "# - Required arguments - 매개변수를 반드시 순서대로 입력\n",
    "# - Keyword arguments - key 매개변수의 순서 변경 가능\n",
    "# - Default arguments - overloading 해결\n",
    "# - Variable-length arguments(변동 매개변수) : *(list), **(dict)"
   ]
  },
  {
   "cell_type": "code",
   "execution_count": 6,
   "metadata": {},
   "outputs": [
    {
     "name": "stdout",
     "output_type": "stream",
     "text": [
      "30\n",
      "70\n",
      "30\n",
      "70\n"
     ]
    }
   ],
   "source": [
    "a = 10\n",
    "b = 20\n",
    "result = a + b\n",
    "print(result)\n",
    "\n",
    "c = 30\n",
    "d = 40\n",
    "result = c + d\n",
    "print(result)\n",
    "\n",
    "# 사용자 정의 함수\n",
    "def addvalue(a, b): # Call by Reference(주소값에 의한 전달) - Data->Heap에 저장\n",
    "    return a + b\n",
    "print(addvalue(10, 20))\n",
    "print(addvalue(30, 40))"
   ]
  },
  {
   "cell_type": "code",
   "execution_count": 25,
   "metadata": {},
   "outputs": [
    {
     "name": "stdout",
     "output_type": "stream",
     "text": [
      "1030\n",
      "1030\n"
     ]
    }
   ],
   "source": [
    "# 회귀분석\n",
    "# y = ax + b ( a:기울기, b:Bias(절편) )\n",
    "def reg(a, b, x):\n",
    "    return a * x + b\n",
    "print(reg(10, 30, 100))\n",
    "\n",
    "def reg(x):\n",
    "    a = 10\n",
    "    b = 30\n",
    "    return a * x + b\n",
    "print(reg(100))\n",
    "# print(reg(10, 30, 100)) -> Error!!"
   ]
  },
  {
   "cell_type": "code",
   "execution_count": 34,
   "metadata": {},
   "outputs": [
    {
     "name": "stdout",
     "output_type": "stream",
     "text": [
      "10보다 크다.\n"
     ]
    }
   ],
   "source": [
    "# 두 수를 더한 값이 10보다 큰 지 확인하시요.\n",
    "a = 10\n",
    "b = 20\n",
    "result = a + b\n",
    "if result >= 10:\n",
    "    result = \"10보다 크다.\"\n",
    "else:\n",
    "    result = \"10보다 작다.\"\n",
    "print(result)"
   ]
  },
  {
   "cell_type": "code",
   "execution_count": 36,
   "metadata": {},
   "outputs": [
    {
     "data": {
      "text/plain": [
       "'10보다 크다.'"
      ]
     },
     "execution_count": 36,
     "metadata": {},
     "output_type": "execute_result"
    }
   ],
   "source": [
    "def sum_1(a, b):\n",
    "    result = a + b\n",
    "    if result >= 10:\n",
    "        result = \"10보다 크다.\"\n",
    "    else:\n",
    "        result = \"10보다 작다.\"\n",
    "    return result\n",
    "sum_1(10, 20)"
   ]
  },
  {
   "cell_type": "code",
   "execution_count": 112,
   "metadata": {},
   "outputs": [
    {
     "name": "stdout",
     "output_type": "stream",
     "text": [
      "(20, 10)\n"
     ]
    }
   ],
   "source": [
    "a = 10\n",
    "b = 20\n",
    "def swap(a, b):\n",
    "    return b, a # type:tuple\n",
    "a, b = swap(a, b)\n",
    "print(a, b)\n",
    "x = swap(a, b) # x의 type:tuple     type(x)\n",
    "print(x)"
   ]
  },
  {
   "cell_type": "code",
   "execution_count": 53,
   "metadata": {},
   "outputs": [
    {
     "name": "stdout",
     "output_type": "stream",
     "text": [
      "35\n",
      "15\n",
      "250\n",
      "changeFun결과: 35\n",
      "changeFun결과: 15\n",
      "changeFun결과: 250\n"
     ]
    }
   ],
   "source": [
    "# 두 수를 입력받아 +, -, * 하는 함수를 3개 작성하시요.\n",
    "# 함수명 : add, subtract, multiply\n",
    "def add(a, b):\n",
    "    return a + b\n",
    "def subtract(a, b):\n",
    "    return a - b\n",
    "def multiply(a, b):\n",
    "    return a * b\n",
    "\n",
    "num1 = 25\n",
    "num2 = 10\n",
    "print(add(num1, num2))\n",
    "print(subtract(num1, num2))\n",
    "print(multiply(num1, num2))\n",
    "\n",
    "# 함수는 일급함수 : 함수를 매개변수로 전달가능, 리턴값으로 가능(javascript에서 온 개념)\n",
    "def changeFun(g, a, b): # g: 함수 전달, a,b: 숫자\n",
    "    return g(a, b)\n",
    "print(\"changeFun결과:\", changeFun(add, num1, num2))\n",
    "print(\"changeFun결과:\", changeFun(subtract, num1, num2))\n",
    "print(\"changeFun결과:\", changeFun(multiply, num1, num2))"
   ]
  },
  {
   "cell_type": "code",
   "execution_count": 59,
   "metadata": {},
   "outputs": [
    {
     "name": "stdout",
     "output_type": "stream",
     "text": [
      "함수 내부에서 출력 : [10, 20, 30, [1, 2, 3, 4]]\n",
      "함수 외부에서 출력 : [10, 20, 30, [1, 2, 3, 4]]\n"
     ]
    }
   ],
   "source": [
    "def changeMe(myList): # myList = myList주소\n",
    "    myList.append([1,2,3,4])\n",
    "    #myList = [1,2,3,4]      # 대입일 경우에는 Call by Value\n",
    "    print(\"함수 내부에서 출력 :\", myList)\n",
    "    return\n",
    "myList = [10,20,30] # Heap에 저장 - 이유: 주소값이 넘어갔기 때문에(Call by Reference)\n",
    "changeMe(myList)\n",
    "print(\"함수 외부에서 출력 :\", myList)"
   ]
  },
  {
   "cell_type": "code",
   "execution_count": 62,
   "metadata": {},
   "outputs": [
    {
     "ename": "AttributeError",
     "evalue": "'set' object has no attribute 'append'",
     "output_type": "error",
     "traceback": [
      "\u001b[1;31m---------------------------------------------------------------------------\u001b[0m",
      "\u001b[1;31mAttributeError\u001b[0m                            Traceback (most recent call last)",
      "\u001b[1;32m<ipython-input-62-e980d73f85e6>\u001b[0m in \u001b[0;36m<module>\u001b[1;34m\u001b[0m\n\u001b[0;32m      2\u001b[0m \u001b[1;31m#   -> data type을 구분하는 것은 프로그래머의 책임이다.\u001b[0m\u001b[1;33m\u001b[0m\u001b[1;33m\u001b[0m\u001b[1;33m\u001b[0m\u001b[0m\n\u001b[0;32m      3\u001b[0m \u001b[0mmyList\u001b[0m \u001b[1;33m=\u001b[0m \u001b[1;33m{\u001b[0m\u001b[1;36m10\u001b[0m\u001b[1;33m,\u001b[0m\u001b[1;36m20\u001b[0m\u001b[1;33m,\u001b[0m\u001b[1;36m30\u001b[0m\u001b[1;33m}\u001b[0m\u001b[1;33m\u001b[0m\u001b[1;33m\u001b[0m\u001b[0m\n\u001b[1;32m----> 4\u001b[1;33m \u001b[0mchangeMe\u001b[0m\u001b[1;33m(\u001b[0m\u001b[0mmyList\u001b[0m\u001b[1;33m)\u001b[0m\u001b[1;33m\u001b[0m\u001b[1;33m\u001b[0m\u001b[0m\n\u001b[0m\u001b[0;32m      5\u001b[0m \u001b[0mprint\u001b[0m\u001b[1;33m(\u001b[0m\u001b[1;34m\"함수 외부에서 출력2:\"\u001b[0m\u001b[1;33m,\u001b[0m \u001b[0mmyList\u001b[0m\u001b[1;33m)\u001b[0m\u001b[1;33m\u001b[0m\u001b[1;33m\u001b[0m\u001b[0m\n",
      "\u001b[1;32m<ipython-input-59-222cd911abf0>\u001b[0m in \u001b[0;36mchangeMe\u001b[1;34m(myList)\u001b[0m\n\u001b[0;32m      1\u001b[0m \u001b[1;32mdef\u001b[0m \u001b[0mchangeMe\u001b[0m\u001b[1;33m(\u001b[0m\u001b[0mmyList\u001b[0m\u001b[1;33m)\u001b[0m\u001b[1;33m:\u001b[0m \u001b[1;31m# myList = myList주소\u001b[0m\u001b[1;33m\u001b[0m\u001b[1;33m\u001b[0m\u001b[0m\n\u001b[1;32m----> 2\u001b[1;33m     \u001b[0mmyList\u001b[0m\u001b[1;33m.\u001b[0m\u001b[0mappend\u001b[0m\u001b[1;33m(\u001b[0m\u001b[1;33m[\u001b[0m\u001b[1;36m1\u001b[0m\u001b[1;33m,\u001b[0m\u001b[1;36m2\u001b[0m\u001b[1;33m,\u001b[0m\u001b[1;36m3\u001b[0m\u001b[1;33m,\u001b[0m\u001b[1;36m4\u001b[0m\u001b[1;33m]\u001b[0m\u001b[1;33m)\u001b[0m\u001b[1;33m\u001b[0m\u001b[1;33m\u001b[0m\u001b[0m\n\u001b[0m\u001b[0;32m      3\u001b[0m     \u001b[1;31m#myList = [1,2,3,4]      # 대입일 경우에는 Call by Value\u001b[0m\u001b[1;33m\u001b[0m\u001b[1;33m\u001b[0m\u001b[1;33m\u001b[0m\u001b[0m\n\u001b[0;32m      4\u001b[0m     \u001b[0mprint\u001b[0m\u001b[1;33m(\u001b[0m\u001b[1;34m\"함수 내부에서 출력 :\"\u001b[0m\u001b[1;33m,\u001b[0m \u001b[0mmyList\u001b[0m\u001b[1;33m)\u001b[0m\u001b[1;33m\u001b[0m\u001b[1;33m\u001b[0m\u001b[0m\n\u001b[0;32m      5\u001b[0m     \u001b[1;32mreturn\u001b[0m\u001b[1;33m\u001b[0m\u001b[1;33m\u001b[0m\u001b[0m\n",
      "\u001b[1;31mAttributeError\u001b[0m: 'set' object has no attribute 'append'"
     ]
    }
   ],
   "source": [
    "# 실행이 안되는 이유 : set에는 append함수 없음\n",
    "#   -> data type을 구분하는 것은 프로그래머의 책임이다.\n",
    "myList = {10,20,30}\n",
    "changeMe(myList)\n",
    "print(\"함수 외부에서 출력2:\", myList)"
   ]
  },
  {
   "cell_type": "code",
   "execution_count": 65,
   "metadata": {},
   "outputs": [
    {
     "name": "stdout",
     "output_type": "stream",
     "text": [
      "시작\n",
      "1,2,3,\n",
      "1,2,3,4,5,\n"
     ]
    }
   ],
   "source": [
    "# 변동 매개변수 :\n",
    "def func1(*args):\n",
    "    for i in args:\n",
    "        print(i, end = ',')\n",
    "    print()\n",
    "print(\"시작\")\n",
    "func1(1,2,3)\n",
    "func1(1,2,3,4,5)"
   ]
  },
  {
   "cell_type": "code",
   "execution_count": 77,
   "metadata": {},
   "outputs": [
    {
     "name": "stdout",
     "output_type": "stream",
     "text": [
      "args is  (1, 2)\n",
      "kwargs is  {'z': 5}\n",
      "Hello Now I'm going to call <function g at 0x00000193769D0318>\n",
      "1\n",
      "2\n",
      "5\n"
     ]
    },
    {
     "data": {
      "text/plain": [
       "0.6"
      ]
     },
     "execution_count": 77,
     "metadata": {},
     "output_type": "execute_result"
    }
   ],
   "source": [
    "def say_hello_then_call(f, *args, **kwargs):\n",
    "    print(\"args is \", args)\n",
    "    print(\"kwargs is \", kwargs)\n",
    "    print(\"Hello Now I'm going to call %s\" % f) # 함수가 위치한 주소\n",
    "    return f(*args, **kwargs)\n",
    "\n",
    "def g(x, y, z=1):    # x,y : Required 매개변수, z=1 : Default 매개변수\n",
    "    print(x)\n",
    "    print(y)\n",
    "    print(z)\n",
    "    return (x+y) / z\n",
    "\n",
    "say_hello_then_call(g, 1, 2, z=5) # 1,2->args, z=5->kwargs"
   ]
  },
  {
   "cell_type": "code",
   "execution_count": 82,
   "metadata": {},
   "outputs": [
    {
     "name": "stdout",
     "output_type": "stream",
     "text": [
      "1 0\n",
      "1 2\n",
      "1 2\n"
     ]
    }
   ],
   "source": [
    "def func_test2(a, b=0): # b=0: default argument\n",
    "    print(a, b)\n",
    "func_test2(1)         # a=1, b=0\n",
    "func_test2(1, 2)      # a=1, b=2\n",
    "func_test2(b=2, a=1)  # a=1, b=2"
   ]
  },
  {
   "cell_type": "code",
   "execution_count": 98,
   "metadata": {},
   "outputs": [
    {
     "name": "stdout",
     "output_type": "stream",
     "text": [
      "True\n"
     ]
    },
    {
     "data": {
      "text/plain": [
       "function"
      ]
     },
     "execution_count": 98,
     "metadata": {},
     "output_type": "execute_result"
    }
   ],
   "source": [
    "def func_test4(): # None 객체\n",
    "    pass # 몸통 미지정\n",
    "\n",
    "# == : 숫자,문자 비교\n",
    "# is : 객체 비교\n",
    "result = func_test4()\n",
    "print(result is None)\n",
    "\n",
    "# class 확인(__class__ : member변수, 시스템에서 생성한 변수)\n",
    "result.__class__       # NoneType\n",
    "func_test4.__class__   # function"
   ]
  },
  {
   "cell_type": "code",
   "execution_count": 113,
   "metadata": {},
   "outputs": [
    {
     "name": "stdout",
     "output_type": "stream",
     "text": [
      "15 5 50\n",
      "<class 'function'>\n",
      "(15, 5, 50)\n"
     ]
    }
   ],
   "source": [
    "def func_test3(a, b):\n",
    "    return a+b, a-b, a*b\n",
    "a, b, c = func_test3(10, 5)\n",
    "x = func_test3(10, 5)\n",
    "print(a, b, c)\n",
    "print(type(func_test3)) # <class 'function'>\n",
    "print(x)"
   ]
  },
  {
   "cell_type": "code",
   "execution_count": 116,
   "metadata": {},
   "outputs": [
    {
     "name": "stdout",
     "output_type": "stream",
     "text": [
      "15\n"
     ]
    }
   ],
   "source": [
    "# 커링\n",
    "def all_number(x,y):\n",
    "    return x + y\n",
    "add_five = lambda y : all_number(5, y)\n",
    "print(add_five(10))"
   ]
  },
  {
   "cell_type": "code",
   "execution_count": 139,
   "metadata": {},
   "outputs": [
    {
     "name": "stdout",
     "output_type": "stream",
     "text": [
      "1.4142135623730951\n"
     ]
    }
   ],
   "source": [
    "# 문제. 두 점 사이의 거리값을 구하는 함수를 작성하시요.\n",
    "import math\n",
    "\n",
    "def dist(x1, y1, x2, y2):\n",
    "    \"\"\" 두 점 사이의 거리를\n",
    "    구하는 함수 \"\"\"\n",
    "    dx = x2-x1\n",
    "    dy = y2-y1\n",
    "    return math.sqrt(dx**2 + dy**2)\n",
    "\n",
    "print(dist(1,1,2,2))\n",
    "?dist"
   ]
  },
  {
   "cell_type": "code",
   "execution_count": 143,
   "metadata": {},
   "outputs": [
    {
     "data": {
      "text/plain": [
       "120"
      ]
     },
     "execution_count": 143,
     "metadata": {},
     "output_type": "execute_result"
    }
   ],
   "source": [
    "def factorial(n):\n",
    "    sum = 1 # 항등원 : 덧셈의 항등원 = 0, 곱셈의 항등원 = 1, 행렬의 항등원 = 단위행렬(대각선이 1인 행렬)\n",
    "    for i in range(n, 1, -1):\n",
    "        sum *= i\n",
    "    return sum\n",
    "factorial(5)"
   ]
  },
  {
   "cell_type": "code",
   "execution_count": 146,
   "metadata": {},
   "outputs": [
    {
     "data": {
      "text/plain": [
       "120"
      ]
     },
     "execution_count": 146,
     "metadata": {},
     "output_type": "execute_result"
    }
   ],
   "source": [
    "# 재귀함수로 변경(재귀함수 : 함수가 자기 자신의 함수를 호출, 종료조건이 반드시 있어야 함)\n",
    "def factorial(n, stop = 1):\n",
    "    if n <= stop or n <= 0: # n<=stop : 재귀함수 종료조건, n<=0 : n값 입력제한\n",
    "        return 1\n",
    "    return n * factorial(n-1, stop)\n",
    "factorial(5)"
   ]
  },
  {
   "cell_type": "code",
   "execution_count": 159,
   "metadata": {},
   "outputs": [
    {
     "name": "stdout",
     "output_type": "stream",
     "text": [
      "8\n",
      "1024\n"
     ]
    }
   ],
   "source": [
    "# power 함수를 구현하시요. => 재귀호출 방식으로 변환하시요.\n",
    "def power(r, n):\n",
    "    value = 1\n",
    "    for i in range(1, n+1):\n",
    "        value = r * value\n",
    "    return value\n",
    "print(power(2,3))\n",
    "\n",
    "def power(r, n):\n",
    "    if n == 1:\n",
    "        return r\n",
    "    return r * power(r, n-1)\n",
    "print(power(2,10))"
   ]
  },
  {
   "cell_type": "code",
   "execution_count": 165,
   "metadata": {},
   "outputs": [
    {
     "name": "stdout",
     "output_type": "stream",
     "text": [
      "inner\n",
      "Global inner\n"
     ]
    }
   ],
   "source": [
    "# 내부함수\n",
    "def outer():\n",
    "    def inner():       # 함수 안에 함수\n",
    "        print(\"inner\")\n",
    "    inner()\n",
    "    \n",
    "def inner():\n",
    "    print(\"Global inner\")\n",
    "    \n",
    "outer() # inner\n",
    "inner() # Global inner"
   ]
  },
  {
   "cell_type": "code",
   "execution_count": 189,
   "metadata": {},
   "outputs": [
    {
     "name": "stdout",
     "output_type": "stream",
     "text": [
      "1번: 0.6795303381348929\n",
      "1번: 0.4591275813648271\n",
      "1번: 0.529432188331417\n",
      "1번: 0.17429793813810168\n",
      "1번: 0.46654411853512645\n"
     ]
    }
   ],
   "source": [
    "# Generator\n",
    "# for in : Collections(list, tuple, dict, set), iterator(ranges), generator, enumerator\n",
    "import random\n",
    "\n",
    "def gaus_dist(n):\n",
    "    while n > 0:\n",
    "        yield random.random() # 비동기 호출 함수\n",
    "        n -= 1\n",
    "        \n",
    "gd = gaus_dist(5)\n",
    "\n",
    "for i in gd:\n",
    "    print(\"1번:\",i)\n",
    "\n",
    "for j in gd:\n",
    "    print(\"2번:\",j)"
   ]
  },
  {
   "cell_type": "code",
   "execution_count": 191,
   "metadata": {},
   "outputs": [
    {
     "name": "stdout",
     "output_type": "stream",
     "text": [
      "python's recipe no.1\n",
      "perl's recipe no.2\n"
     ]
    },
    {
     "data": {
      "text/plain": [
       "(1732896260312, 1732896261464)"
      ]
     },
     "execution_count": 191,
     "metadata": {},
     "output_type": "execute_result"
    }
   ],
   "source": [
    "# 함수가 값을 저장할 수 있는가? => 지역변수라 저장불가\n",
    "# clouser(javascript에서 사용하던 방식) : 값을 저장하는 방법\n",
    "def cookbook(name):\n",
    "    def recipe(no):\n",
    "        print(\"%s's recipe no.%d\" % (name, no))\n",
    "    return recipe\n",
    "python_recipe = cookbook(\"python\")\n",
    "perl_recipe = cookbook(\"perl\")\n",
    "python_recipe(1)\n",
    "perl_recipe(2)\n",
    "id(python_recipe), id(perl_recipe)"
   ]
  },
  {
   "cell_type": "code",
   "execution_count": 200,
   "metadata": {},
   "outputs": [
    {
     "name": "stdout",
     "output_type": "stream",
     "text": [
      "         1.7560\n",
      "         2.2220\n",
      "              1\n"
     ]
    }
   ],
   "source": [
    "# decorator\n",
    "def format_and_pad(template, space):\n",
    "    def formatter(x):\n",
    "        return (template % x).rjust(space)\n",
    "    return formatter\n",
    "\n",
    "fmt = format_and_pad(\"%.4f\", 15)\n",
    "print(fmt(1.756))\n",
    "print(fmt(2.222))\n",
    "\n",
    "fmt2 = format_and_pad(\"%d\", 15)\n",
    "print(fmt2(1.756))"
   ]
  },
  {
   "cell_type": "code",
   "execution_count": 212,
   "metadata": {},
   "outputs": [
    {
     "name": "stdout",
     "output_type": "stream",
     "text": [
      "밑변(반지름)을 입력 >>5\n",
      "삼각형이나 사각형 높이를 입력 >>5\n",
      "삼각형의 넓이는 12.5\n",
      "사각형의 넓이는 25\n",
      "원의 넓이는 78.53981633974483\n"
     ]
    }
   ],
   "source": [
    "##### 데이터를 입력받아\n",
    "# 삼각형의 넓이 : (밑변*높이)/2, 사각형의 넓이 : 밑변*높이, 원의 넓이를 계산하는 함수를 작성하시요.\n",
    "import math\n",
    "def calculate_triangle(mylist):\n",
    "    return mylist[0] *  mylist[1] / 2\n",
    "def calculate_rectangle(mylist):\n",
    "    return  mylist[0] * mylist[1]\n",
    "def calculate_circle(mylist):\n",
    "    return  math.pi * (mylist[0] ** 2)\n",
    "\n",
    "mylist = []\n",
    "width = eval(input(\"밑변(반지름)을 입력 >>\"))\n",
    "height = eval(input(\"삼각형이나 사각형 높이를 입력 >>\"))\n",
    "mylist.append(width)\n",
    "mylist.append(height)\n",
    "\n",
    "print(\"삼각형의 넓이는\", calculate_triangle(mylist))\n",
    "print(\"사각형의 넓이는\", calculate_rectangle(mylist))\n",
    "print(\"원의 넓이는\", calculate_circle(mylist))"
   ]
  },
  {
   "cell_type": "code",
   "execution_count": 229,
   "metadata": {},
   "outputs": [
    {
     "name": "stdout",
     "output_type": "stream",
     "text": [
      "시간 >>41\n",
      "시간당 급여 >>10000\n",
      "415000.0\n"
     ]
    }
   ],
   "source": [
    "# 시간과 시간당 급여를 입력받아 주급을 계산하는 프로그램을 작성하시요.\n",
    "# - 조건 : 40시간이 넘으면 1.5배하여 지급합니다.\n",
    "# - 매개변수(시간, 시간당급여)\n",
    "def calc_weekPay(time, timePay):\n",
    "    overPay = 0\n",
    "    \n",
    "    if time > 40:\n",
    "        overPay = (time - 40) * (timePay * 1.5)\n",
    "        time = time - (time - 40)\n",
    "    return time * timePay + overPay\n",
    "\n",
    "time = eval(input(\"시간 >>\"))\n",
    "timePay = eval(input(\"시간당 급여 >>\"))\n",
    "\n",
    "print(calc_weekPay(time, timePay))\n",
    "    "
   ]
  },
  {
   "cell_type": "code",
   "execution_count": 230,
   "metadata": {},
   "outputs": [
    {
     "name": "stdout",
     "output_type": "stream",
     "text": [
      "시간당 급여>>10000\n",
      "주간 총 근무시간>>40\n",
      "주간 수입은 : 400,000.00\n"
     ]
    }
   ],
   "source": [
    "basictime = 40\n",
    "def pay(wage, hours):\n",
    "    if hours <= basictime:\n",
    "        amount = wage * hours\n",
    "    else:\n",
    "        amount = (wage * basictime) + (1.5 * wage * (hours - basictime))\n",
    "    return amount\n",
    "hourlyWage = eval(input(\"시간당 급여>>\"))\n",
    "hoursWorked = eval(input(\"주간 총 근무시간>>\"))\n",
    "earnings = pay(hourlyWage, hoursWorked)\n",
    "print(\"주간 수입은 : {:,.2f}\".format(earnings))"
   ]
  },
  {
   "cell_type": "code",
   "execution_count": 2,
   "metadata": {},
   "outputs": [
    {
     "name": "stdout",
     "output_type": "stream",
     "text": [
      "원금을 입력하세요. >>100000\n",
      "거치기간을 입력하세요. >>3\n",
      "총액: \\112,486.40\n",
      "이자수익: \\12,486.40\n"
     ]
    }
   ],
   "source": [
    "# 이자율이 주어졌을 때, 기간 거치 후의 총액과 이자수익을 출력하시요.\n",
    "# 복리계산 = (1 + 이율 0.04) ** 거치년수\n",
    "# 매개변수 : 원금, 거치기간\n",
    "# 단서 조건 : 입력함수, 계산함수, 출력함수로 분리해서 작성하시요.\n",
    "INTEREST_RATE = 0.04\n",
    "\n",
    "def user_input():\n",
    "    principal = int(input(\"원금을 입력하세요. >>\"))\n",
    "    termLoan = int(input(\"거치기간을 입력하세요. >>\"))\n",
    "    return (principal, termLoan)\n",
    "\n",
    "def calc(principal, termLoan):\n",
    "    rate = (1 + INTEREST_RATE) ** termLoan\n",
    "    total = principal * rate\n",
    "    interest = total - principal\n",
    "    return (interest, total)\n",
    "\n",
    "def user_output(interest, total):\n",
    "    print(\"총액:\", \"\\\\{:,.2f}\".format(total))\n",
    "    print(\"이자수익:\", \"\\\\{:,.2f}\".format(interest))\n",
    "    \n",
    "user_output(*calc(*user_input()))"
   ]
  },
  {
   "cell_type": "code",
   "execution_count": 3,
   "metadata": {},
   "outputs": [
    {
     "name": "stdout",
     "output_type": "stream",
     "text": [
      "예금액:10000\n",
      "기간:10\n",
      "예금 총액: $14,802.44   이자 총액: $4,802.44\n",
      "예금액:10000\n",
      "기간:10\n",
      "예금 총액: $14,802.44   이자 총액: $4,802.44\n"
     ]
    }
   ],
   "source": [
    "INTEREST_RATE = 0.04\n",
    "\n",
    "def getInput():\n",
    "    principal = eval(input(\"예금액:\"))\n",
    "    numberOfYears = eval(input(\"기간:\"))\n",
    "    return (principal, numberOfYears)\n",
    "\n",
    "def balanceAndInterest(prin, numYears):\n",
    "    balance = prin * ((1 + INTEREST_RATE) ** numYears) # 원금 포함 이자 계산액\n",
    "    interestEarned = balance - prin                    # 순수 이자액\n",
    "    return (balance, interestEarned)\n",
    "\n",
    "def displayOutput(bal, intEarned):\n",
    "    print(\"예금 총액: ${:,.2f}   이자 총액: ${:,.2f}\".format(bal, intEarned))\n",
    "    \n",
    "def main():\n",
    "    principal, numberOfYears = getInput()\n",
    "    bal, intEarned = balanceAndInterest(principal, numberOfYears)\n",
    "    displayOutput(bal, intEarned)\n",
    "    displayOutput(*(balanceAndInterest(*(getInput()))))\n",
    "    \n",
    "main()"
   ]
  },
  {
   "cell_type": "code",
   "execution_count": 5,
   "metadata": {},
   "outputs": [
    {
     "data": {
      "text/plain": [
       "100"
      ]
     },
     "execution_count": 5,
     "metadata": {},
     "output_type": "execute_result"
    }
   ],
   "source": [
    "# 함수화 프로그래밍 for + 함수를 적용\n",
    "# lambda 함수를 이용한 처리가 많음\n",
    "(lambda x : x * x)(10)"
   ]
  },
  {
   "cell_type": "code",
   "execution_count": 7,
   "metadata": {},
   "outputs": [
    {
     "name": "stdout",
     "output_type": "stream",
     "text": [
      "11\n",
      "15\n"
     ]
    }
   ],
   "source": [
    "incr = lambda x, incr=1: x + incr # 무명함수를 변수에 담으면 무명함수 -> 유명함수 변한다.\n",
    "print(incr(10))\n",
    "print(incr(10,5))"
   ]
  },
  {
   "cell_type": "code",
   "execution_count": 20,
   "metadata": {},
   "outputs": [
    {
     "name": "stdout",
     "output_type": "stream",
     "text": [
      "['aaaa', 'foo', 'abab', 'bar', 'card']\n"
     ]
    }
   ],
   "source": [
    "strings = [\"foo\", \"card\", \"bar\", \"aaaa\", \"abab\"]\n",
    "strings.sort(key=lambda x: len(set(list(x)))) # 중복되지 않는 데이터 개수에 따라\n",
    "print(strings)\n",
    "# aaaa = 1\n",
    "# foo, abab = 2\n",
    "# bar = 3\n",
    "# card = 4"
   ]
  },
  {
   "cell_type": "code",
   "execution_count": 31,
   "metadata": {},
   "outputs": [
    {
     "name": "stdout",
     "output_type": "stream",
     "text": [
      "<map object at 0x0000026E501473C8>\n",
      "[9, 16]\n"
     ]
    }
   ],
   "source": [
    "v_mypow = lambda x: x*x\n",
    "\n",
    "def f_mypow(x):\n",
    "    return x*x\n",
    "\n",
    "m = map(lambda x: x*x, [3,4])\n",
    "m = map(v_mypow, [3,4])\n",
    "m = map(f_mypow, [3,4])\n",
    "print(m)\n",
    "print(list(m)) # 출력은 list로 casting"
   ]
  },
  {
   "cell_type": "code",
   "execution_count": 32,
   "metadata": {},
   "outputs": [
    {
     "data": {
      "text/plain": [
       "[0, 1, 4, 9, 16]"
      ]
     },
     "execution_count": 32,
     "metadata": {},
     "output_type": "execute_result"
    }
   ],
   "source": [
    "list(map(lambda x: x*x, range(5)))"
   ]
  },
  {
   "cell_type": "code",
   "execution_count": 36,
   "metadata": {},
   "outputs": [
    {
     "name": "stdout",
     "output_type": "stream",
     "text": [
      "[1210000, 1135000, 910000, 1360000, 2260000, 3010000]\n"
     ]
    }
   ],
   "source": [
    "# 문제. 다음 출근 시간 데이터에 대하여 기본급 10000원, 시간당 7500원의 급여를 계산하고,\n",
    "# lambda함수와 map함수 이용하여 구현하시요.\n",
    "total_time = [160,150,120,180,300,400]\n",
    "calc = lambda x: 10000 + (x*7500)\n",
    "pay = list(map(calc, total_time))\n",
    "\n",
    "print(pay)"
   ]
  },
  {
   "cell_type": "code",
   "execution_count": 38,
   "metadata": {},
   "outputs": [
    {
     "data": {
      "text/plain": [
       "[1, 3, 5, 7, 9]"
      ]
     },
     "execution_count": 38,
     "metadata": {},
     "output_type": "execute_result"
    }
   ],
   "source": [
    "def odd(p):\n",
    "    return [i for i in p if i % 2]\n",
    "odd(range(10))"
   ]
  },
  {
   "cell_type": "code",
   "execution_count": 42,
   "metadata": {},
   "outputs": [
    {
     "data": {
      "text/plain": [
       "[1, 3, 5, 7, 9]"
      ]
     },
     "execution_count": 42,
     "metadata": {},
     "output_type": "execute_result"
    }
   ],
   "source": [
    "def odd(k):\n",
    "    return k % 2\n",
    "\n",
    "# filter함수의 첫번째 arg는 True/False를 return해야한다.\n",
    "list(filter(odd, range(10)))"
   ]
  },
  {
   "cell_type": "code",
   "execution_count": 56,
   "metadata": {},
   "outputs": [
    {
     "name": "stdout",
     "output_type": "stream",
     "text": [
      "[3, 6, 9, 12, 15, 18, 21, 24, 27, 30, 33, 36, 39, 42, 45, 48, 51, 54, 57, 60, 63, 66, 69, 72, 75, 78, 81, 84, 87, 90, 93, 96, 99]"
     ]
    }
   ],
   "source": [
    "# 문제. 1부터 99 사이의 데이터 중 3으로 나누어 떨어지는 데이터를 filter를 이용하여 구하시요.\n",
    "def div3(num):\n",
    "    return num % 3 == 0\n",
    "\n",
    "print(list(filter(div3, range(1, 100))), end = \"\")"
   ]
  },
  {
   "cell_type": "code",
   "execution_count": 63,
   "metadata": {},
   "outputs": [
    {
     "data": {
      "text/plain": [
       "'edcba'"
      ]
     },
     "execution_count": 63,
     "metadata": {},
     "output_type": "execute_result"
    }
   ],
   "source": [
    "# reduce(분산처리 시 값을 계산할 때 사용)\n",
    "from functools import reduce\n",
    "reduce(lambda x, y : x+y, range(11)) # 이전에 계산된 값이 x값으로 들어감, 새로운 값은 y값\n",
    "reduce(lambda x, y : x*y, range(1,11))\n",
    "reduce(lambda x, y : y+x, \"abcde\")"
   ]
  },
  {
   "cell_type": "code",
   "execution_count": 67,
   "metadata": {},
   "outputs": [
    {
     "name": "stdout",
     "output_type": "stream",
     "text": [
      "100\n",
      "5.0\n"
     ]
    }
   ],
   "source": [
    "# 함수 배열\n",
    "func_choice = [lambda x, y: x**y, lambda x, y: x/y]\n",
    "print(func_choice[0](10, 2))\n",
    "print(func_choice[1](10, 2))"
   ]
  },
  {
   "cell_type": "code",
   "execution_count": 70,
   "metadata": {},
   "outputs": [
    {
     "name": "stdout",
     "output_type": "stream",
     "text": [
      "[5, 6, 7, 8]\n"
     ]
    }
   ],
   "source": [
    "# 문제 1) 다음 데이터에서 4보다 큰 수만 출력하도록 filtering 하여 보시요.\n",
    "data = [1,2,3,4,5,6,7,8,3,4,2,1]\n",
    "\n",
    "fil = list(filter(lambda x: x>4, data))\n",
    "print(fil)"
   ]
  },
  {
   "cell_type": "code",
   "execution_count": 86,
   "metadata": {},
   "outputs": [
    {
     "name": "stdout",
     "output_type": "stream",
     "text": [
      "숫자를 입력하세요. >>10\n",
      "나는 귀중한 사람이다.\n"
     ]
    }
   ],
   "source": [
    "# 문제 2) 숫자를 입력받아서 홀수인 경우는 \"나는 행복합니다.\"라고 출력하고,\n",
    "# 짝수인 경우는 \"나는 귀중한 사람이다.\"라고 출력하는 함수 선택을 구현해 보시요.\n",
    "num = int(input(\"숫자를 입력하세요. >>\"))\n",
    "func_choice = [lambda : print(\"나는 행복합니다.\"), \n",
    "               lambda : print(\"나는 귀중한 사람이다.\")]\n",
    "\n",
    "func_choice[num%2 == 0]()"
   ]
  },
  {
   "cell_type": "code",
   "execution_count": 95,
   "metadata": {},
   "outputs": [
    {
     "name": "stdout",
     "output_type": "stream",
     "text": [
      "이름 >>홍길동\n",
      "국어 >>80\n",
      "영어 >>90\n",
      "수학 >>78\n",
      "이름\t국어\t영어\t수학\t총점\t평균\t\n",
      "홍길동\t80.0\t90.0\t78.0\t248.0\t82.67\t"
     ]
    }
   ],
   "source": [
    "# 성적프로그램을 입력, 처리, 출력함수를 이용해서 구현하시오.\n",
    "# 이름, 국어, 영어, 수학, 총점, 평균\n",
    "sungjuk = []\n",
    "\n",
    "def user_input():\n",
    "    nm = input(\"이름 >>\")\n",
    "    kor = float(input(\"국어 >>\"))\n",
    "    eng = float(input(\"영어 >>\"))\n",
    "    math = float(input(\"수학 >>\"))\n",
    "    \n",
    "    sungjuk.append(nm)\n",
    "    sungjuk.append(kor)\n",
    "    sungjuk.append(eng)\n",
    "    sungjuk.append(math)\n",
    "    \n",
    "    return (kor, eng, math)\n",
    "\n",
    "def calc(kor, eng, math):\n",
    "    total = kor + eng + math\n",
    "    avg = round(total / 3, 2)\n",
    "    \n",
    "    sungjuk.append(total)\n",
    "    sungjuk.append(avg)\n",
    "\n",
    "def user_output():\n",
    "    colNm = [\"이름\", \"국어\", \"영어\", \"수학\", \"총점\", \"평균\"]\n",
    "    for i in range(len(colNm)):\n",
    "        print(colNm[i], end=\"\\t\")\n",
    "    print()\n",
    "    for i in range(len(sungjuk)):\n",
    "        print(sungjuk[i], end=\"\\t\")\n",
    "    \n",
    "calc(*(user_input()))\n",
    "user_output()"
   ]
  }
 ],
 "metadata": {
  "kernelspec": {
   "display_name": "Python 3",
   "language": "python",
   "name": "python3"
  },
  "language_info": {
   "codemirror_mode": {
    "name": "ipython",
    "version": 3
   },
   "file_extension": ".py",
   "mimetype": "text/x-python",
   "name": "python",
   "nbconvert_exporter": "python",
   "pygments_lexer": "ipython3",
   "version": "3.7.4"
  }
 },
 "nbformat": 4,
 "nbformat_minor": 2
}
