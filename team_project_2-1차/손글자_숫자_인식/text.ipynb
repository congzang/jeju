{
 "cells": [
  {
   "cell_type": "code",
   "execution_count": 2,
   "metadata": {},
   "outputs": [],
   "source": [
    "import cv2\n",
    "import os\n",
    "import numpy as np\n",
    "import matplotlib.pyplot as plt\n",
    "import pprint\n",
    "%matplotlib inline"
   ]
  },
  {
   "cell_type": "code",
   "execution_count": 6,
   "metadata": {
    "scrolled": false
   },
   "outputs": [
    {
     "name": "stdout",
     "output_type": "stream",
     "text": [
      "Exception!!!!!!!!!\n"
     ]
    }
   ],
   "source": [
    "imgs = []\n",
    "\n",
    "try:\n",
    "    for i in range(1, 13):\n",
    "        filename = \"test\" + str(i)\n",
    "        #filename = \"test5\"\n",
    "        img = cv2.imread(\"./images/\"+filename+\".jpg\", cv2.IMREAD_COLOR)\n",
    "\n",
    "        #print(img.shape)\n",
    "\n",
    "        # image resize 360 x 219\n",
    "        #img = cv2.resize(img, (500, 500), interpolation=cv2.INTER_LINEAR)\n",
    "\n",
    "        img_gray = cv2.cvtColor(img, cv2.COLOR_BGR2GRAY)\n",
    "        #cv2.imshow(\"img_gray\", img_gray)\n",
    "        #img_hsv = cv2.cvtColor(img, cv2.COLOR_BGR2HSV)\n",
    "\n",
    "        img_blur = cv2.GaussianBlur(img_gray, (5, 5), 0)\n",
    "        #cv2.imshow(\"img_blur\", img_blur)\n",
    "\n",
    "        ## 적당한 threshold 값을 찾아서\n",
    "        #ret, img_th = cv2.threshold(img_blur, 150, 230, cv2.THRESH_BINARY_INV)\n",
    "        #th2 = cv2.adaptiveThreshold(img_blur, 255, cv2.ADAPTIVE_THRESH_GAUSSIAN_C,cv2.THRESH_BINARY_INV,15,2)\n",
    "        #ret1, img_th1 = cv2.threshold(img_gray, 150, 230, cv2.THRESH_BINARY_INV)\n",
    "        #ret2, img_th2 = cv2.threshold(img_gray, 0, 255, cv2.THRESH_BINARY+cv2.THRESH_OTSU)\n",
    "        #ret3, img_th3 = cv2.threshold(img_blur, 150, 230, cv2.THRESH_BINARY_INV)\n",
    "        #ret4, img_th4 = cv2.threshold(img_blur, 0, 255, cv2.THRESH_BINARY_INV+cv2.THRESH_OTSU)\n",
    "        img_th4 = cv2.adaptiveThreshold(img_blur, 255, cv2.ADAPTIVE_THRESH_GAUSSIAN_C, cv2.THRESH_BINARY_INV, 5, 12)\n",
    "\n",
    "        #img_lapl = cv2.Laplacian(img_th4, cv2.CV_32F)\n",
    "\n",
    "        kernel = np.ones((13, 13), np.uint8)\n",
    "        img_morph = cv2.morphologyEx(img_th4, cv2.MORPH_CLOSE, kernel)\n",
    "        #img_lapl = cv2.Laplacian(img_morph, cv2.CV_32F)\n",
    "\n",
    "        #cv2.imshow(\"image\"+str(i), img_morph)\n",
    "        #cv2.imshow(\"[morph]image\"+str(i), img_morph)\n",
    "        \n",
    "        edges = cv2.Canny(img_morph, 50, 150, apertureSize = 3)\n",
    "        minLineLength = 50\n",
    "        maxLineGap = 10\n",
    "        lines = cv2.HoughLinesP(edges, 1, np.pi/180, 100, minLineLength, maxLineGap)\n",
    "        \n",
    "        for line in lines:\n",
    "            x1, y1, x2, y2 = line[0]\n",
    "            cv2.line(img, (x1,y1), (x2,y2), (0,255,0), 1)\n",
    "        \n",
    "        cv2.imshow(\"edges\", edges)\n",
    "        cv2.imshow(\"result\", img)\n",
    "        \n",
    "        #print(lines)\n",
    "        #print()\n",
    "\n",
    "        # 대상은 흰색, 배경은 까만색이어야 컨투어 찾기 가능\n",
    "        contours, hierachy = cv2.findContours(img_morph.copy(), cv2.RETR_EXTERNAL, cv2.CHAIN_APPROX_SIMPLE)\n",
    "        #img_cont = cv2.drawContours(img.copy(), contours, -1, (0,255,0), 1)\n",
    "        \n",
    "        #cv2.imshow(\"[cont]image\"+str(i), img_cont)\n",
    "        \n",
    "        ###################### boundingRect test [start] ######################\n",
    "        #x, y, w, h = cv2.boundingRect(contours[0])\n",
    "        #print(x, y, w, h)\n",
    "        #testimg = cv2.rectangle(img, (x, y), (x + w, y + h), (0, 255, 0), 2)\n",
    "        #cv2.imshow(\"img\"+str(i), testimg)\n",
    "        ###################### boundingRect test [end] ########################\n",
    "        \n",
    "        # 사각형 그리기\n",
    "        rects = [cv2.boundingRect(each) for each in contours]\n",
    "\n",
    "        tmp = [w*h for (x,y,w,h) in rects]\n",
    "        tmp.sort()\n",
    "\n",
    "        # 제일 큰 아이 두개를 빼고, 나머지의 넓이를 찾을 수 있습니다. 그래서 넓이값으로 다시 한 번 더 걸러주는거죠...\n",
    "        #rects = [(x,y,w,h) for (x,y,w,h) in rects if ((w*h>15000)and(w*h<500000))]\n",
    "        rects = [(x,y,w,h) for (x,y,w,h) in rects]\n",
    "\n",
    "        img_result = []\n",
    "        img_for_class = img.copy()\n",
    "\n",
    "        margin_pixel = 30\n",
    "\n",
    "        for rect in rects:\n",
    "            #[y:y+h, x:x+w]\n",
    "            img_result.append(\n",
    "                img_for_class[rect[1]-margin_pixel : rect[1]+rect[3]+margin_pixel, \n",
    "                              rect[0]-margin_pixel : rect[0]+rect[2]+margin_pixel])\n",
    "\n",
    "            # Draw the rectangles\n",
    "            cv2.rectangle(img, (rect[0], rect[1]), \n",
    "                          (rect[0] + rect[2], rect[1] + rect[3]), (0, 255, 0), 2)\n",
    "\n",
    "        imgs.append(img)\n",
    "        \n",
    "except:\n",
    "    print(\"Exception!!!!!!!!!\")\n",
    "    cv2.waitKey(0)\n",
    "    cv2.destroyAllWindows()\n",
    "    \n",
    "cv2.waitKey(0)\n",
    "cv2.destroyAllWindows()"
   ]
  },
  {
   "cell_type": "code",
   "execution_count": 22,
   "metadata": {},
   "outputs": [],
   "source": [
    "# 이미지 한번에 출력\n",
    "for i in range(0, len(imgs)):\n",
    "    cv2.imshow(\"image\"+str(i), imgs[i])\n",
    "    \n",
    "cv2.waitKey(0)\n",
    "cv2.destroyAllWindows()"
   ]
  },
  {
   "cell_type": "code",
   "execution_count": 214,
   "metadata": {},
   "outputs": [
    {
     "data": {
      "text/plain": [
       "[374, 1254, 1474, 2646, 3165, 3420, 3500, 4150, 4700, 7303, 14348, 14348]"
      ]
     },
     "execution_count": 214,
     "metadata": {},
     "output_type": "execute_result"
    }
   ],
   "source": [
    "tmp = [w*h for (x,y,w,h) in rects]\n",
    "tmp.sort()\n",
    "tmp"
   ]
  },
  {
   "cell_type": "code",
   "execution_count": 215,
   "metadata": {
    "scrolled": false
   },
   "outputs": [
    {
     "data": {
      "text/plain": [
       "[(345, 292, 66, 19),\n",
       " (96, 261, 45, 76),\n",
       " (270, 239, 67, 109),\n",
       " (85, 223, 67, 22),\n",
       " (163, 174, 35, 100),\n",
       " (354, 167, 47, 100),\n",
       " (22, 162, 22, 17),\n",
       " (91, 147, 49, 54),\n",
       " (279, 146, 50, 83),\n",
       " (420, 138, 68, 211),\n",
       " (201, 138, 15, 211),\n",
       " (11, 138, 68, 211)]"
      ]
     },
     "execution_count": 215,
     "metadata": {},
     "output_type": "execute_result"
    }
   ],
   "source": [
    "# 제일 큰 아이 두개를 빼고, 나머지의 넓이를 찾을 수 있습니다. 그래서 넓이값으로 다시 한 번 더 걸러주는거죠...\n",
    "#rects = [(x,y,w,h) for (x,y,w,h) in rects if ((w*h>15000)and(w*h<500000))]\n",
    "rects = [(x,y,w,h) for (x,y,w,h) in rects]\n",
    "rects"
   ]
  },
  {
   "cell_type": "code",
   "execution_count": 216,
   "metadata": {
    "scrolled": true
   },
   "outputs": [
    {
     "name": "stdout",
     "output_type": "stream",
     "text": [
      "[(345, 292, 66, 19), (96, 261, 45, 76), (270, 239, 67, 109), (85, 223, 67, 22), (163, 174, 35, 100), (354, 167, 47, 100), (22, 162, 22, 17), (91, 147, 49, 54), (279, 146, 50, 83), (420, 138, 68, 211), (201, 138, 15, 211), (11, 138, 68, 211)]\n"
     ]
    }
   ],
   "source": [
    "img_result = []\n",
    "img_for_class = img.copy()\n",
    "\n",
    "margin_pixel = 60\n",
    "print(rects)\n",
    "for rect in rects:\n",
    "    #[y:y+h, x:x+w]\n",
    "    img_result.append(\n",
    "        img_for_class[rect[1]-margin_pixel : rect[1]+rect[3]+margin_pixel, \n",
    "                      rect[0]-margin_pixel : rect[0]+rect[2]+margin_pixel])\n",
    "    \n",
    "    # Draw the rectangles\n",
    "    cv2.rectangle(img, (rect[0], rect[1]), \n",
    "                  (rect[0] + rect[2], rect[1] + rect[3]), (0, 255, 0), 5)\n",
    "\n",
    "#plt.figure(figsize=(15,12))\n",
    "#plt.imshow(img)\n",
    "cv2.imshow(\"image\", img)\n",
    "cv2.waitKey(0)\n",
    "cv2.destroyAllWindows()"
   ]
  }
 ],
 "metadata": {
  "kernelspec": {
   "display_name": "Python 3",
   "language": "python",
   "name": "python3"
  },
  "language_info": {
   "codemirror_mode": {
    "name": "ipython",
    "version": 3
   },
   "file_extension": ".py",
   "mimetype": "text/x-python",
   "name": "python",
   "nbconvert_exporter": "python",
   "pygments_lexer": "ipython3",
   "version": "3.7.4"
  }
 },
 "nbformat": 4,
 "nbformat_minor": 2
}
