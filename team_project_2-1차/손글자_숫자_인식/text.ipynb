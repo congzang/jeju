{
 "cells": [
  {
   "cell_type": "code",
   "execution_count": 85,
   "metadata": {},
   "outputs": [],
   "source": [
    "import cv2\n",
    "import os\n",
    "import numpy as np\n",
    "import matplotlib.pyplot as plt\n",
    "import pprint\n",
    "%matplotlib inline"
   ]
  },
  {
   "cell_type": "code",
   "execution_count": 86,
   "metadata": {
    "scrolled": false
   },
   "outputs": [
    {
     "name": "stdout",
     "output_type": "stream",
     "text": [
      "(460, 1178, 3)\n"
     ]
    },
    {
     "data": {
      "text/plain": [
       "[(817, 250, 84, 8),\n",
       " (594, 246, 63, 9),\n",
       " (741, 242, 60, 27),\n",
       " (195, 239, 58, 30),\n",
       " (1026, 236, 56, 33),\n",
       " (321, 236, 59, 35),\n",
       " (404, 232, 84, 26),\n",
       " (181, 225, 84, 8),\n",
       " (726, 203, 40, 34),\n",
       " (912, 188, 84, 67),\n",
       " (830, 188, 58, 44),\n",
       " (446, 188, 33, 41),\n",
       " (411, 188, 32, 41),\n",
       " (600, 187, 49, 44),\n",
       " (92, 187, 49, 57),\n",
       " (1016, 184, 49, 45),\n",
       " (314, 183, 42, 44),\n",
       " (722, 182, 47, 19),\n",
       " (195, 182, 57, 33),\n",
       " (1074, 180, 8, 53),\n",
       " (773, 180, 26, 68),\n",
       " (662, 180, 8, 91),\n",
       " (566, 180, 8, 91),\n",
       " (372, 180, 21, 53),\n",
       " (148, 180, 24, 91),\n",
       " (502, 179, 54, 71)]"
      ]
     },
     "execution_count": 86,
     "metadata": {},
     "output_type": "execute_result"
    }
   ],
   "source": [
    "img = cv2.imread(\"./images/test10.jpg\", cv2.IMREAD_COLOR)\n",
    "\n",
    "#plt.figure(figsize=(15,12))\n",
    "#cv2.imshow(\"image\", img)\n",
    "#cv2.waitKey(0)\n",
    "#cv2.destroyAllWindows()\n",
    "\n",
    "print(img.shape)\n",
    "\n",
    "img_gray = cv2.cvtColor(img, cv2.COLOR_BGR2GRAY)\n",
    "#plt.figure(figsize=(15,12))\n",
    "#plt.imshow(img_gray)\n",
    "#cv2.imshow(\"img_gray\", img_gray)\n",
    "\n",
    "#img_hsv = cv2.cvtColor(img, cv2.COLOR_BGR2HSV)\n",
    "#plt.figure(figsize=(15,12))\n",
    "#plt.imshow(img_gray)\n",
    "#cv2.imshow(\"img_hsv\", img_hsv)\n",
    "#cv2.waitKey(0)\n",
    "#cv2.destroyAllWindows()\n",
    "\n",
    "img_blur = cv2.GaussianBlur(img_gray, (9, 9), 0)\n",
    "#cv2.imshow(\"img_blur\", img_blur)\n",
    "#cv2.waitKey(0)\n",
    "#cv2.destroyAllWindows()\n",
    "\n",
    "#cv2.imshow(\"img_blur\", img_blur)\n",
    "\n",
    "## 적당한 threshold 값을 찾아서\n",
    "#ret, img_th = cv2.threshold(img_blur, 150, 230, cv2.THRESH_BINARY_INV)\n",
    "#th2 = cv2.adaptiveThreshold(img_blur, 255, cv2.ADAPTIVE_THRESH_GAUSSIAN_C,cv2.THRESH_BINARY_INV,15,2)\n",
    "#ret1, img_th1 = cv2.threshold(img_gray, 150, 230, cv2.THRESH_BINARY_INV)\n",
    "#ret2, img_th2 = cv2.threshold(img_gray, 0, 255, cv2.THRESH_BINARY+cv2.THRESH_OTSU)\n",
    "#ret3, img_th3 = cv2.threshold(img_blur, 150, 230, cv2.THRESH_BINARY_INV)\n",
    "ret4, img_th4 = cv2.threshold(img_blur, 0, 255, cv2.THRESH_BINARY_INV+cv2.THRESH_OTSU)\n",
    "#img_thresh = cv2.adaptiveThreshold(img_blur, 255, cv2.ADAPTIVE_THRESH_GAUSSIAN_C, cv2.THRESH_BINARY_INV, 3, 12)\n",
    "#cv2.imshow(\"img_th1\", img_th1)\n",
    "#cv2.imshow(\"img_th2\", img_th2)\n",
    "#cv2.imshow(\"img_th3\", img_th3)\n",
    "#cv2.imshow(\"img_th4\", img_th4)\n",
    "\n",
    "cv2.imshow(\"img_th4\", img_th4)\n",
    "\n",
    "# 대상은 흰색, 배경은 까만색이어야 컨투어 찾기 가능\n",
    "contours, hierachy = cv2.findContours(img_th4.copy(), cv2.RETR_EXTERNAL, cv2.CHAIN_APPROX_SIMPLE)\n",
    "\n",
    "#img_result = cv2.drawContours(img, contours, -1, (0,255,0), 3)\n",
    "#cv2.imshow(\"img_result\", img_result)\n",
    "\n",
    "cv2.waitKey(0)\n",
    "cv2.destroyAllWindows()\n",
    "\n",
    "rects = [cv2.boundingRect(each) for each in contours]\n",
    "rects"
   ]
  },
  {
   "cell_type": "code",
   "execution_count": 87,
   "metadata": {},
   "outputs": [
    {
     "data": {
      "text/plain": [
       "[424,\n",
       " 567,\n",
       " 672,\n",
       " 672,\n",
       " 728,\n",
       " 728,\n",
       " 893,\n",
       " 1113,\n",
       " 1312,\n",
       " 1353,\n",
       " 1360,\n",
       " 1620,\n",
       " 1740,\n",
       " 1768,\n",
       " 1848,\n",
       " 1848,\n",
       " 1881,\n",
       " 2065,\n",
       " 2156,\n",
       " 2184,\n",
       " 2184,\n",
       " 2205,\n",
       " 2552,\n",
       " 2793,\n",
       " 3834,\n",
       " 5628]"
      ]
     },
     "execution_count": 87,
     "metadata": {},
     "output_type": "execute_result"
    }
   ],
   "source": [
    "tmp = [w*h for (x,y,w,h) in rects]\n",
    "tmp.sort()\n",
    "tmp"
   ]
  },
  {
   "cell_type": "code",
   "execution_count": 88,
   "metadata": {},
   "outputs": [
    {
     "data": {
      "text/plain": [
       "[(817, 250, 84, 8),\n",
       " (594, 246, 63, 9),\n",
       " (741, 242, 60, 27),\n",
       " (195, 239, 58, 30),\n",
       " (1026, 236, 56, 33),\n",
       " (321, 236, 59, 35),\n",
       " (404, 232, 84, 26),\n",
       " (181, 225, 84, 8),\n",
       " (726, 203, 40, 34),\n",
       " (912, 188, 84, 67),\n",
       " (830, 188, 58, 44),\n",
       " (446, 188, 33, 41),\n",
       " (411, 188, 32, 41),\n",
       " (600, 187, 49, 44),\n",
       " (92, 187, 49, 57),\n",
       " (1016, 184, 49, 45),\n",
       " (314, 183, 42, 44),\n",
       " (722, 182, 47, 19),\n",
       " (195, 182, 57, 33),\n",
       " (1074, 180, 8, 53),\n",
       " (773, 180, 26, 68),\n",
       " (662, 180, 8, 91),\n",
       " (566, 180, 8, 91),\n",
       " (372, 180, 21, 53),\n",
       " (148, 180, 24, 91),\n",
       " (502, 179, 54, 71)]"
      ]
     },
     "execution_count": 88,
     "metadata": {},
     "output_type": "execute_result"
    }
   ],
   "source": [
    "# 제일 큰 아이 두개를 빼고, 나머지의 넓이를 찾을 수 있습니다. 그래서 넓이값으로 다시 한 번 더 걸러주는거죠...\n",
    "#rects = [(x,y,w,h) for (x,y,w,h) in rects if ((w*h>15000)and(w*h<500000))]\n",
    "rects = [(x,y,w,h) for (x,y,w,h) in rects]\n",
    "rects"
   ]
  },
  {
   "cell_type": "code",
   "execution_count": 89,
   "metadata": {
    "scrolled": true
   },
   "outputs": [
    {
     "name": "stdout",
     "output_type": "stream",
     "text": [
      "[(817, 250, 84, 8), (594, 246, 63, 9), (741, 242, 60, 27), (195, 239, 58, 30), (1026, 236, 56, 33), (321, 236, 59, 35), (404, 232, 84, 26), (181, 225, 84, 8), (726, 203, 40, 34), (912, 188, 84, 67), (830, 188, 58, 44), (446, 188, 33, 41), (411, 188, 32, 41), (600, 187, 49, 44), (92, 187, 49, 57), (1016, 184, 49, 45), (314, 183, 42, 44), (722, 182, 47, 19), (195, 182, 57, 33), (1074, 180, 8, 53), (773, 180, 26, 68), (662, 180, 8, 91), (566, 180, 8, 91), (372, 180, 21, 53), (148, 180, 24, 91), (502, 179, 54, 71)]\n"
     ]
    }
   ],
   "source": [
    "img_result = []\n",
    "img_for_class = img.copy()\n",
    "\n",
    "margin_pixel = 60\n",
    "print(rects)\n",
    "for rect in rects:\n",
    "    #[y:y+h, x:x+w]\n",
    "    img_result.append(\n",
    "        img_for_class[rect[1]-margin_pixel : rect[1]+rect[3]+margin_pixel, \n",
    "                      rect[0]-margin_pixel : rect[0]+rect[2]+margin_pixel])\n",
    "    \n",
    "    # Draw the rectangles\n",
    "    cv2.rectangle(img, (rect[0], rect[1]), \n",
    "                  (rect[0] + rect[2], rect[1] + rect[3]), (0, 255, 0), 5)\n",
    "\n",
    "#plt.figure(figsize=(15,12))\n",
    "#plt.imshow(img)\n",
    "cv2.imshow(\"image\", img)\n",
    "cv2.waitKey(0)\n",
    "cv2.destroyAllWindows()"
   ]
  }
 ],
 "metadata": {
  "kernelspec": {
   "display_name": "Python 3",
   "language": "python",
   "name": "python3"
  },
  "language_info": {
   "codemirror_mode": {
    "name": "ipython",
    "version": 3
   },
   "file_extension": ".py",
   "mimetype": "text/x-python",
   "name": "python",
   "nbconvert_exporter": "python",
   "pygments_lexer": "ipython3",
   "version": "3.7.4"
  }
 },
 "nbformat": 4,
 "nbformat_minor": 2
}
