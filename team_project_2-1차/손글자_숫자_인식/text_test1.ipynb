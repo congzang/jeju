{
 "cells": [
  {
   "cell_type": "code",
   "execution_count": 1,
   "metadata": {},
   "outputs": [
    {
     "name": "stdout",
     "output_type": "stream",
     "text": [
      "(64, 478, 176, 67)\n",
      "(64, 478)\n",
      "(32, 28, 320, 47)\n",
      "(32, 28)\n",
      "(32, 168, 8, 12)\n",
      "(32, 168)\n",
      "(0, 0, 10, 33)\n",
      "(0, 0)\n",
      "(0, 0, 714, 596)\n",
      "(0, 0)\n",
      "(17, 7, 134, 32)\n",
      "(17, 7)\n",
      "(0, 0, 571, 56)\n",
      "(0, 0)\n",
      "(26, 275, 416, 39)\n",
      "(26, 275)\n",
      "(0, 0, 225, 108)\n",
      "(0, 0)\n",
      "(85, 179, 180, 96)\n",
      "(85, 179)\n",
      "(26, 92, 142, 154)\n",
      "(26, 92)\n",
      "(24, 18, 125, 69)\n",
      "(24, 18)\n"
     ]
    }
   ],
   "source": [
    "import cv2\n",
    "import os\n",
    "import numpy as np\n",
    "import matplotlib.pyplot as plt\n",
    "import pprint\n",
    "from operator import itemgetter\n",
    "%matplotlib inline\n",
    "\n",
    "imgs = []\n",
    "\n",
    "for i in range(1, 13):\n",
    "    filename = \"test\" + str(i)\n",
    "    img = cv2.imread(\"./images/\"+filename+\".jpg\", cv2.IMREAD_COLOR)\n",
    "    \n",
    "    img_gray = cv2.cvtColor(img, cv2.COLOR_BGR2GRAY)\n",
    "    img_blur = cv2.GaussianBlur(img_gray, (51, 51), 0)\n",
    "    ret4, img_th4 = cv2.threshold(img_blur, 0, 255, cv2.THRESH_BINARY_INV+cv2.THRESH_OTSU)\n",
    "    #img_th4 = cv2.adaptiveThreshold(img_th4, 255, cv2.ADAPTIVE_THRESH_GAUSSIAN_C, cv2.THRESH_BINARY_INV, 9, 3)\n",
    "    \n",
    "    cv2.imshow(\"th4_\"+str(i), img_th4)\n",
    "    \n",
    "    kernel = np.ones((9, 9), np.uint8)\n",
    "    img_morph = cv2.morphologyEx(img_th4, cv2.MORPH_CLOSE, kernel)\n",
    "    \n",
    "    contours, hierachy = cv2.findContours(img_morph.copy(), cv2.RETR_EXTERNAL, cv2.CHAIN_APPROX_SIMPLE)\n",
    "\n",
    "    rects = [cv2.boundingRect(each) for each in contours]\n",
    "    tmp = [(x,y,w,h) for (x,y,w,h) in rects]\n",
    "    tmp.sort(key=itemgetter(0,1))\n",
    "    \n",
    "    print(tmp[0])\n",
    "    \n",
    "    rect = tmp[0]\n",
    "  # rect = cv2.boundingRect(contours[0])\n",
    "  # tmp = [w*h for (x,y,w,h) in contours]\n",
    "  # tmp.sort()\n",
    "    print((rect[0], rect[1]))\n",
    "    cv2.rectangle(img, (rect[0], rect[1]),\n",
    "                      (rect[0] + rect[2], rect[1] + rect[3]), (0, 255, 0), 2)\n",
    "    \n",
    "   # for arr in img_th4:\n",
    "   #     if sum(arr) != 0 :\n",
    "   #         print(arr)\n",
    "    \n",
    "    imgs.append(img)\n",
    "    cv2.imshow(\"test\"+str(i), img)\n",
    "\n",
    "cv2.waitKey(0)\n",
    "cv2.destroyAllWindows()"
   ]
  }
 ],
 "metadata": {
  "kernelspec": {
   "display_name": "Python 3",
   "language": "python",
   "name": "python3"
  },
  "language_info": {
   "codemirror_mode": {
    "name": "ipython",
    "version": 3
   },
   "file_extension": ".py",
   "mimetype": "text/x-python",
   "name": "python",
   "nbconvert_exporter": "python",
   "pygments_lexer": "ipython3",
   "version": "3.7.4"
  }
 },
 "nbformat": 4,
 "nbformat_minor": 2
}
