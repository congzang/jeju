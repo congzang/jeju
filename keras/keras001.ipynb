{
 "cells": [
  {
   "cell_type": "code",
   "execution_count": 3,
   "metadata": {},
   "outputs": [
    {
     "name": "stdout",
     "output_type": "stream",
     "text": [
      "입력데이터=[0.29466096 0.30317302], 예측결과=[0.1727368]\n",
      "입력데이터=[0.39445118 0.79390858], 예측결과=[0.7446588]\n",
      "입력데이터=[0.02884127 0.6208843 ], 예측결과=[0.40274543]\n"
     ]
    }
   ],
   "source": [
    "from keras.models import Sequential\n",
    "from keras.layers import Dense\n",
    "from sklearn.datasets import make_regression\n",
    "# 신경망 - 정규화\n",
    "from sklearn.preprocessing import MinMaxScaler\n",
    "\n",
    "# X = 100x2, y = 100\n",
    "X, y = make_regression(n_samples=100, n_features=2, noise=0.1, random_state=1)\n",
    "\n",
    "# 값의 범위가 다름\n",
    "scalarX, scalarY = MinMaxScaler(), MinMaxScaler()\n",
    "scalarX.fit(X)\n",
    "scalarY.fit(y.reshape(100,1)) # 행으로 만들어서\n",
    "X = scalarX.transform(X)\n",
    "y = scalarY.transform(y.reshape(100,1))\n",
    "\n",
    "# Keras Model\n",
    "model = Sequential()\n",
    "# Dense -> FFNN망\n",
    "# layer 3개(layer depth)\n",
    "# 가중치 : 2x4 => 결과 : 100x4\n",
    "model.add(Dense(4, input_dim=2, activation='relu')) # 가중치 생성(출력차수(=4)만 지정해주면)\n",
    "# 100x4 4x4 100x4\n",
    "model.add(Dense(4, activation='relu'))\n",
    "# 100x4 4x1 100x1\n",
    "model.add(Dense(1, activation='linear')) # linear:예측\n",
    "# mse, cross entropy(분류), KL-divergence(분포비교)\n",
    "model.compile(loss='mse', optimizer='adam') # tensorflow 모델을 변환(backend=tensorflow)\n",
    "model.fit(X, y, epochs=1000, verbose=0)\n",
    "\n",
    "Xnew, a = make_regression(n_samples=3, n_features=2, noise=0.1, random_state=1)\n",
    "Xnew = scalarX.transform(Xnew)\n",
    "ynew = model.predict(Xnew)\n",
    "\n",
    "for i in range(len(Xnew)):\n",
    "    print(\"입력데이터=%s, 예측결과=%s\" %(Xnew[i], ynew[i]))"
   ]
  },
  {
   "cell_type": "code",
   "execution_count": 16,
   "metadata": {
    "scrolled": true
   },
   "outputs": [
    {
     "name": "stdout",
     "output_type": "stream",
     "text": [
      "Train on 514 samples, validate on 254 samples\n",
      "Epoch 1/150\n",
      "514/514 [==============================] - 0s 783us/step - loss: 0.6797 - accuracy: 0.6401 - val_loss: 0.6586 - val_accuracy: 0.6732\n",
      "Epoch 2/150\n",
      "514/514 [==============================] - 0s 141us/step - loss: 0.6688 - accuracy: 0.6401 - val_loss: 0.6535 - val_accuracy: 0.6732\n",
      "Epoch 3/150\n",
      "514/514 [==============================] - 0s 114us/step - loss: 0.6619 - accuracy: 0.6401 - val_loss: 0.6517 - val_accuracy: 0.6732\n",
      "Epoch 4/150\n",
      "514/514 [==============================] - 0s 118us/step - loss: 0.6548 - accuracy: 0.6381 - val_loss: 0.6466 - val_accuracy: 0.6732\n",
      "Epoch 5/150\n",
      "514/514 [==============================] - 0s 114us/step - loss: 0.6456 - accuracy: 0.6420 - val_loss: 0.6356 - val_accuracy: 0.6811\n",
      "Epoch 6/150\n",
      "514/514 [==============================] - 0s 113us/step - loss: 0.6390 - accuracy: 0.6420 - val_loss: 0.6248 - val_accuracy: 0.6969\n",
      "Epoch 7/150\n",
      "514/514 [==============================] - 0s 116us/step - loss: 0.6297 - accuracy: 0.6595 - val_loss: 0.6155 - val_accuracy: 0.7047\n",
      "Epoch 8/150\n",
      "514/514 [==============================] - 0s 120us/step - loss: 0.6219 - accuracy: 0.6790 - val_loss: 0.6034 - val_accuracy: 0.6969\n",
      "Epoch 9/150\n",
      "514/514 [==============================] - 0s 136us/step - loss: 0.6147 - accuracy: 0.6693 - val_loss: 0.6027 - val_accuracy: 0.6969\n",
      "Epoch 10/150\n",
      "514/514 [==============================] - 0s 146us/step - loss: 0.6086 - accuracy: 0.6868 - val_loss: 0.5936 - val_accuracy: 0.7047\n",
      "Epoch 11/150\n",
      "514/514 [==============================] - 0s 114us/step - loss: 0.6002 - accuracy: 0.6887 - val_loss: 0.6069 - val_accuracy: 0.6969\n",
      "Epoch 12/150\n",
      "514/514 [==============================] - 0s 114us/step - loss: 0.6047 - accuracy: 0.6946 - val_loss: 0.5822 - val_accuracy: 0.7165\n",
      "Epoch 13/150\n",
      "514/514 [==============================] - 0s 111us/step - loss: 0.5993 - accuracy: 0.7004 - val_loss: 0.5870 - val_accuracy: 0.6969\n",
      "Epoch 14/150\n",
      "514/514 [==============================] - 0s 123us/step - loss: 0.5895 - accuracy: 0.7160 - val_loss: 0.5792 - val_accuracy: 0.7008\n",
      "Epoch 15/150\n",
      "514/514 [==============================] - 0s 117us/step - loss: 0.5883 - accuracy: 0.7082 - val_loss: 0.5765 - val_accuracy: 0.7087\n",
      "Epoch 16/150\n",
      "514/514 [==============================] - 0s 110us/step - loss: 0.5929 - accuracy: 0.6965 - val_loss: 0.5743 - val_accuracy: 0.7047\n",
      "Epoch 17/150\n",
      "514/514 [==============================] - 0s 120us/step - loss: 0.5858 - accuracy: 0.6946 - val_loss: 0.5704 - val_accuracy: 0.7126\n",
      "Epoch 18/150\n",
      "514/514 [==============================] - 0s 107us/step - loss: 0.5819 - accuracy: 0.7218 - val_loss: 0.5825 - val_accuracy: 0.6890\n",
      "Epoch 19/150\n",
      "514/514 [==============================] - 0s 120us/step - loss: 0.5833 - accuracy: 0.7140 - val_loss: 0.5732 - val_accuracy: 0.7087\n",
      "Epoch 20/150\n",
      "514/514 [==============================] - ETA: 0s - loss: 0.5149 - accuracy: 0.80 - 0s 113us/step - loss: 0.5777 - accuracy: 0.7121 - val_loss: 0.5725 - val_accuracy: 0.7126\n",
      "Epoch 21/150\n",
      "514/514 [==============================] - ETA: 0s - loss: 0.6621 - accuracy: 0.70 - 0s 107us/step - loss: 0.5764 - accuracy: 0.7140 - val_loss: 0.5735 - val_accuracy: 0.6890\n",
      "Epoch 22/150\n",
      "514/514 [==============================] - 0s 111us/step - loss: 0.5747 - accuracy: 0.7296 - val_loss: 0.5664 - val_accuracy: 0.7047\n",
      "Epoch 23/150\n",
      "514/514 [==============================] - 0s 108us/step - loss: 0.5756 - accuracy: 0.7023 - val_loss: 0.5646 - val_accuracy: 0.7165\n",
      "Epoch 24/150\n",
      "514/514 [==============================] - 0s 115us/step - loss: 0.5600 - accuracy: 0.7276 - val_loss: 0.5591 - val_accuracy: 0.7244\n",
      "Epoch 25/150\n",
      "514/514 [==============================] - 0s 111us/step - loss: 0.5652 - accuracy: 0.7257 - val_loss: 0.5568 - val_accuracy: 0.6929\n",
      "Epoch 26/150\n",
      "514/514 [==============================] - 0s 122us/step - loss: 0.5597 - accuracy: 0.7510 - val_loss: 0.5571 - val_accuracy: 0.7165\n",
      "Epoch 27/150\n",
      "514/514 [==============================] - 0s 115us/step - loss: 0.5611 - accuracy: 0.7451 - val_loss: 0.5583 - val_accuracy: 0.7244\n",
      "Epoch 28/150\n",
      "514/514 [==============================] - 0s 118us/step - loss: 0.5575 - accuracy: 0.7315 - val_loss: 0.6290 - val_accuracy: 0.5906\n",
      "Epoch 29/150\n",
      "514/514 [==============================] - 0s 113us/step - loss: 0.5567 - accuracy: 0.7198 - val_loss: 0.5696 - val_accuracy: 0.7165\n",
      "Epoch 30/150\n",
      "514/514 [==============================] - 0s 109us/step - loss: 0.5532 - accuracy: 0.7276 - val_loss: 0.5571 - val_accuracy: 0.7244\n",
      "Epoch 31/150\n",
      "514/514 [==============================] - 0s 110us/step - loss: 0.5449 - accuracy: 0.7257 - val_loss: 0.5737 - val_accuracy: 0.7205\n",
      "Epoch 32/150\n",
      "514/514 [==============================] - 0s 123us/step - loss: 0.5645 - accuracy: 0.7218 - val_loss: 0.5913 - val_accuracy: 0.6693\n",
      "Epoch 33/150\n",
      "514/514 [==============================] - 0s 161us/step - loss: 0.5761 - accuracy: 0.7179 - val_loss: 0.5808 - val_accuracy: 0.7205\n",
      "Epoch 34/150\n",
      "514/514 [==============================] - 0s 138us/step - loss: 0.5518 - accuracy: 0.7276 - val_loss: 0.5603 - val_accuracy: 0.7126\n",
      "Epoch 35/150\n",
      "514/514 [==============================] - 0s 120us/step - loss: 0.5450 - accuracy: 0.7354 - val_loss: 0.5477 - val_accuracy: 0.7244\n",
      "Epoch 36/150\n",
      "514/514 [==============================] - 0s 113us/step - loss: 0.5517 - accuracy: 0.7160 - val_loss: 0.5567 - val_accuracy: 0.7126\n",
      "Epoch 37/150\n",
      "514/514 [==============================] - 0s 108us/step - loss: 0.5444 - accuracy: 0.7335 - val_loss: 0.5579 - val_accuracy: 0.7283\n",
      "Epoch 38/150\n",
      "514/514 [==============================] - 0s 115us/step - loss: 0.5430 - accuracy: 0.7315 - val_loss: 0.5391 - val_accuracy: 0.7441\n",
      "Epoch 39/150\n",
      "514/514 [==============================] - 0s 117us/step - loss: 0.5521 - accuracy: 0.7218 - val_loss: 0.5550 - val_accuracy: 0.7323\n",
      "Epoch 40/150\n",
      "514/514 [==============================] - 0s 115us/step - loss: 0.5454 - accuracy: 0.7432 - val_loss: 0.5441 - val_accuracy: 0.7402\n",
      "Epoch 41/150\n",
      "514/514 [==============================] - 0s 126us/step - loss: 0.5412 - accuracy: 0.7335 - val_loss: 0.5437 - val_accuracy: 0.7402\n",
      "Epoch 42/150\n",
      "514/514 [==============================] - 0s 122us/step - loss: 0.5483 - accuracy: 0.7354 - val_loss: 0.5773 - val_accuracy: 0.7087\n",
      "Epoch 43/150\n",
      "514/514 [==============================] - 0s 105us/step - loss: 0.5450 - accuracy: 0.7315 - val_loss: 0.5524 - val_accuracy: 0.7402\n",
      "Epoch 44/150\n",
      "514/514 [==============================] - 0s 122us/step - loss: 0.5423 - accuracy: 0.7257 - val_loss: 0.5472 - val_accuracy: 0.7244\n",
      "Epoch 45/150\n",
      "514/514 [==============================] - 0s 119us/step - loss: 0.5357 - accuracy: 0.7315 - val_loss: 0.5703 - val_accuracy: 0.7126\n",
      "Epoch 46/150\n",
      "514/514 [==============================] - 0s 122us/step - loss: 0.5485 - accuracy: 0.7160 - val_loss: 0.5519 - val_accuracy: 0.7205\n",
      "Epoch 47/150\n",
      "514/514 [==============================] - 0s 122us/step - loss: 0.5533 - accuracy: 0.7140 - val_loss: 0.5469 - val_accuracy: 0.7323\n",
      "Epoch 48/150\n",
      "514/514 [==============================] - 0s 120us/step - loss: 0.5418 - accuracy: 0.7257 - val_loss: 0.5484 - val_accuracy: 0.7441\n",
      "Epoch 49/150\n",
      "514/514 [==============================] - 0s 113us/step - loss: 0.5379 - accuracy: 0.7451 - val_loss: 0.5436 - val_accuracy: 0.7244\n",
      "Epoch 50/150\n",
      "514/514 [==============================] - 0s 116us/step - loss: 0.5378 - accuracy: 0.7296 - val_loss: 0.5598 - val_accuracy: 0.7126\n",
      "Epoch 51/150\n",
      "514/514 [==============================] - 0s 119us/step - loss: 0.5325 - accuracy: 0.7432 - val_loss: 0.5438 - val_accuracy: 0.7480\n",
      "Epoch 52/150\n",
      "514/514 [==============================] - 0s 117us/step - loss: 0.5354 - accuracy: 0.7510 - val_loss: 0.5535 - val_accuracy: 0.7283\n",
      "Epoch 53/150\n",
      "514/514 [==============================] - 0s 108us/step - loss: 0.5309 - accuracy: 0.7451 - val_loss: 0.5392 - val_accuracy: 0.7362\n",
      "Epoch 54/150\n",
      "514/514 [==============================] - 0s 128us/step - loss: 0.5293 - accuracy: 0.7432 - val_loss: 0.5453 - val_accuracy: 0.7598\n",
      "Epoch 55/150\n",
      "514/514 [==============================] - 0s 113us/step - loss: 0.5275 - accuracy: 0.7432 - val_loss: 0.5535 - val_accuracy: 0.7126\n",
      "Epoch 56/150\n",
      "514/514 [==============================] - 0s 108us/step - loss: 0.5369 - accuracy: 0.7393 - val_loss: 0.5533 - val_accuracy: 0.7283\n",
      "Epoch 57/150\n",
      "514/514 [==============================] - 0s 132us/step - loss: 0.5384 - accuracy: 0.7393 - val_loss: 0.5604 - val_accuracy: 0.7402\n",
      "Epoch 58/150\n",
      "514/514 [==============================] - 0s 109us/step - loss: 0.5293 - accuracy: 0.7257 - val_loss: 0.5622 - val_accuracy: 0.7047\n",
      "Epoch 59/150\n",
      "514/514 [==============================] - 0s 109us/step - loss: 0.5419 - accuracy: 0.7296 - val_loss: 0.5442 - val_accuracy: 0.7441\n",
      "Epoch 60/150\n",
      "514/514 [==============================] - 0s 126us/step - loss: 0.5301 - accuracy: 0.7354 - val_loss: 0.5462 - val_accuracy: 0.7402\n",
      "Epoch 61/150\n",
      "514/514 [==============================] - 0s 111us/step - loss: 0.5312 - accuracy: 0.7451 - val_loss: 0.5496 - val_accuracy: 0.7559\n",
      "Epoch 62/150\n",
      "514/514 [==============================] - 0s 106us/step - loss: 0.5329 - accuracy: 0.7354 - val_loss: 0.5468 - val_accuracy: 0.7402\n",
      "Epoch 63/150\n",
      "514/514 [==============================] - 0s 111us/step - loss: 0.5253 - accuracy: 0.7354 - val_loss: 0.5470 - val_accuracy: 0.7362\n",
      "Epoch 64/150\n",
      "514/514 [==============================] - 0s 110us/step - loss: 0.5278 - accuracy: 0.7510 - val_loss: 0.5509 - val_accuracy: 0.7559\n",
      "Epoch 65/150\n",
      "514/514 [==============================] - 0s 113us/step - loss: 0.5319 - accuracy: 0.7354 - val_loss: 0.5605 - val_accuracy: 0.7283\n",
      "Epoch 66/150\n",
      "514/514 [==============================] - 0s 109us/step - loss: 0.5310 - accuracy: 0.7276 - val_loss: 0.5305 - val_accuracy: 0.7717\n",
      "Epoch 67/150\n",
      "514/514 [==============================] - 0s 116us/step - loss: 0.5247 - accuracy: 0.7393 - val_loss: 0.5582 - val_accuracy: 0.7520\n",
      "Epoch 68/150\n",
      "514/514 [==============================] - 0s 109us/step - loss: 0.5315 - accuracy: 0.7315 - val_loss: 0.5576 - val_accuracy: 0.7480\n",
      "Epoch 69/150\n",
      "514/514 [==============================] - 0s 109us/step - loss: 0.5279 - accuracy: 0.7315 - val_loss: 0.5483 - val_accuracy: 0.7480\n",
      "Epoch 70/150\n",
      "514/514 [==============================] - 0s 106us/step - loss: 0.5308 - accuracy: 0.7451 - val_loss: 0.5420 - val_accuracy: 0.7323\n",
      "Epoch 71/150\n",
      "514/514 [==============================] - 0s 118us/step - loss: 0.5251 - accuracy: 0.7432 - val_loss: 0.5490 - val_accuracy: 0.7441\n",
      "Epoch 72/150\n",
      "514/514 [==============================] - 0s 112us/step - loss: 0.5253 - accuracy: 0.7412 - val_loss: 0.5299 - val_accuracy: 0.7756\n",
      "Epoch 73/150\n",
      "514/514 [==============================] - 0s 111us/step - loss: 0.5272 - accuracy: 0.7374 - val_loss: 0.5347 - val_accuracy: 0.7480\n",
      "Epoch 74/150\n",
      "514/514 [==============================] - 0s 109us/step - loss: 0.5209 - accuracy: 0.7432 - val_loss: 0.5389 - val_accuracy: 0.7520\n",
      "Epoch 75/150\n",
      "514/514 [==============================] - 0s 119us/step - loss: 0.5254 - accuracy: 0.7432 - val_loss: 0.5367 - val_accuracy: 0.7677\n",
      "Epoch 76/150\n",
      "514/514 [==============================] - 0s 116us/step - loss: 0.5173 - accuracy: 0.7432 - val_loss: 0.5340 - val_accuracy: 0.7598\n",
      "Epoch 77/150\n",
      "514/514 [==============================] - 0s 112us/step - loss: 0.5197 - accuracy: 0.7451 - val_loss: 0.5336 - val_accuracy: 0.7598\n",
      "Epoch 78/150\n",
      "514/514 [==============================] - 0s 115us/step - loss: 0.5181 - accuracy: 0.7451 - val_loss: 0.5317 - val_accuracy: 0.7677\n",
      "Epoch 79/150\n",
      "514/514 [==============================] - 0s 108us/step - loss: 0.5262 - accuracy: 0.7432 - val_loss: 0.5401 - val_accuracy: 0.7638\n",
      "Epoch 80/150\n",
      "514/514 [==============================] - 0s 115us/step - loss: 0.5209 - accuracy: 0.7549 - val_loss: 0.5354 - val_accuracy: 0.7717\n",
      "Epoch 81/150\n",
      "514/514 [==============================] - 0s 107us/step - loss: 0.5298 - accuracy: 0.7471 - val_loss: 0.5413 - val_accuracy: 0.7323\n",
      "Epoch 82/150\n",
      "514/514 [==============================] - 0s 118us/step - loss: 0.5203 - accuracy: 0.7296 - val_loss: 0.5281 - val_accuracy: 0.7638\n",
      "Epoch 83/150\n",
      "514/514 [==============================] - 0s 120us/step - loss: 0.5131 - accuracy: 0.7276 - val_loss: 0.5397 - val_accuracy: 0.7283\n",
      "Epoch 84/150\n",
      "514/514 [==============================] - 0s 113us/step - loss: 0.5245 - accuracy: 0.7354 - val_loss: 0.5274 - val_accuracy: 0.7638\n",
      "Epoch 85/150\n",
      "514/514 [==============================] - 0s 128us/step - loss: 0.5182 - accuracy: 0.7471 - val_loss: 0.5297 - val_accuracy: 0.7520\n",
      "Epoch 86/150\n",
      "514/514 [==============================] - 0s 113us/step - loss: 0.5145 - accuracy: 0.7335 - val_loss: 0.5334 - val_accuracy: 0.7677\n",
      "Epoch 87/150\n",
      "514/514 [==============================] - 0s 109us/step - loss: 0.5119 - accuracy: 0.7510 - val_loss: 0.5237 - val_accuracy: 0.7677\n",
      "Epoch 88/150\n",
      "514/514 [==============================] - 0s 120us/step - loss: 0.5139 - accuracy: 0.7568 - val_loss: 0.5323 - val_accuracy: 0.7441\n",
      "Epoch 89/150\n",
      "514/514 [==============================] - 0s 114us/step - loss: 0.5144 - accuracy: 0.7393 - val_loss: 0.5253 - val_accuracy: 0.7677\n",
      "Epoch 90/150\n",
      "514/514 [==============================] - 0s 107us/step - loss: 0.5163 - accuracy: 0.7412 - val_loss: 0.5346 - val_accuracy: 0.7283\n",
      "Epoch 91/150\n",
      "514/514 [==============================] - 0s 113us/step - loss: 0.5185 - accuracy: 0.7432 - val_loss: 0.5368 - val_accuracy: 0.7559\n",
      "Epoch 92/150\n",
      "514/514 [==============================] - 0s 109us/step - loss: 0.5233 - accuracy: 0.7276 - val_loss: 0.5332 - val_accuracy: 0.7362\n",
      "Epoch 93/150\n",
      "514/514 [==============================] - 0s 113us/step - loss: 0.5139 - accuracy: 0.7607 - val_loss: 0.5354 - val_accuracy: 0.7677\n",
      "Epoch 94/150\n",
      "514/514 [==============================] - 0s 109us/step - loss: 0.5170 - accuracy: 0.7471 - val_loss: 0.5223 - val_accuracy: 0.7795\n",
      "Epoch 95/150\n",
      "514/514 [==============================] - 0s 115us/step - loss: 0.5168 - accuracy: 0.7549 - val_loss: 0.5337 - val_accuracy: 0.7205\n",
      "Epoch 96/150\n",
      "514/514 [==============================] - 0s 117us/step - loss: 0.5222 - accuracy: 0.7374 - val_loss: 0.5239 - val_accuracy: 0.7677\n",
      "Epoch 97/150\n",
      "514/514 [==============================] - 0s 114us/step - loss: 0.5147 - accuracy: 0.7490 - val_loss: 0.5134 - val_accuracy: 0.7835\n",
      "Epoch 98/150\n",
      "514/514 [==============================] - 0s 109us/step - loss: 0.5195 - accuracy: 0.7471 - val_loss: 0.5387 - val_accuracy: 0.7520\n",
      "Epoch 99/150\n",
      "514/514 [==============================] - 0s 122us/step - loss: 0.5212 - accuracy: 0.7374 - val_loss: 0.5267 - val_accuracy: 0.7795\n",
      "Epoch 100/150\n",
      "514/514 [==============================] - 0s 111us/step - loss: 0.5145 - accuracy: 0.7432 - val_loss: 0.5127 - val_accuracy: 0.7835\n",
      "Epoch 101/150\n",
      "514/514 [==============================] - 0s 108us/step - loss: 0.5123 - accuracy: 0.7490 - val_loss: 0.5199 - val_accuracy: 0.7677\n",
      "Epoch 102/150\n",
      "514/514 [==============================] - 0s 115us/step - loss: 0.5073 - accuracy: 0.7549 - val_loss: 0.5114 - val_accuracy: 0.7874\n",
      "Epoch 103/150\n",
      "514/514 [==============================] - 0s 114us/step - loss: 0.5173 - accuracy: 0.7510 - val_loss: 0.5173 - val_accuracy: 0.7559\n",
      "Epoch 104/150\n",
      "514/514 [==============================] - 0s 114us/step - loss: 0.5107 - accuracy: 0.7490 - val_loss: 0.5109 - val_accuracy: 0.7835\n",
      "Epoch 105/150\n",
      "514/514 [==============================] - 0s 107us/step - loss: 0.5055 - accuracy: 0.7510 - val_loss: 0.5197 - val_accuracy: 0.7756\n",
      "Epoch 106/150\n",
      "514/514 [==============================] - 0s 118us/step - loss: 0.5090 - accuracy: 0.7510 - val_loss: 0.5134 - val_accuracy: 0.7913\n",
      "Epoch 107/150\n",
      "514/514 [==============================] - 0s 111us/step - loss: 0.5120 - accuracy: 0.7393 - val_loss: 0.5262 - val_accuracy: 0.7402\n",
      "Epoch 108/150\n",
      "514/514 [==============================] - 0s 106us/step - loss: 0.5170 - accuracy: 0.7646 - val_loss: 0.5193 - val_accuracy: 0.7480\n",
      "Epoch 109/150\n",
      "514/514 [==============================] - 0s 109us/step - loss: 0.5121 - accuracy: 0.7510 - val_loss: 0.5084 - val_accuracy: 0.7835\n",
      "Epoch 110/150\n",
      "514/514 [==============================] - 0s 116us/step - loss: 0.5022 - accuracy: 0.7568 - val_loss: 0.5516 - val_accuracy: 0.7402\n",
      "Epoch 111/150\n",
      "514/514 [==============================] - 0s 109us/step - loss: 0.5184 - accuracy: 0.7490 - val_loss: 0.5196 - val_accuracy: 0.7795\n",
      "Epoch 112/150\n"
     ]
    },
    {
     "name": "stdout",
     "output_type": "stream",
     "text": [
      "514/514 [==============================] - 0s 121us/step - loss: 0.5021 - accuracy: 0.7568 - val_loss: 0.5206 - val_accuracy: 0.7480\n",
      "Epoch 113/150\n",
      "514/514 [==============================] - 0s 113us/step - loss: 0.5093 - accuracy: 0.7490 - val_loss: 0.5126 - val_accuracy: 0.7638\n",
      "Epoch 114/150\n",
      "514/514 [==============================] - 0s 110us/step - loss: 0.5028 - accuracy: 0.7451 - val_loss: 0.5065 - val_accuracy: 0.7756\n",
      "Epoch 115/150\n",
      "514/514 [==============================] - 0s 111us/step - loss: 0.5044 - accuracy: 0.7471 - val_loss: 0.5085 - val_accuracy: 0.7874\n",
      "Epoch 116/150\n",
      "514/514 [==============================] - 0s 108us/step - loss: 0.5025 - accuracy: 0.7529 - val_loss: 0.5030 - val_accuracy: 0.7953\n",
      "Epoch 117/150\n",
      "514/514 [==============================] - 0s 114us/step - loss: 0.5085 - accuracy: 0.7432 - val_loss: 0.5387 - val_accuracy: 0.7638\n",
      "Epoch 118/150\n",
      "514/514 [==============================] - 0s 110us/step - loss: 0.5030 - accuracy: 0.7510 - val_loss: 0.5064 - val_accuracy: 0.7835\n",
      "Epoch 119/150\n",
      "514/514 [==============================] - 0s 114us/step - loss: 0.5086 - accuracy: 0.7471 - val_loss: 0.5266 - val_accuracy: 0.7795\n",
      "Epoch 120/150\n",
      "514/514 [==============================] - 0s 109us/step - loss: 0.5023 - accuracy: 0.7510 - val_loss: 0.5093 - val_accuracy: 0.7795\n",
      "Epoch 121/150\n",
      "514/514 [==============================] - 0s 114us/step - loss: 0.5053 - accuracy: 0.7510 - val_loss: 0.5252 - val_accuracy: 0.7559\n",
      "Epoch 122/150\n",
      "514/514 [==============================] - 0s 111us/step - loss: 0.5047 - accuracy: 0.7549 - val_loss: 0.5042 - val_accuracy: 0.7756\n",
      "Epoch 123/150\n",
      "514/514 [==============================] - 0s 112us/step - loss: 0.5008 - accuracy: 0.7393 - val_loss: 0.5153 - val_accuracy: 0.7638\n",
      "Epoch 124/150\n",
      "514/514 [==============================] - 0s 111us/step - loss: 0.4999 - accuracy: 0.7607 - val_loss: 0.5213 - val_accuracy: 0.7520\n",
      "Epoch 125/150\n",
      "514/514 [==============================] - 0s 113us/step - loss: 0.5086 - accuracy: 0.7471 - val_loss: 0.5176 - val_accuracy: 0.7756\n",
      "Epoch 126/150\n",
      "514/514 [==============================] - 0s 116us/step - loss: 0.4952 - accuracy: 0.7451 - val_loss: 0.5196 - val_accuracy: 0.7480\n",
      "Epoch 127/150\n",
      "514/514 [==============================] - 0s 108us/step - loss: 0.4977 - accuracy: 0.7568 - val_loss: 0.4990 - val_accuracy: 0.7874\n",
      "Epoch 128/150\n",
      "514/514 [==============================] - 0s 113us/step - loss: 0.4928 - accuracy: 0.7724 - val_loss: 0.5086 - val_accuracy: 0.7835\n",
      "Epoch 129/150\n",
      "514/514 [==============================] - 0s 114us/step - loss: 0.5004 - accuracy: 0.7451 - val_loss: 0.5041 - val_accuracy: 0.7677\n",
      "Epoch 130/150\n",
      "514/514 [==============================] - 0s 113us/step - loss: 0.4981 - accuracy: 0.7568 - val_loss: 0.4979 - val_accuracy: 0.7913\n",
      "Epoch 131/150\n",
      "514/514 [==============================] - 0s 109us/step - loss: 0.4940 - accuracy: 0.7529 - val_loss: 0.5164 - val_accuracy: 0.7638\n",
      "Epoch 132/150\n",
      "514/514 [==============================] - 0s 118us/step - loss: 0.5010 - accuracy: 0.7490 - val_loss: 0.5048 - val_accuracy: 0.7598\n",
      "Epoch 133/150\n",
      "514/514 [==============================] - 0s 105us/step - loss: 0.4959 - accuracy: 0.7568 - val_loss: 0.5020 - val_accuracy: 0.7874\n",
      "Epoch 134/150\n",
      "514/514 [==============================] - 0s 131us/step - loss: 0.4926 - accuracy: 0.7588 - val_loss: 0.5112 - val_accuracy: 0.7559\n",
      "Epoch 135/150\n",
      "514/514 [==============================] - 0s 139us/step - loss: 0.4965 - accuracy: 0.7626 - val_loss: 0.5013 - val_accuracy: 0.7835\n",
      "Epoch 136/150\n",
      "514/514 [==============================] - 0s 116us/step - loss: 0.4951 - accuracy: 0.7490 - val_loss: 0.4946 - val_accuracy: 0.7953\n",
      "Epoch 137/150\n",
      "514/514 [==============================] - 0s 115us/step - loss: 0.5056 - accuracy: 0.7335 - val_loss: 0.5077 - val_accuracy: 0.7677\n",
      "Epoch 138/150\n",
      "514/514 [==============================] - 0s 107us/step - loss: 0.4931 - accuracy: 0.7529 - val_loss: 0.4989 - val_accuracy: 0.7756\n",
      "Epoch 139/150\n",
      "514/514 [==============================] - 0s 118us/step - loss: 0.4956 - accuracy: 0.7510 - val_loss: 0.5001 - val_accuracy: 0.7756\n",
      "Epoch 140/150\n",
      "514/514 [==============================] - 0s 106us/step - loss: 0.4881 - accuracy: 0.7588 - val_loss: 0.5032 - val_accuracy: 0.7795\n",
      "Epoch 141/150\n",
      "514/514 [==============================] - 0s 111us/step - loss: 0.4917 - accuracy: 0.7568 - val_loss: 0.4949 - val_accuracy: 0.7953\n",
      "Epoch 142/150\n",
      "514/514 [==============================] - 0s 109us/step - loss: 0.4944 - accuracy: 0.7646 - val_loss: 0.4999 - val_accuracy: 0.7717\n",
      "Epoch 143/150\n",
      "514/514 [==============================] - 0s 112us/step - loss: 0.4967 - accuracy: 0.7490 - val_loss: 0.4992 - val_accuracy: 0.7874\n",
      "Epoch 144/150\n",
      "514/514 [==============================] - 0s 111us/step - loss: 0.5000 - accuracy: 0.7607 - val_loss: 0.4942 - val_accuracy: 0.7756\n",
      "Epoch 145/150\n",
      "514/514 [==============================] - 0s 114us/step - loss: 0.4912 - accuracy: 0.7568 - val_loss: 0.4886 - val_accuracy: 0.7913\n",
      "Epoch 146/150\n",
      "514/514 [==============================] - 0s 108us/step - loss: 0.4847 - accuracy: 0.7626 - val_loss: 0.5094 - val_accuracy: 0.7874\n",
      "Epoch 147/150\n",
      "514/514 [==============================] - 0s 112us/step - loss: 0.4883 - accuracy: 0.7607 - val_loss: 0.4944 - val_accuracy: 0.7835\n",
      "Epoch 148/150\n",
      "514/514 [==============================] - 0s 107us/step - loss: 0.4893 - accuracy: 0.7626 - val_loss: 0.5152 - val_accuracy: 0.7598\n",
      "Epoch 149/150\n",
      "514/514 [==============================] - 0s 112us/step - loss: 0.4866 - accuracy: 0.7646 - val_loss: 0.4906 - val_accuracy: 0.7953\n",
      "Epoch 150/150\n",
      "514/514 [==============================] - 0s 111us/step - loss: 0.4855 - accuracy: 0.7763 - val_loss: 0.4957 - val_accuracy: 0.7874\n",
      "768/768 [==============================] - 0s 17us/step\n",
      "\n",
      "accuracy: 77.99%\n"
     ]
    }
   ],
   "source": [
    "from keras.models import Sequential # input 1개, output 1개인 망\n",
    "from keras.layers import Dense\n",
    "import numpy\n",
    "\n",
    "numpy.random.seed(7)\n",
    "dataset = numpy.loadtxt(\"pima.data\", delimiter=\",\")\n",
    "X = dataset[:, 0:8] # 8개 독립변수\n",
    "Y = dataset[:, 8]   # 종속변수\n",
    "\n",
    "model = Sequential()\n",
    "# ?x8 8x12(가중치) => ?x12\n",
    "model.add(Dense(12, input_dim=8, kernel_initializer=\"uniform\", activation=\"relu\"))\n",
    "# ?x12 12x8(가중치) => ?x8\n",
    "model.add(Dense(8, kernel_initializer=\"uniform\", activation=\"relu\"))\n",
    "# ?x8 8x1(가중치) => ?x1\n",
    "model.add(Dense(1, kernel_initializer=\"uniform\", activation=\"sigmoid\")) # sigmoid:분류, 0.5기준으로\n",
    "model.compile(loss=\"binary_crossentropy\", optimizer=\"adam\", metrics=[\"accuracy\"]) # metrics:무엇을 측정하겠는가\n",
    "# validation_split\n",
    "#  : 데이터를 분리 입력(train,test)할 때, test도 과적합\n",
    "#  : train, validation, test으로 나눔\n",
    "history = model.fit(X, Y, epochs=150, batch_size=10, validation_split=0.33)\n",
    "scores = model.evaluate(X, Y)\n",
    "print(\"\\n%s: %.2f%%\" % (model.metrics_names[1], scores[1]*100))"
   ]
  },
  {
   "cell_type": "code",
   "execution_count": 19,
   "metadata": {},
   "outputs": [
    {
     "name": "stdout",
     "output_type": "stream",
     "text": [
      "dict_keys(['val_loss', 'val_accuracy', 'loss', 'accuracy'])\n"
     ]
    },
    {
     "data": {
      "image/png": "[encoded data removed]",
      "text/plain": [
       "<Figure size 432x288 with 1 Axes>"
      ]
     },
     "metadata": {
      "needs_background": "light"
     },
     "output_type": "display_data"
    }
   ],
   "source": [
    "import matplotlib.pyplot as plt\n",
    "%matplotlib inline\n",
    "\n",
    "# 기본 'loss', 'accuracy'\n",
    "# validation_split하면 'val_loss', 'val_accuracy', 'loss', 'accuracy'\n",
    "print(history.history.keys())\n",
    "\n",
    "plt.plot(history.history['accuracy'])\n",
    "plt.plot(history.history['val_accuracy'])\n",
    "plt.title(\"accuracy\")\n",
    "plt.ylabel(\"accuracy\")\n",
    "plt.xlabel(\"epoch\")\n",
    "plt.legend([\"train\", \"test\"], loc=\"upper left\")\n",
    "plt.show()"
   ]
  },
  {
   "cell_type": "code",
   "execution_count": 20,
   "metadata": {},
   "outputs": [
    {
     "data": {
      "image/png": "[encoded data removed]",
      "text/plain": [
       "<Figure size 432x288 with 1 Axes>"
      ]
     },
     "metadata": {
      "needs_background": "light"
     },
     "output_type": "display_data"
    }
   ],
   "source": [
    "plt.plot(history.history['loss'])\n",
    "plt.plot(history.history['val_loss'])\n",
    "plt.title(\"loss\")\n",
    "plt.ylabel(\"loss\")\n",
    "plt.xlabel(\"epoch\")\n",
    "plt.legend([\"train\", \"test\"], loc=\"upper left\")\n",
    "plt.show()"
   ]
  },
  {
   "cell_type": "code",
   "execution_count": 27,
   "metadata": {},
   "outputs": [
    {
     "name": "stdout",
     "output_type": "stream",
     "text": [
      "(1000, 2)\n",
      "(1000,)\n"
     ]
    }
   ],
   "source": [
    "from sklearn.preprocessing import scale\n",
    "from sklearn.model_selection import train_test_split\n",
    "from sklearn.datasets import make_moons\n",
    "X, Y = make_moons(noise=0.2, random_state=0, n_samples=1000)\n",
    "X = scale(X)\n",
    "X_train, X_test, Y_train, Y_test = train_test_split(X, Y, test_size=.5)\n",
    "print(X.shape) # 1000 x 2\n",
    "print(Y.shape)"
   ]
  },
  {
   "cell_type": "code",
   "execution_count": 28,
   "metadata": {},
   "outputs": [
    {
     "data": {
      "text/plain": [
       "[Text(0, 0.5, 'Y'),\n",
       " Text(0.5, 0, 'x'),\n",
       " Text(0.5, 1.0, 'history classification')]"
      ]
     },
     "execution_count": 28,
     "metadata": {},
     "output_type": "execute_result"
    },
    {
     "data": {
      "image/png": "[encoded data removed]",
      "text/plain": [
       "<Figure size 432x288 with 1 Axes>"
      ]
     },
     "metadata": {
      "needs_background": "light"
     },
     "output_type": "display_data"
    }
   ],
   "source": [
    "fig, ax = plt.subplots()\n",
    "ax.scatter(X[Y==0, 0], X[Y==0, 1], label=\"Class 0\")\n",
    "ax.scatter(X[Y==1, 0], X[Y==1, 1], color=\"r\", label=\"Class 1\")\n",
    "ax.legend()\n",
    "ax.set(xlabel=\"x\", ylabel=\"Y\", title=\"history classification\")"
   ]
  },
  {
   "cell_type": "code",
   "execution_count": 31,
   "metadata": {},
   "outputs": [
    {
     "name": "stderr",
     "output_type": "stream",
     "text": [
      "C:\\Users\\ICT01_16\\Anaconda3\\lib\\importlib\\_bootstrap.py:219: RuntimeWarning: numpy.ufunc size changed, may indicate binary incompatibility. Expected 192 from C header, got 216 from PyObject\n",
      "  return f(*args, **kwds)\n"
     ]
    },
    {
     "name": "stdout",
     "output_type": "stream",
     "text": [
      "WARNING:tensorflow:From C:\\Users\\ICT01_16\\Anaconda3\\lib\\site-packages\\keras\\callbacks\\tensorboard_v1.py:146: The name tf.summary.histogram is deprecated. Please use tf.compat.v1.summary.histogram instead.\n",
      "\n",
      "WARNING:tensorflow:From C:\\Users\\ICT01_16\\Anaconda3\\lib\\site-packages\\keras\\callbacks\\tensorboard_v1.py:200: The name tf.summary.merge_all is deprecated. Please use tf.compat.v1.summary.merge_all instead.\n",
      "\n",
      "WARNING:tensorflow:From C:\\Users\\ICT01_16\\Anaconda3\\lib\\site-packages\\keras\\callbacks\\tensorboard_v1.py:203: The name tf.summary.FileWriter is deprecated. Please use tf.compat.v1.summary.FileWriter instead.\n",
      "\n"
     ]
    }
   ],
   "source": [
    "import keras\n",
    "# 비선형일 때 신경망을 사용한다.\n",
    "model = Sequential()\n",
    "# 입력데이터 1000x2 2x32 => 1000x32 (차원확대 2->32 => 설명이 잘된다)\n",
    "model.add(Dense(32, input_dim=2, activation=\"relu\"))\n",
    "# 1000x32 32x1 = 33 + bias1개 = 34 => 1000x1(분류)\n",
    "model.add(Dense(1, activation=\"sigmoid\"))\n",
    "model.compile(optimizer=\"AdaDelta\", loss=\"binary_crossentropy\", metrics=[\"accuracy\"])\n",
    "\n",
    "# callback함수 : winodows에서 event후에 자동으로 호출되어지는 함수\n",
    "# graph image 출력\n",
    "tb_callback = keras.callbacks.TensorBoard(log_dir=\"./Graph/model_1/\",\n",
    "                                          histogram_freq=100,\n",
    "                                          write_graph=True,\n",
    "                                          write_images=False)\n",
    "tb_callback.set_model(model) # callback함수를 model에 등록"
   ]
  },
  {
   "cell_type": "code",
   "execution_count": 36,
   "metadata": {},
   "outputs": [
    {
     "name": "stdout",
     "output_type": "stream",
     "text": [
      "WARNING:tensorflow:From C:\\Users\\ICT01_16\\Anaconda3\\lib\\site-packages\\keras\\callbacks\\tensorboard_v1.py:343: The name tf.Summary is deprecated. Please use tf.compat.v1.Summary instead.\n",
      "\n"
     ]
    }
   ],
   "source": [
    "hist = model.fit(X_train, Y_train, batch_size=32, epochs=200, verbose=0, validation_data=(X_test, Y_test), callbacks=[tb_callback])"
   ]
  },
  {
   "cell_type": "code",
   "execution_count": 37,
   "metadata": {},
   "outputs": [
    {
     "name": "stdout",
     "output_type": "stream",
     "text": [
      "Test loss: 0.09846816992759705\n",
      "Test accuracy: 0.9660000205039978\n"
     ]
    }
   ],
   "source": [
    "score = model.evaluate(X_test, Y_test, verbose = 0)\n",
    "print(\"Test loss:\", score[0])\n",
    "print(\"Test accuracy:\", score[1])"
   ]
  },
  {
   "cell_type": "code",
   "execution_count": 39,
   "metadata": {},
   "outputs": [
    {
     "name": "stdout",
     "output_type": "stream",
     "text": [
      "Model: \"sequential_11\"\n",
      "_________________________________________________________________\n",
      "Layer (type)                 Output Shape              Param #   \n",
      "=================================================================\n",
      "dense_29 (Dense)             (None, 32)                96        \n",
      "_________________________________________________________________\n",
      "dense_30 (Dense)             (None, 1)                 33        \n",
      "=================================================================\n",
      "Total params: 129\n",
      "Trainable params: 129\n",
      "Non-trainable params: 0\n",
      "_________________________________________________________________\n"
     ]
    }
   ],
   "source": [
    "keras.utils.print_summary(model)"
   ]
  },
  {
   "cell_type": "code",
   "execution_count": 40,
   "metadata": {},
   "outputs": [
    {
     "data": {
      "image/png": "[encoded data removed]",
      "text/plain": [
       "<IPython.core.display.Image object>"
      ]
     },
     "execution_count": 40,
     "metadata": {},
     "output_type": "execute_result"
    }
   ],
   "source": [
    "keras.utils.plot_model(model)"
   ]
  },
  {
   "cell_type": "code",
   "execution_count": 42,
   "metadata": {},
   "outputs": [
    {
     "data": {
      "text/plain": [
       "<pydot.Dot at 0x24b73cc3048>"
      ]
     },
     "execution_count": 42,
     "metadata": {},
     "output_type": "execute_result"
    }
   ],
   "source": [
    "%matplotlib inline\n",
    "from keras.utils.vis_utils import model_to_dot\n",
    "model_to_dot(model)"
   ]
  },
  {
   "cell_type": "code",
   "execution_count": 44,
   "metadata": {},
   "outputs": [
    {
     "data": {
      "image/svg+xml": [
       "<svg height=\"255pt\" viewBox=\"0.00 0.00 181.00 191.00\" width=\"241pt\" xmlns=\"http://www.w3.org/2000/svg\" xmlns:xlink=\"http://www.w3.org/1999/xlink\">\n",
       "<g class=\"graph\" id=\"graph0\" transform=\"scale(1.33333 1.33333) rotate(0) translate(4 187)\">\n",
       "<title>G</title>\n",
       "<polygon fill=\"white\" points=\"-4,4 -4,-187 177,-187 177,4 -4,4\" stroke=\"none\"/>\n",
       "<!-- 2523035266440 -->\n",
       "<g class=\"node\" id=\"node1\"><title>2523035266440</title>\n",
       "<polygon fill=\"none\" points=\"0,-146.5 0,-182.5 173,-182.5 173,-146.5 0,-146.5\" stroke=\"black\"/>\n",
       "<text font-family=\"Times New Roman,serif\" font-size=\"14.00\" text-anchor=\"middle\" x=\"86.5\" y=\"-160.8\">dense_29_input: InputLayer</text>\n",
       "</g>\n",
       "<!-- 2523035265736 -->\n",
       "<g class=\"node\" id=\"node2\"><title>2523035265736</title>\n",
       "<polygon fill=\"none\" points=\"31,-73.5 31,-109.5 142,-109.5 142,-73.5 31,-73.5\" stroke=\"black\"/>\n",
       "<text font-family=\"Times New Roman,serif\" font-size=\"14.00\" text-anchor=\"middle\" x=\"86.5\" y=\"-87.8\">dense_29: Dense</text>\n",
       "</g>\n",
       "<!-- 2523035266440&#45;&gt;2523035265736 -->\n",
       "<g class=\"edge\" id=\"edge1\"><title>2523035266440-&gt;2523035265736</title>\n",
       "<path d=\"M86.5,-146.313C86.5,-138.289 86.5,-128.547 86.5,-119.569\" fill=\"none\" stroke=\"black\"/>\n",
       "<polygon fill=\"black\" points=\"90.0001,-119.529 86.5,-109.529 83.0001,-119.529 90.0001,-119.529\" stroke=\"black\"/>\n",
       "</g>\n",
       "<!-- 2523035282376 -->\n",
       "<g class=\"node\" id=\"node3\"><title>2523035282376</title>\n",
       "<polygon fill=\"none\" points=\"31,-0.5 31,-36.5 142,-36.5 142,-0.5 31,-0.5\" stroke=\"black\"/>\n",
       "<text font-family=\"Times New Roman,serif\" font-size=\"14.00\" text-anchor=\"middle\" x=\"86.5\" y=\"-14.8\">dense_30: Dense</text>\n",
       "</g>\n",
       "<!-- 2523035265736&#45;&gt;2523035282376 -->\n",
       "<g class=\"edge\" id=\"edge2\"><title>2523035265736-&gt;2523035282376</title>\n",
       "<path d=\"M86.5,-73.3129C86.5,-65.2895 86.5,-55.5475 86.5,-46.5691\" fill=\"none\" stroke=\"black\"/>\n",
       "<polygon fill=\"black\" points=\"90.0001,-46.5288 86.5,-36.5288 83.0001,-46.5289 90.0001,-46.5288\" stroke=\"black\"/>\n",
       "</g>\n",
       "</g>\n",
       "</svg>"
      ],
      "text/plain": [
       "<IPython.core.display.SVG object>"
      ]
     },
     "execution_count": 44,
     "metadata": {},
     "output_type": "execute_result"
    }
   ],
   "source": [
    "from IPython.display import Image, SVG\n",
    "SVG(model_to_dot(model).create(prog=\"dot\", format=\"svg\"))"
   ]
  },
  {
   "cell_type": "code",
   "execution_count": 46,
   "metadata": {},
   "outputs": [
    {
     "name": "stdout",
     "output_type": "stream",
     "text": [
      "Model: \"sequential_11\"\n",
      "_________________________________________________________________\n",
      "Layer (type)                 Output Shape              Param #   \n",
      "=================================================================\n",
      "dense_29 (Dense)             (None, 32)                96        \n",
      "_________________________________________________________________\n",
      "dense_30 (Dense)             (None, 1)                 33        \n",
      "=================================================================\n",
      "Total params: 129\n",
      "Trainable params: 129\n",
      "Non-trainable params: 0\n",
      "_________________________________________________________________\n"
     ]
    }
   ],
   "source": [
    "model.summary()"
   ]
  },
  {
   "cell_type": "code",
   "execution_count": 56,
   "metadata": {},
   "outputs": [
    {
     "name": "stdout",
     "output_type": "stream",
     "text": [
      "(60000, 28, 28) uint8\n",
      "(60000,) uint8\n",
      "(10000, 28, 28) uint8\n",
      "(10000,) uint8\n"
     ]
    }
   ],
   "source": [
    "from keras.datasets import mnist\n",
    "import matplotlib.pylab as plt\n",
    "(X_train0, y_train0), (X_test0, y_test0) = mnist.load_data()\n",
    "print(X_train0.shape, X_train0.dtype) # (60000, 28x28)\n",
    "print(y_train0.shape, y_train0.dtype) # (60000,)\n",
    "print(X_test0.shape, X_test0.dtype)   # (10000, 28x28)\n",
    "print(y_test0.shape, y_test0.dtype)   # (10000,)"
   ]
  },
  {
   "cell_type": "code",
   "execution_count": 57,
   "metadata": {},
   "outputs": [
    {
     "data": {
      "image/png": "[encoded data removed]",
      "text/plain": [
       "<Figure size 432x288 with 1 Axes>"
      ]
     },
     "metadata": {
      "needs_background": "light"
     },
     "output_type": "display_data"
    }
   ],
   "source": [
    "plt.imshow(X_train0[0])\n",
    "plt.grid(False)\n",
    "plt.show()"
   ]
  },
  {
   "cell_type": "code",
   "execution_count": 58,
   "metadata": {},
   "outputs": [
    {
     "name": "stdout",
     "output_type": "stream",
     "text": [
      "(60000, 784) float32\n"
     ]
    }
   ],
   "source": [
    "# fully-connected : flatten <- FFNN은 데이터가 한줄로\n",
    "# 이미지 정규화 : 0~255의 컬러값을 갖기때문에 '/255' 하면은 => 0~1\n",
    "X_train = X_train0.reshape(60000, 784).astype(\"float32\") / 255.0\n",
    "X_test = X_test0.reshape(10000, 784).astype(\"float32\") / 255.0\n",
    "print(X_train.shape, X_train.dtype) # 60000 x 784"
   ]
  },
  {
   "cell_type": "code",
   "execution_count": 59,
   "metadata": {},
   "outputs": [
    {
     "data": {
      "text/plain": [
       "array([5, 0, 4, 1, 9], dtype=uint8)"
      ]
     },
     "execution_count": 59,
     "metadata": {},
     "output_type": "execute_result"
    }
   ],
   "source": [
    "# multi-label일 경우에 softmax\n",
    "# 경우의 수에 대한 확률값\n",
    "y_train0[:5] # one-hot-encoding여부 = X (5, 0, 4, 1, 9)"
   ]
  },
  {
   "cell_type": "code",
   "execution_count": 60,
   "metadata": {},
   "outputs": [
    {
     "data": {
      "text/plain": [
       "array([[0., 0., 0., 0., 0., 1., 0., 0., 0., 0.],\n",
       "       [1., 0., 0., 0., 0., 0., 0., 0., 0., 0.],\n",
       "       [0., 0., 0., 0., 1., 0., 0., 0., 0., 0.],\n",
       "       [0., 1., 0., 0., 0., 0., 0., 0., 0., 0.],\n",
       "       [0., 0., 0., 0., 0., 0., 0., 0., 0., 1.]], dtype=float32)"
      ]
     },
     "execution_count": 60,
     "metadata": {},
     "output_type": "execute_result"
    }
   ],
   "source": [
    "# one-hot-encoding\n",
    "from keras.utils import np_utils\n",
    "Y_train = np_utils.to_categorical(y_train0, 10)\n",
    "Y_test = np_utils.to_categorical(y_test0, 10)\n",
    "Y_train[:5]"
   ]
  },
  {
   "cell_type": "code",
   "execution_count": 72,
   "metadata": {},
   "outputs": [],
   "source": [
    "import numpy as np\n",
    "from keras.optimizers import SGD\n",
    "\n",
    "np.random.seed(0)\n",
    "model = Sequential()\n",
    "# 60000 x 784, 784 x 15 => 60000 x 15\n",
    "###### 1번\n",
    "#model.add(Dense(15, input_dim=784, activation=\"sigmoid\"))\n",
    "\n",
    "###### 2번(문제.출력차수가 512인 레이어를 추가하시요.)\n",
    "model.add(Dense(512, input_dim=784, activation=\"sigmoid\"))\n",
    "model.add(Dense(15))\n",
    "\n",
    "# 60000 x 15, 15 x 10 => 60000 x 10\n",
    "model.add(Dense(10, activation=\"sigmoid\"))\n",
    "# lr = Learning Rate\n",
    "# SGD(Stochastic Gradient Descent)\n",
    "model.compile(optimizer=SGD(lr=0.2), loss=\"mean_squared_error\", metrics=[\"accuracy\"])"
   ]
  },
  {
   "cell_type": "code",
   "execution_count": 73,
   "metadata": {},
   "outputs": [
    {
     "data": {
      "text/plain": [
       "[<keras.layers.core.Dense at 0x24b765ee808>,\n",
       " <keras.layers.core.Dense at 0x24b7656f048>]"
      ]
     },
     "execution_count": 73,
     "metadata": {},
     "output_type": "execute_result"
    }
   ],
   "source": [
    "model.layers"
   ]
  },
  {
   "cell_type": "code",
   "execution_count": 74,
   "metadata": {},
   "outputs": [
    {
     "data": {
      "text/plain": [
       "(None, 15)"
      ]
     },
     "execution_count": 74,
     "metadata": {},
     "output_type": "execute_result"
    }
   ],
   "source": [
    "l1 = model.layers[0]\n",
    "l2 = model.layers[1]\n",
    "#레이어 속성으로 정보 확인\n",
    "l1.name\n",
    "l1.input_shape\n",
    "l1.output_shape"
   ]
  },
  {
   "cell_type": "code",
   "execution_count": 95,
   "metadata": {},
   "outputs": [],
   "source": [
    "# Callback Class\n",
    "# custom callback함수의 제장\n",
    "# Callback function : 함수에 의해서 호출되는 객체(함수)\n",
    "class CustomHistory(keras.callbacks.Callback): # keras.callbacks.Callback을 상속받는다.\n",
    "    def init(self):\n",
    "        self.train_loss = []\n",
    "        self.val_loss = []\n",
    "        self.train_acc = []\n",
    "        self.val_acc = []\n",
    "    def on_epoch_end(self, batch, logs={}): # overriding\n",
    "        self.train_loss.append(logs.get(\"loss\"))\n",
    "        self.val_loss.append(logs.get(\"val_loss\"))\n",
    "        self.train_acc.append(logs.get(\"accuracy\"))\n",
    "        self.val_acc.append(logs.get(\"val_accuracy\"))"
   ]
  },
  {
   "cell_type": "code",
   "execution_count": 96,
   "metadata": {},
   "outputs": [
    {
     "name": "stderr",
     "output_type": "stream",
     "text": [
      "C:\\Users\\ICT01_16\\Anaconda3\\lib\\site-packages\\ipykernel_launcher.py:10: UserWarning: The `nb_epoch` argument in `fit` has been renamed `epochs`.\n",
      "  # Remove the CWD from sys.path while we load stuff.\n"
     ]
    },
    {
     "name": "stdout",
     "output_type": "stream",
     "text": [
      "Train on 60000 samples, validate on 10000 samples\n",
      "Epoch 1/30\n",
      " - 0s - loss: 0.0424 - accuracy: 0.7926 - val_loss: 0.0418 - val_accuracy: 0.8032\n",
      "Epoch 2/30\n",
      " - 0s - loss: 0.0423 - accuracy: 0.7934 - val_loss: 0.0416 - val_accuracy: 0.8043\n",
      "Epoch 3/30\n",
      " - 0s - loss: 0.0421 - accuracy: 0.7947 - val_loss: 0.0414 - val_accuracy: 0.8061\n",
      "Epoch 4/30\n",
      " - 0s - loss: 0.0419 - accuracy: 0.7959 - val_loss: 0.0412 - val_accuracy: 0.8071\n",
      "Epoch 5/30\n",
      " - 0s - loss: 0.0417 - accuracy: 0.7971 - val_loss: 0.0411 - val_accuracy: 0.8077\n",
      "Epoch 6/30\n",
      " - 0s - loss: 0.0416 - accuracy: 0.7982 - val_loss: 0.0409 - val_accuracy: 0.8090\n",
      "Epoch 7/30\n",
      " - 0s - loss: 0.0414 - accuracy: 0.7997 - val_loss: 0.0407 - val_accuracy: 0.8101\n",
      "Epoch 8/30\n",
      " - 0s - loss: 0.0412 - accuracy: 0.8009 - val_loss: 0.0405 - val_accuracy: 0.8107\n",
      "Epoch 9/30\n",
      " - 0s - loss: 0.0411 - accuracy: 0.8019 - val_loss: 0.0404 - val_accuracy: 0.8120\n",
      "Epoch 10/30\n",
      " - 0s - loss: 0.0409 - accuracy: 0.8029 - val_loss: 0.0402 - val_accuracy: 0.8134\n",
      "Epoch 11/30\n",
      " - 0s - loss: 0.0407 - accuracy: 0.8038 - val_loss: 0.0400 - val_accuracy: 0.8145\n",
      "Epoch 12/30\n",
      " - 0s - loss: 0.0406 - accuracy: 0.8050 - val_loss: 0.0399 - val_accuracy: 0.8153\n",
      "Epoch 13/30\n",
      " - 0s - loss: 0.0404 - accuracy: 0.8061 - val_loss: 0.0397 - val_accuracy: 0.8162\n",
      "Epoch 14/30\n",
      " - 0s - loss: 0.0402 - accuracy: 0.8073 - val_loss: 0.0395 - val_accuracy: 0.8173\n",
      "Epoch 15/30\n",
      " - 0s - loss: 0.0401 - accuracy: 0.8081 - val_loss: 0.0394 - val_accuracy: 0.8182\n",
      "Epoch 16/30\n",
      " - 0s - loss: 0.0399 - accuracy: 0.8090 - val_loss: 0.0392 - val_accuracy: 0.8189\n",
      "Epoch 17/30\n",
      " - 0s - loss: 0.0398 - accuracy: 0.8102 - val_loss: 0.0391 - val_accuracy: 0.8200\n",
      "Epoch 18/30\n",
      " - 0s - loss: 0.0396 - accuracy: 0.8112 - val_loss: 0.0389 - val_accuracy: 0.8215\n",
      "Epoch 19/30\n",
      " - 0s - loss: 0.0395 - accuracy: 0.8122 - val_loss: 0.0387 - val_accuracy: 0.8216\n",
      "Epoch 20/30\n",
      " - 0s - loss: 0.0393 - accuracy: 0.8132 - val_loss: 0.0386 - val_accuracy: 0.8230\n",
      "Epoch 21/30\n",
      " - 0s - loss: 0.0392 - accuracy: 0.8143 - val_loss: 0.0384 - val_accuracy: 0.8245\n",
      "Epoch 22/30\n",
      " - 0s - loss: 0.0390 - accuracy: 0.8152 - val_loss: 0.0383 - val_accuracy: 0.8258\n",
      "Epoch 23/30\n",
      " - 0s - loss: 0.0389 - accuracy: 0.8161 - val_loss: 0.0381 - val_accuracy: 0.8265\n",
      "Epoch 24/30\n",
      " - 0s - loss: 0.0387 - accuracy: 0.8170 - val_loss: 0.0380 - val_accuracy: 0.8284\n",
      "Epoch 25/30\n",
      " - 0s - loss: 0.0386 - accuracy: 0.8179 - val_loss: 0.0378 - val_accuracy: 0.8294\n",
      "Epoch 26/30\n",
      " - 0s - loss: 0.0384 - accuracy: 0.8187 - val_loss: 0.0377 - val_accuracy: 0.8303\n",
      "Epoch 27/30\n",
      " - 0s - loss: 0.0383 - accuracy: 0.8196 - val_loss: 0.0376 - val_accuracy: 0.8313\n",
      "Epoch 28/30\n",
      " - 0s - loss: 0.0381 - accuracy: 0.8205 - val_loss: 0.0374 - val_accuracy: 0.8328\n",
      "Epoch 29/30\n",
      " - 0s - loss: 0.0380 - accuracy: 0.8217 - val_loss: 0.0373 - val_accuracy: 0.8336\n",
      "Epoch 30/30\n",
      " - 0s - loss: 0.0379 - accuracy: 0.8229 - val_loss: 0.0371 - val_accuracy: 0.8344\n"
     ]
    },
    {
     "data": {
      "image/png": "[encoded data removed]",
      "text/plain": [
       "<Figure size 432x288 with 1 Axes>"
      ]
     },
     "metadata": {
      "needs_background": "light"
     },
     "output_type": "display_data"
    }
   ],
   "source": [
    "# callback function 사용\n",
    "custom_hist = CustomHistory()\n",
    "custom_hist.init()\n",
    "\n",
    "hist = model.fit(X_train, Y_train,\n",
    "                 nb_epoch=30,\n",
    "                 batch_size=1000,\n",
    "                 validation_data=(X_test, Y_test),\n",
    "                 verbose=2,\n",
    "                 callbacks=[custom_hist])\n",
    "plt.plot(hist.history[\"loss\"])\n",
    "plt.show()"
   ]
  },
  {
   "cell_type": "code",
   "execution_count": 87,
   "metadata": {
    "scrolled": false
   },
   "outputs": [
    {
     "data": {
      "image/png": "[encoded data removed]",
      "text/plain": [
       "<Figure size 432x288 with 1 Axes>"
      ]
     },
     "metadata": {
      "needs_background": "light"
     },
     "output_type": "display_data"
    },
    {
     "name": "stdout",
     "output_type": "stream",
     "text": [
      "<keras.engine.sequential.Sequential object at 0x0000024B765EE748>\n",
      "{'batch_size': 1000, 'epochs': 30, 'steps': None, 'samples': 60000, 'verbose': 2, 'do_validation': True, 'metrics': ['loss', 'accuracy', 'val_loss', 'val_accuracy']}\n",
      "[0.6985667, 0.70246667, 0.7043833, 0.70776665, 0.70995, 0.7126667, 0.715, 0.7178, 0.7197, 0.7219667, 0.7238167, 0.7261, 0.7276, 0.72943336, 0.73121667, 0.73355, 0.7349667, 0.7363667, 0.7377833, 0.7396, 0.7410333, 0.7427, 0.7442833, 0.7453833, 0.74658334, 0.74795, 0.7492333, 0.7507833, 0.75215, 0.75345]\n",
      "0.7630000114440918\n"
     ]
    },
    {
     "data": {
      "image/png": "[encoded data removed]",
      "text/plain": [
       "<Figure size 432x288 with 1 Axes>"
      ]
     },
     "metadata": {
      "needs_background": "light"
     },
     "output_type": "display_data"
    }
   ],
   "source": [
    "plt.plot(hist.history[\"accuracy\"], \"b-\", label=\"training\")\n",
    "plt.plot(hist.history[\"val_accuracy\"], \"r:\", label=\"test\")\n",
    "plt.legend()\n",
    "plt.show()\n",
    "\n",
    "print(hist.model)\n",
    "print(hist.params)\n",
    "print(hist.history[\"accuracy\"])\n",
    "print(hist.history[\"val_accuracy\"][29])\n",
    "plt.show()\n",
    "plt.plot(custom_hist.train_loss, \"y\", label=\"train loss\")\n",
    "plt.show()"
   ]
  },
  {
   "cell_type": "code",
   "execution_count": 90,
   "metadata": {},
   "outputs": [
    {
     "data": {
      "text/plain": [
       "array([[0.07415864, 0.08587241, 0.04527071, 0.06132445, 0.06452432,\n",
       "        0.10666728, 0.03897312, 0.78835607, 0.05914165, 0.14206848]],\n",
       "      dtype=float32)"
      ]
     },
     "execution_count": 90,
     "metadata": {},
     "output_type": "execute_result"
    }
   ],
   "source": [
    "# 문제. X_test의 이미지 한장의 label을 예측해보시요.\n",
    "model.predict(X_test[:1, :]) # 결과 - 10개의 확률값으로 나옴"
   ]
  },
  {
   "cell_type": "code",
   "execution_count": 92,
   "metadata": {},
   "outputs": [
    {
     "data": {
      "text/plain": [
       "array([7], dtype=int64)"
      ]
     },
     "execution_count": 92,
     "metadata": {},
     "output_type": "execute_result"
    }
   ],
   "source": [
    "model.predict_classes(X_test[:1, :], verbose=0) # "
   ]
  },
  {
   "cell_type": "code",
   "execution_count": 97,
   "metadata": {},
   "outputs": [],
   "source": [
    "# 출력차수가 512인 레이어를 추가하시요.(위에 있음)"
   ]
  },
  {
   "cell_type": "code",
   "execution_count": 105,
   "metadata": {},
   "outputs": [],
   "source": [
    "# boston 집값 예측\n",
    "from keras.datasets import boston_housing\n",
    "# x_train : 404 x 13, y_train : 404\n",
    "# x_test : 102 x 13, t_test : 102\n",
    "(x_train, y_train), (x_test, y_test) = boston_housing.load_data()\n",
    "num_features = 13"
   ]
  },
  {
   "cell_type": "code",
   "execution_count": 106,
   "metadata": {},
   "outputs": [],
   "source": [
    "model = Sequential()\n",
    "model.add(Dense(1, input_dim=num_features, activation=\"linear\"))"
   ]
  },
  {
   "cell_type": "code",
   "execution_count": 108,
   "metadata": {},
   "outputs": [
    {
     "name": "stdout",
     "output_type": "stream",
     "text": [
      "Model: \"sequential_19\"\n",
      "_________________________________________________________________\n",
      "Layer (type)                 Output Shape              Param #   \n",
      "=================================================================\n",
      "dense_41 (Dense)             (None, 1)                 14        \n",
      "=================================================================\n",
      "Total params: 14\n",
      "Trainable params: 14\n",
      "Non-trainable params: 0\n",
      "_________________________________________________________________\n",
      "Epoch 1/10\n",
      "404/404 [==============================] - 0s 970us/step - loss: 13692.7661 - mae: 87.4894\n",
      "Epoch 2/10\n",
      "404/404 [==============================] - 0s 625us/step - loss: 3672.1942 - mae: 47.6346\n",
      "Epoch 3/10\n",
      "404/404 [==============================] - 0s 644us/step - loss: 1669.4015 - mae: 32.8422\n",
      "Epoch 4/10\n",
      "404/404 [==============================] - 0s 662us/step - loss: 662.0916 - mae: 20.9115\n",
      "Epoch 5/10\n",
      "404/404 [==============================] - 0s 620us/step - loss: 296.3069 - mae: 13.1076\n",
      "Epoch 6/10\n",
      "404/404 [==============================] - 0s 636us/step - loss: 197.4241 - mae: 9.8756\n",
      "Epoch 7/10\n",
      "404/404 [==============================] - 0s 625us/step - loss: 145.3735 - mae: 8.4374\n",
      "Epoch 8/10\n",
      "404/404 [==============================] - 0s 602us/step - loss: 113.3776 - mae: 7.5752\n",
      "Epoch 9/10\n",
      "404/404 [==============================] - 0s 623us/step - loss: 95.6278 - mae: 7.0474\n",
      "Epoch 10/10\n",
      "404/404 [==============================] - 0s 625us/step - loss: 85.2907 - mae: 6.7003\n"
     ]
    },
    {
     "data": {
      "text/plain": [
       "<keras.callbacks.callbacks.History at 0x24b09e13a48>"
      ]
     },
     "execution_count": 108,
     "metadata": {},
     "output_type": "execute_result"
    }
   ],
   "source": [
    "model.summary()\n",
    "model.compile(optimizer=\"rmsprop\", loss=\"mse\", metrics=[\"mae\"])\n",
    "model.fit(x_train, y_train, batch_size=1, epochs=10, verbose=1)"
   ]
  },
  {
   "cell_type": "code",
   "execution_count": 110,
   "metadata": {},
   "outputs": [
    {
     "data": {
      "text/plain": [
       "(92.46016573438457, 9.615620922976559, 6.699459075927734)"
      ]
     },
     "execution_count": 110,
     "metadata": {},
     "output_type": "execute_result"
    }
   ],
   "source": [
    "# accuracy\n",
    "mse, mae = model.evaluate(x_test, y_test, verbose=False)\n",
    "rmse = np.sqrt(mse)\n",
    "mse, rmse, mae"
   ]
  },
  {
   "cell_type": "code",
   "execution_count": 132,
   "metadata": {},
   "outputs": [
    {
     "data": {
      "text/plain": [
       "array([[ 7.223572],\n",
       "       [27.413084],\n",
       "       [20.327425]], dtype=float32)"
      ]
     },
     "execution_count": 132,
     "metadata": {},
     "output_type": "execute_result"
    }
   ],
   "source": [
    "# 문제. X_test의 앞의 3개의 집을 예측하시요.\n",
    "pred = model.predict(x_test[:3, :])\n",
    "pred"
   ]
  },
  {
   "cell_type": "code",
   "execution_count": 133,
   "metadata": {},
   "outputs": [
    {
     "data": {
      "text/plain": [
       "array([ 7.2, 18.8, 19. ])"
      ]
     },
     "execution_count": 133,
     "metadata": {},
     "output_type": "execute_result"
    }
   ],
   "source": [
    "real = y_test[:3]\n",
    "real"
   ]
  },
  {
   "cell_type": "code",
   "execution_count": 136,
   "metadata": {},
   "outputs": [
    {
     "data": {
      "text/plain": [
       "array([[1.        , 0.93305896],\n",
       "       [0.93305896, 1.        ]])"
      ]
     },
     "execution_count": 136,
     "metadata": {},
     "output_type": "execute_result"
    }
   ],
   "source": [
    "# 상관계수를 확인하시요.\n",
    "import numpy as np\n",
    "np.corrcoef(pred.reshape(3), real)"
   ]
  },
  {
   "cell_type": "code",
   "execution_count": 1,
   "metadata": {},
   "outputs": [
    {
     "name": "stderr",
     "output_type": "stream",
     "text": [
      "Using TensorFlow backend.\n"
     ]
    }
   ],
   "source": [
    "# scikits - keras 연결 => KerasClassifier, KerasRegressor\n",
    "import numpy\n",
    "from sklearn.model_selection import GridSearchCV\n",
    "from keras.models import Sequential\n",
    "from keras.layers import Dense\n",
    "from keras.layers import Dropout\n",
    "from keras.wrappers.scikit_learn import KerasClassifier"
   ]
  },
  {
   "cell_type": "code",
   "execution_count": 8,
   "metadata": {},
   "outputs": [],
   "source": [
    "# 과적합을 방지 : \n",
    "# 입력768x9 => (768,8), (768,1) 종속변수\n",
    "# 변수 8개\n",
    "#def create_model(init_mode=\"uniform\", activation=\"relu\", dropout_rate=0.1):\n",
    "#    model = Sequential()\n",
    "#    # 8x12(가중치) => 768x12\n",
    "#    #model.add(Dense(12, input_dim=8, activation=\"relu\"))\n",
    "#    # 문제2) dense1에는 activation함수를 넣어주고, 가장 좋은 activation함수를 결정하시요.\n",
    "#    model.add(Dense(12, input_dim=8, activation=activation))\n",
    "#    \n",
    "#    model.add(Dropout(dropout_rate))\n",
    "#    \n",
    "#    # 768x12 => 768x1\n",
    "#    #model.add(Dense(1, activation=\"sigmoid\")) # 0~1사이의 값으로\n",
    "#    # 문제1) dense2에 가중치 초기화 매개변수를 넣어주고, 가장 최적의 가중치 초기화 파라미터를 결정하시요.\n",
    "#    model.add(Dense(1, kernel_initializer=init_mode, activation=\"sigmoid\"))\n",
    "#    \n",
    "#    model.compile(loss=\"binary_crossentropy\", optimizer=\"adam\", metrics=[\"accuracy\"])\n",
    "#    return model\n",
    "#\n",
    "#seed = 7\n",
    "#numpy.random.seed(seed)\n",
    "#dataset = numpy.loadtxt(\"pima.csv\", delimiter=\",\")\n",
    "#\n",
    "#X = dataset[:, 0:8]\n",
    "#Y = dataset[:, 8]\n",
    "## Create model\n",
    "## EarlyStopping\n",
    "#from keras.callbacks import EarlyStopping\n",
    "#stopper = EarlyStopping(monitor=\"val_accuracy\", patience=3, verbose=1)\n",
    "#\n",
    "#model = KerasClassifier(build_fn=create_model, epochs=100, batch_size=40)"
   ]
  },
  {
   "cell_type": "code",
   "execution_count": 2,
   "metadata": {},
   "outputs": [
    {
     "name": "stderr",
     "output_type": "stream",
     "text": [
      "C:\\Users\\ICT01_16\\Anaconda3\\lib\\site-packages\\sklearn\\model_selection\\_split.py:1978: FutureWarning: The default value of cv will change from 3 to 5 in version 0.22. Specify it explicitly to silence this warning.\n",
      "  warnings.warn(CV_WARNING, FutureWarning)\n",
      "C:\\Users\\ICT01_16\\Anaconda3\\lib\\site-packages\\joblib\\externals\\loky\\process_executor.py:706: UserWarning: A worker stopped while some jobs were given to the executor. This can be caused by a too short worker timeout or by a memory leak.\n",
      "  \"timeout or by a memory leak.\", UserWarning\n"
     ]
    },
    {
     "name": "stdout",
     "output_type": "stream",
     "text": [
      "WARNING:tensorflow:From C:\\Users\\ICT01_16\\Anaconda3\\lib\\site-packages\\tensorflow\\python\\ops\\math_grad.py:1250: add_dispatch_support.<locals>.wrapper (from tensorflow.python.ops.array_ops) is deprecated and will be removed in a future version.\n",
      "Instructions for updating:\n",
      "Use tf.where in 2.0, which has the same broadcast rule as np.where\n",
      "WARNING:tensorflow:From C:\\Users\\ICT01_16\\Anaconda3\\lib\\site-packages\\keras\\backend\\tensorflow_backend.py:422: The name tf.global_variables is deprecated. Please use tf.compat.v1.global_variables instead.\n",
      "\n"
     ]
    },
    {
     "name": "stderr",
     "output_type": "stream",
     "text": [
      "C:\\Users\\ICT01_16\\Anaconda3\\lib\\site-packages\\keras\\callbacks\\callbacks.py:846: RuntimeWarning: Early stopping conditioned on metric `val_acc` which is not available. Available metrics are: loss,accuracy\n",
      "  (self.monitor, ','.join(list(logs.keys()))), RuntimeWarning\n"
     ]
    },
    {
     "name": "stdout",
     "output_type": "stream",
     "text": [
      "최적스코어: 0.738281   사용한 파라미터조합 : {'activation': 'softplus', 'dropout_rate': 0.1, 'init_mode': 'glorot_uniform'}\n",
      "0.348958 (0.024774) with: {'activation': 'softmax', 'dropout_rate': 0.0, 'init_mode': 'uniform'}\n",
      "0.348958 (0.024774) with: {'activation': 'softmax', 'dropout_rate': 0.0, 'init_mode': 'lecun_uniform'}\n",
      "0.348958 (0.024774) with: {'activation': 'softmax', 'dropout_rate': 0.0, 'init_mode': 'normal'}\n",
      "0.348958 (0.024774) with: {'activation': 'softmax', 'dropout_rate': 0.0, 'init_mode': 'zero'}\n",
      "0.348958 (0.024774) with: {'activation': 'softmax', 'dropout_rate': 0.0, 'init_mode': 'glorot_normal'}\n",
      "0.348958 (0.024774) with: {'activation': 'softmax', 'dropout_rate': 0.0, 'init_mode': 'glorot_uniform'}\n",
      "0.348958 (0.024774) with: {'activation': 'softmax', 'dropout_rate': 0.0, 'init_mode': 'he_normal'}\n",
      "0.348958 (0.024774) with: {'activation': 'softmax', 'dropout_rate': 0.0, 'init_mode': 'he_uniform'}\n",
      "0.348958 (0.024774) with: {'activation': 'softmax', 'dropout_rate': 0.1, 'init_mode': 'uniform'}\n",
      "0.348958 (0.024774) with: {'activation': 'softmax', 'dropout_rate': 0.1, 'init_mode': 'lecun_uniform'}\n",
      "0.348958 (0.024774) with: {'activation': 'softmax', 'dropout_rate': 0.1, 'init_mode': 'normal'}\n",
      "0.348958 (0.024774) with: {'activation': 'softmax', 'dropout_rate': 0.1, 'init_mode': 'zero'}\n",
      "0.348958 (0.024774) with: {'activation': 'softmax', 'dropout_rate': 0.1, 'init_mode': 'glorot_normal'}\n",
      "0.348958 (0.024774) with: {'activation': 'softmax', 'dropout_rate': 0.1, 'init_mode': 'glorot_uniform'}\n",
      "0.348958 (0.024774) with: {'activation': 'softmax', 'dropout_rate': 0.1, 'init_mode': 'he_normal'}\n",
      "0.348958 (0.024774) with: {'activation': 'softmax', 'dropout_rate': 0.1, 'init_mode': 'he_uniform'}\n",
      "0.348958 (0.024774) with: {'activation': 'softmax', 'dropout_rate': 0.2, 'init_mode': 'uniform'}\n",
      "0.348958 (0.024774) with: {'activation': 'softmax', 'dropout_rate': 0.2, 'init_mode': 'lecun_uniform'}\n",
      "0.348958 (0.024774) with: {'activation': 'softmax', 'dropout_rate': 0.2, 'init_mode': 'normal'}\n",
      "0.348958 (0.024774) with: {'activation': 'softmax', 'dropout_rate': 0.2, 'init_mode': 'zero'}\n",
      "0.348958 (0.024774) with: {'activation': 'softmax', 'dropout_rate': 0.2, 'init_mode': 'glorot_normal'}\n",
      "0.348958 (0.024774) with: {'activation': 'softmax', 'dropout_rate': 0.2, 'init_mode': 'glorot_uniform'}\n",
      "0.348958 (0.024774) with: {'activation': 'softmax', 'dropout_rate': 0.2, 'init_mode': 'he_normal'}\n",
      "0.348958 (0.024774) with: {'activation': 'softmax', 'dropout_rate': 0.2, 'init_mode': 'he_uniform'}\n",
      "0.348958 (0.024774) with: {'activation': 'softmax', 'dropout_rate': 0.3, 'init_mode': 'uniform'}\n",
      "0.348958 (0.024774) with: {'activation': 'softmax', 'dropout_rate': 0.3, 'init_mode': 'lecun_uniform'}\n",
      "0.348958 (0.024774) with: {'activation': 'softmax', 'dropout_rate': 0.3, 'init_mode': 'normal'}\n",
      "0.348958 (0.024774) with: {'activation': 'softmax', 'dropout_rate': 0.3, 'init_mode': 'zero'}\n",
      "0.348958 (0.024774) with: {'activation': 'softmax', 'dropout_rate': 0.3, 'init_mode': 'glorot_normal'}\n",
      "0.348958 (0.024774) with: {'activation': 'softmax', 'dropout_rate': 0.3, 'init_mode': 'glorot_uniform'}\n",
      "0.348958 (0.024774) with: {'activation': 'softmax', 'dropout_rate': 0.3, 'init_mode': 'he_normal'}\n",
      "0.348958 (0.024774) with: {'activation': 'softmax', 'dropout_rate': 0.3, 'init_mode': 'he_uniform'}\n",
      "0.348958 (0.024774) with: {'activation': 'softmax', 'dropout_rate': 0.4, 'init_mode': 'uniform'}\n",
      "0.348958 (0.024774) with: {'activation': 'softmax', 'dropout_rate': 0.4, 'init_mode': 'lecun_uniform'}\n",
      "0.348958 (0.024774) with: {'activation': 'softmax', 'dropout_rate': 0.4, 'init_mode': 'normal'}\n",
      "0.348958 (0.024774) with: {'activation': 'softmax', 'dropout_rate': 0.4, 'init_mode': 'zero'}\n",
      "0.348958 (0.024774) with: {'activation': 'softmax', 'dropout_rate': 0.4, 'init_mode': 'glorot_normal'}\n",
      "0.348958 (0.024774) with: {'activation': 'softmax', 'dropout_rate': 0.4, 'init_mode': 'glorot_uniform'}\n",
      "0.348958 (0.024774) with: {'activation': 'softmax', 'dropout_rate': 0.4, 'init_mode': 'he_normal'}\n",
      "0.348958 (0.024774) with: {'activation': 'softmax', 'dropout_rate': 0.4, 'init_mode': 'he_uniform'}\n",
      "0.348958 (0.024774) with: {'activation': 'softmax', 'dropout_rate': 0.5, 'init_mode': 'uniform'}\n",
      "0.348958 (0.024774) with: {'activation': 'softmax', 'dropout_rate': 0.5, 'init_mode': 'lecun_uniform'}\n",
      "0.348958 (0.024774) with: {'activation': 'softmax', 'dropout_rate': 0.5, 'init_mode': 'normal'}\n",
      "0.348958 (0.024774) with: {'activation': 'softmax', 'dropout_rate': 0.5, 'init_mode': 'zero'}\n",
      "0.348958 (0.024774) with: {'activation': 'softmax', 'dropout_rate': 0.5, 'init_mode': 'glorot_normal'}\n",
      "0.348958 (0.024774) with: {'activation': 'softmax', 'dropout_rate': 0.5, 'init_mode': 'glorot_uniform'}\n",
      "0.348958 (0.024774) with: {'activation': 'softmax', 'dropout_rate': 0.5, 'init_mode': 'he_normal'}\n",
      "0.348958 (0.024774) with: {'activation': 'softmax', 'dropout_rate': 0.5, 'init_mode': 'he_uniform'}\n",
      "0.348958 (0.024774) with: {'activation': 'softmax', 'dropout_rate': 0.6, 'init_mode': 'uniform'}\n",
      "0.348958 (0.024774) with: {'activation': 'softmax', 'dropout_rate': 0.6, 'init_mode': 'lecun_uniform'}\n",
      "0.348958 (0.024774) with: {'activation': 'softmax', 'dropout_rate': 0.6, 'init_mode': 'normal'}\n",
      "0.348958 (0.024774) with: {'activation': 'softmax', 'dropout_rate': 0.6, 'init_mode': 'zero'}\n",
      "0.348958 (0.024774) with: {'activation': 'softmax', 'dropout_rate': 0.6, 'init_mode': 'glorot_normal'}\n",
      "0.348958 (0.024774) with: {'activation': 'softmax', 'dropout_rate': 0.6, 'init_mode': 'glorot_uniform'}\n",
      "0.348958 (0.024774) with: {'activation': 'softmax', 'dropout_rate': 0.6, 'init_mode': 'he_normal'}\n",
      "0.348958 (0.024774) with: {'activation': 'softmax', 'dropout_rate': 0.6, 'init_mode': 'he_uniform'}\n",
      "0.348958 (0.024774) with: {'activation': 'softmax', 'dropout_rate': 0.7, 'init_mode': 'uniform'}\n",
      "0.348958 (0.024774) with: {'activation': 'softmax', 'dropout_rate': 0.7, 'init_mode': 'lecun_uniform'}\n",
      "0.348958 (0.024774) with: {'activation': 'softmax', 'dropout_rate': 0.7, 'init_mode': 'normal'}\n",
      "0.348958 (0.024774) with: {'activation': 'softmax', 'dropout_rate': 0.7, 'init_mode': 'zero'}\n",
      "0.348958 (0.024774) with: {'activation': 'softmax', 'dropout_rate': 0.7, 'init_mode': 'glorot_normal'}\n",
      "0.348958 (0.024774) with: {'activation': 'softmax', 'dropout_rate': 0.7, 'init_mode': 'glorot_uniform'}\n",
      "0.348958 (0.024774) with: {'activation': 'softmax', 'dropout_rate': 0.7, 'init_mode': 'he_normal'}\n",
      "0.348958 (0.024774) with: {'activation': 'softmax', 'dropout_rate': 0.7, 'init_mode': 'he_uniform'}\n",
      "0.348958 (0.024774) with: {'activation': 'softmax', 'dropout_rate': 0.8, 'init_mode': 'uniform'}\n",
      "0.348958 (0.024774) with: {'activation': 'softmax', 'dropout_rate': 0.8, 'init_mode': 'lecun_uniform'}\n",
      "0.348958 (0.024774) with: {'activation': 'softmax', 'dropout_rate': 0.8, 'init_mode': 'normal'}\n",
      "0.348958 (0.024774) with: {'activation': 'softmax', 'dropout_rate': 0.8, 'init_mode': 'zero'}\n",
      "0.348958 (0.024774) with: {'activation': 'softmax', 'dropout_rate': 0.8, 'init_mode': 'glorot_normal'}\n",
      "0.348958 (0.024774) with: {'activation': 'softmax', 'dropout_rate': 0.8, 'init_mode': 'glorot_uniform'}\n",
      "0.348958 (0.024774) with: {'activation': 'softmax', 'dropout_rate': 0.8, 'init_mode': 'he_normal'}\n",
      "0.348958 (0.024774) with: {'activation': 'softmax', 'dropout_rate': 0.8, 'init_mode': 'he_uniform'}\n",
      "0.348958 (0.024774) with: {'activation': 'softmax', 'dropout_rate': 0.9, 'init_mode': 'uniform'}\n",
      "0.348958 (0.024774) with: {'activation': 'softmax', 'dropout_rate': 0.9, 'init_mode': 'lecun_uniform'}\n",
      "0.348958 (0.024774) with: {'activation': 'softmax', 'dropout_rate': 0.9, 'init_mode': 'normal'}\n",
      "0.348958 (0.024774) with: {'activation': 'softmax', 'dropout_rate': 0.9, 'init_mode': 'zero'}\n",
      "0.348958 (0.024774) with: {'activation': 'softmax', 'dropout_rate': 0.9, 'init_mode': 'glorot_normal'}\n",
      "0.348958 (0.024774) with: {'activation': 'softmax', 'dropout_rate': 0.9, 'init_mode': 'glorot_uniform'}\n",
      "0.348958 (0.024774) with: {'activation': 'softmax', 'dropout_rate': 0.9, 'init_mode': 'he_normal'}\n",
      "0.348958 (0.024774) with: {'activation': 'softmax', 'dropout_rate': 0.9, 'init_mode': 'he_uniform'}\n",
      "0.714844 (0.024080) with: {'activation': 'softplus', 'dropout_rate': 0.0, 'init_mode': 'uniform'}\n",
      "0.470052 (0.329754) with: {'activation': 'softplus', 'dropout_rate': 0.0, 'init_mode': 'lecun_uniform'}\n",
      "0.704427 (0.016367) with: {'activation': 'softplus', 'dropout_rate': 0.0, 'init_mode': 'normal'}\n",
      "0.714844 (0.014616) with: {'activation': 'softplus', 'dropout_rate': 0.0, 'init_mode': 'zero'}\n",
      "0.243490 (0.344346) with: {'activation': 'softplus', 'dropout_rate': 0.0, 'init_mode': 'glorot_normal'}\n",
      "0.483073 (0.341588) with: {'activation': 'softplus', 'dropout_rate': 0.0, 'init_mode': 'glorot_uniform'}\n",
      "0.713542 (0.015733) with: {'activation': 'softplus', 'dropout_rate': 0.0, 'init_mode': 'he_normal'}\n",
      "0.684896 (0.012890) with: {'activation': 'softplus', 'dropout_rate': 0.0, 'init_mode': 'he_uniform'}\n",
      "0.717448 (0.020505) with: {'activation': 'softplus', 'dropout_rate': 0.1, 'init_mode': 'uniform'}\n",
      "0.476562 (0.337719) with: {'activation': 'softplus', 'dropout_rate': 0.1, 'init_mode': 'lecun_uniform'}\n",
      "0.718750 (0.019918) with: {'activation': 'softplus', 'dropout_rate': 0.1, 'init_mode': 'normal'}\n",
      "0.709635 (0.015073) with: {'activation': 'softplus', 'dropout_rate': 0.1, 'init_mode': 'zero'}\n",
      "0.727865 (0.016367) with: {'activation': 'softplus', 'dropout_rate': 0.1, 'init_mode': 'glorot_normal'}\n",
      "0.738281 (0.022999) with: {'activation': 'softplus', 'dropout_rate': 0.1, 'init_mode': 'glorot_uniform'}\n",
      "0.734375 (0.037603) with: {'activation': 'softplus', 'dropout_rate': 0.1, 'init_mode': 'he_normal'}\n",
      "0.688802 (0.006639) with: {'activation': 'softplus', 'dropout_rate': 0.1, 'init_mode': 'he_uniform'}\n",
      "0.704427 (0.010253) with: {'activation': 'softplus', 'dropout_rate': 0.2, 'init_mode': 'uniform'}\n",
      "0.720052 (0.035849) with: {'activation': 'softplus', 'dropout_rate': 0.2, 'init_mode': 'lecun_uniform'}\n",
      "0.699219 (0.031412) with: {'activation': 'softplus', 'dropout_rate': 0.2, 'init_mode': 'normal'}\n",
      "0.720052 (0.018136) with: {'activation': 'softplus', 'dropout_rate': 0.2, 'init_mode': 'zero'}\n",
      "0.687500 (0.026107) with: {'activation': 'softplus', 'dropout_rate': 0.2, 'init_mode': 'glorot_normal'}\n",
      "0.723958 (0.008027) with: {'activation': 'softplus', 'dropout_rate': 0.2, 'init_mode': 'glorot_uniform'}\n",
      "0.671875 (0.046983) with: {'activation': 'softplus', 'dropout_rate': 0.2, 'init_mode': 'he_normal'}\n",
      "0.731771 (0.022402) with: {'activation': 'softplus', 'dropout_rate': 0.2, 'init_mode': 'he_uniform'}\n",
      "0.713542 (0.021236) with: {'activation': 'softplus', 'dropout_rate': 0.3, 'init_mode': 'uniform'}\n",
      "0.720052 (0.008027) with: {'activation': 'softplus', 'dropout_rate': 0.3, 'init_mode': 'lecun_uniform'}\n",
      "0.714844 (0.016877) with: {'activation': 'softplus', 'dropout_rate': 0.3, 'init_mode': 'normal'}\n",
      "0.707031 (0.008438) with: {'activation': 'softplus', 'dropout_rate': 0.3, 'init_mode': 'zero'}\n",
      "0.720052 (0.017566) with: {'activation': 'softplus', 'dropout_rate': 0.3, 'init_mode': 'glorot_normal'}\n",
      "0.695312 (0.019918) with: {'activation': 'softplus', 'dropout_rate': 0.3, 'init_mode': 'glorot_uniform'}\n",
      "0.717448 (0.025976) with: {'activation': 'softplus', 'dropout_rate': 0.3, 'init_mode': 'he_normal'}\n",
      "0.722656 (0.024910) with: {'activation': 'softplus', 'dropout_rate': 0.3, 'init_mode': 'he_uniform'}\n",
      "0.694010 (0.026748) with: {'activation': 'softplus', 'dropout_rate': 0.4, 'init_mode': 'uniform'}\n",
      "0.700521 (0.006639) with: {'activation': 'softplus', 'dropout_rate': 0.4, 'init_mode': 'lecun_uniform'}\n",
      "0.704427 (0.013279) with: {'activation': 'softplus', 'dropout_rate': 0.4, 'init_mode': 'normal'}\n",
      "0.703125 (0.006379) with: {'activation': 'softplus', 'dropout_rate': 0.4, 'init_mode': 'zero'}\n",
      "0.712240 (0.001841) with: {'activation': 'softplus', 'dropout_rate': 0.4, 'init_mode': 'glorot_normal'}\n",
      "0.704427 (0.020256) with: {'activation': 'softplus', 'dropout_rate': 0.4, 'init_mode': 'glorot_uniform'}\n",
      "0.716146 (0.030145) with: {'activation': 'softplus', 'dropout_rate': 0.4, 'init_mode': 'he_normal'}\n",
      "0.705729 (0.016367) with: {'activation': 'softplus', 'dropout_rate': 0.4, 'init_mode': 'he_uniform'}\n",
      "0.701823 (0.010253) with: {'activation': 'softplus', 'dropout_rate': 0.5, 'init_mode': 'uniform'}\n",
      "0.720052 (0.028940) with: {'activation': 'softplus', 'dropout_rate': 0.5, 'init_mode': 'lecun_uniform'}\n",
      "0.705729 (0.016053) with: {'activation': 'softplus', 'dropout_rate': 0.5, 'init_mode': 'normal'}\n",
      "0.703125 (0.000000) with: {'activation': 'softplus', 'dropout_rate': 0.5, 'init_mode': 'zero'}\n",
      "0.686198 (0.015073) with: {'activation': 'softplus', 'dropout_rate': 0.5, 'init_mode': 'glorot_normal'}\n",
      "0.707031 (0.024910) with: {'activation': 'softplus', 'dropout_rate': 0.5, 'init_mode': 'glorot_uniform'}\n",
      "0.703125 (0.036225) with: {'activation': 'softplus', 'dropout_rate': 0.5, 'init_mode': 'he_normal'}\n",
      "0.696615 (0.016367) with: {'activation': 'softplus', 'dropout_rate': 0.5, 'init_mode': 'he_uniform'}\n",
      "0.699219 (0.019401) with: {'activation': 'softplus', 'dropout_rate': 0.6, 'init_mode': 'uniform'}\n",
      "0.709635 (0.012075) with: {'activation': 'softplus', 'dropout_rate': 0.6, 'init_mode': 'lecun_uniform'}\n",
      "0.694010 (0.006639) with: {'activation': 'softplus', 'dropout_rate': 0.6, 'init_mode': 'normal'}\n",
      "0.686198 (0.012890) with: {'activation': 'softplus', 'dropout_rate': 0.6, 'init_mode': 'zero'}\n",
      "0.720052 (0.022628) with: {'activation': 'softplus', 'dropout_rate': 0.6, 'init_mode': 'glorot_normal'}\n",
      "0.686198 (0.041626) with: {'activation': 'softplus', 'dropout_rate': 0.6, 'init_mode': 'glorot_uniform'}\n",
      "0.695312 (0.016877) with: {'activation': 'softplus', 'dropout_rate': 0.6, 'init_mode': 'he_normal'}\n",
      "0.467448 (0.330632) with: {'activation': 'softplus', 'dropout_rate': 0.6, 'init_mode': 'he_uniform'}\n",
      "0.679688 (0.008438) with: {'activation': 'softplus', 'dropout_rate': 0.7, 'init_mode': 'uniform'}\n",
      "0.463542 (0.325047) with: {'activation': 'softplus', 'dropout_rate': 0.7, 'init_mode': 'lecun_uniform'}\n",
      "0.695312 (0.003189) with: {'activation': 'softplus', 'dropout_rate': 0.7, 'init_mode': 'normal'}\n",
      "0.669271 (0.034987) with: {'activation': 'softplus', 'dropout_rate': 0.7, 'init_mode': 'zero'}\n",
      "0.677083 (0.014382) with: {'activation': 'softplus', 'dropout_rate': 0.7, 'init_mode': 'glorot_normal'}\n",
      "0.471354 (0.331185) with: {'activation': 'softplus', 'dropout_rate': 0.7, 'init_mode': 'glorot_uniform'}\n",
      "0.691406 (0.011500) with: {'activation': 'softplus', 'dropout_rate': 0.7, 'init_mode': 'he_normal'}\n",
      "0.680990 (0.037377) with: {'activation': 'softplus', 'dropout_rate': 0.7, 'init_mode': 'he_uniform'}\n",
      "0.654948 (0.019488) with: {'activation': 'softplus', 'dropout_rate': 0.8, 'init_mode': 'uniform'}\n",
      "0.656250 (0.029232) with: {'activation': 'softplus', 'dropout_rate': 0.8, 'init_mode': 'lecun_uniform'}\n",
      "0.662760 (0.032578) with: {'activation': 'softplus', 'dropout_rate': 0.8, 'init_mode': 'normal'}\n",
      "0.651042 (0.024774) with: {'activation': 'softplus', 'dropout_rate': 0.8, 'init_mode': 'zero'}\n",
      "0.445312 (0.314948) with: {'activation': 'softplus', 'dropout_rate': 0.8, 'init_mode': 'glorot_normal'}\n",
      "0.648438 (0.028348) with: {'activation': 'softplus', 'dropout_rate': 0.8, 'init_mode': 'glorot_uniform'}\n",
      "0.283854 (0.268602) with: {'activation': 'softplus', 'dropout_rate': 0.8, 'init_mode': 'he_normal'}\n",
      "0.451823 (0.313545) with: {'activation': 'softplus', 'dropout_rate': 0.8, 'init_mode': 'he_uniform'}\n",
      "0.651042 (0.024774) with: {'activation': 'softplus', 'dropout_rate': 0.9, 'init_mode': 'uniform'}\n",
      "0.229167 (0.266205) with: {'activation': 'softplus', 'dropout_rate': 0.9, 'init_mode': 'lecun_uniform'}\n",
      "0.652344 (0.022999) with: {'activation': 'softplus', 'dropout_rate': 0.9, 'init_mode': 'normal'}\n",
      "0.651042 (0.024774) with: {'activation': 'softplus', 'dropout_rate': 0.9, 'init_mode': 'zero'}\n",
      "0.225260 (0.318566) with: {'activation': 'softplus', 'dropout_rate': 0.9, 'init_mode': 'glorot_normal'}\n",
      "0.235677 (0.271839) with: {'activation': 'softplus', 'dropout_rate': 0.9, 'init_mode': 'glorot_uniform'}\n",
      "0.218750 (0.290134) with: {'activation': 'softplus', 'dropout_rate': 0.9, 'init_mode': 'he_normal'}\n",
      "0.446615 (0.313107) with: {'activation': 'softplus', 'dropout_rate': 0.9, 'init_mode': 'he_uniform'}\n"
     ]
    }
   ],
   "source": [
    "def create_model(init_mode='uniform', activation='relu', dropout_rate=0.1):\n",
    "    model = Sequential()\n",
    "    model.add(Dense(12, kernel_initializer='uniform', input_dim=8,  activation=activation))\n",
    "    model.add(Dropout(dropout_rate))\n",
    "    model.add(Dense(1, kernel_initializer=init_mode, activation=activation))\n",
    "    model.compile(loss='binary_crossentropy', optimizer='adam',\n",
    "                 metrics=['accuracy'])\n",
    "    return model\n",
    "from keras.callbacks import EarlyStopping\n",
    "stopper = EarlyStopping(monitor='val_acc', patience=3, verbose=1)\n",
    "\n",
    "seed = 7\n",
    "numpy.random.seed(seed)\n",
    "dataset = numpy.loadtxt(\"pima.data\", delimiter=\",\")\n",
    "X = dataset[:, 0:8]\n",
    "Y = dataset[:, 8]\n",
    "model = KerasClassifier(build_fn=create_model, epochs=100, batch_size=40, verbose=0)\n",
    "dropout_rate = [0.0, 0.1, 0.2, 0.3, 0.4, 0.5, 0.6, 0.7, 0.8, 0.9]\n",
    "init_mode =   ['uniform', 'lecun_uniform', 'normal', 'zero', 'glorot_normal',\n",
    " 'glorot_uniform', 'he_normal', 'he_uniform']\n",
    "activation = ['softmax', 'softplus']\n",
    "param_grid =  dict(activation=activation, init_mode=init_mode, dropout_rate=dropout_rate)\n",
    "grid = GridSearchCV(estimator=model, param_grid=param_grid, n_jobs=-1)\n",
    "fit_params = dict(callbacks=[stopper])\n",
    "grid_result = grid.fit(X, Y, **fit_params)\n",
    "\n",
    "print(\"최적스코어: %f   사용한 파라미터조합 : %s\" % (grid_result.best_score_,\n",
    "                                      grid_result.best_params_))\n",
    "means = grid_result.cv_results_['mean_test_score']\n",
    "stds = grid_result.cv_results_['std_test_score']\n",
    "params = grid_result.cv_results_['params']\n",
    "for mean, stdev, param in zip(means, stds, params):\n",
    "    print(\"%f (%f) with: %r\" % (mean, stdev, param))"
   ]
  },
  {
   "cell_type": "code",
   "execution_count": null,
   "metadata": {},
   "outputs": [
    {
     "name": "stderr",
     "output_type": "stream",
     "text": [
      "C:\\Users\\ICT01_16\\Anaconda3\\lib\\site-packages\\sklearn\\model_selection\\_split.py:1978: FutureWarning: The default value of cv will change from 3 to 5 in version 0.22. Specify it explicitly to silence this warning.\n",
      "  warnings.warn(CV_WARNING, FutureWarning)\n",
      "C:\\Users\\ICT01_16\\Anaconda3\\lib\\site-packages\\joblib\\externals\\loky\\process_executor.py:706: UserWarning: A worker stopped while some jobs were given to the executor. This can be caused by a too short worker timeout or by a memory leak.\n",
      "  \"timeout or by a memory leak.\", UserWarning\n"
     ]
    }
   ],
   "source": [
    "# parameter 조합 만들기\n",
    "#dropout_rate = [0.0, 0.1, 0.2, 0.3, 0.4, 0.5, 0.6, 0.7, 0.8, 0.9]\n",
    "#init_mode = [\"uniform\", \"lecun_uniform\", \"normal\", \"zero\", \"glorot_normal\", \"glorot_uniform\",\n",
    "#            \"he_normal\", \"he_uniform\"]\n",
    "#activation = [\"softmax\", \"softplus\", \"softsign\", \"relu\", \"tanh\", \"sigmoid\", \"hard_sigmoid\",\n",
    "#             \"linear\"]\n",
    "#\n",
    "#batch_size = [10, 20, 40, 60, 80, 100]\n",
    "#epochs = [10, 50, 100]\n",
    "##param_grid = dict(batch_size=batch_size, epochs=epochs)\n",
    "#param_grid = dict(init_mode=init_mode, activation=activation, dropout_rate=dropout_rate)\n",
    "#grid = GridSearchCV(estimator=model, param_grid=param_grid, n_jobs=-1) # n_jobs:참여하는 CPU개수(-1=전부)\n",
    "#fit_params = dict(callbacks=[stopper])\n",
    "#\n",
    "## 변동매개변수\n",
    "#grid_result = grid.fit(X, Y, **fit_params)\n",
    "#\n",
    "#print(\"최적스코어: %f      사용한 파라미터 조합 : %s\" %(grid_result.best_score_,grid_result.best_params_))\n",
    "#means = grid_result.cv_results_[\"mean_test_score\"]\n",
    "#stds = grid_result.cv_results_[\"std_test_score\"]\n",
    "#params = grid_result.cv_results_[\"params\"]\n",
    "#for mean, stdev, param in zip(means, stds, params):\n",
    "#    print(\"%f (%f) with: %r\" %(mean, stdev, param))"
   ]
  },
  {
   "cell_type": "code",
   "execution_count": 151,
   "metadata": {},
   "outputs": [],
   "source": [
    "# 문제.\n",
    "# 1) dense2에 가중치 초기화 매개변수를 넣어주고, 가장 최적의 가중치 초기화 파라미터를 결정하시요.\n",
    "# 가중치 초기화 매개변수 -> kenel_initializer\n",
    "\n",
    "# 2) dense1에는 activation함수를 넣어주고, 가장 좋은 activation함수를 결정하시요.\n"
   ]
  },
  {
   "cell_type": "code",
   "execution_count": 153,
   "metadata": {},
   "outputs": [
    {
     "data": {
      "text/plain": [
       "'2.3.1'"
      ]
     },
     "execution_count": 153,
     "metadata": {},
     "output_type": "execute_result"
    }
   ],
   "source": [
    "keras.__version__"
   ]
  },
  {
   "cell_type": "code",
   "execution_count": null,
   "metadata": {},
   "outputs": [],
   "source": [
    "import tensorflow as tf\n",
    "tf.__version__"
   ]
  },
  {
   "cell_type": "code",
   "execution_count": 12,
   "metadata": {},
   "outputs": [],
   "source": [
    "from keras.models import Sequential\n",
    "from keras.layers import Dense\n",
    "from keras.wrappers.scikit_learn import KerasRegressor\n",
    "from sklearn.model_selection import cross_val_score\n",
    "from sklearn.model_selection import KFold\n",
    "from sklearn.preprocessing import StandardScaler\n",
    "from sklearn.pipeline import Pipeline\n",
    "import pandas\n",
    "import numpy"
   ]
  },
  {
   "cell_type": "code",
   "execution_count": 13,
   "metadata": {},
   "outputs": [],
   "source": [
    "dataframe = pandas.read_csv(\"housing.csv\", delim_whitespace=True, header=None)\n",
    "dataset = dataframe.values\n",
    "X = dataset[:, 0:13]\n",
    "Y = dataset[:, 13]"
   ]
  },
  {
   "cell_type": "code",
   "execution_count": 14,
   "metadata": {},
   "outputs": [],
   "source": [
    "def baseline_model():\n",
    "    model = Sequential()\n",
    "    # 506x13 13x13 => 506 x 13\n",
    "    model.add(Dense(13, input_dim=13, kernel_initializer=\"normal\", activation=\"relu\"))\n",
    "    # 506x13 13x1 => 506 x 1\n",
    "    model.add(Dense(1, kernel_initializer=\"normal\"))\n",
    "    model.compile(loss=\"mean_squared_error\", optimizer=\"adam\")\n",
    "    return model"
   ]
  },
  {
   "cell_type": "code",
   "execution_count": 15,
   "metadata": {},
   "outputs": [],
   "source": [
    "def larger_model():\n",
    "    model = Sequential()\n",
    "    model.add(Dense(13, input_dim=13, kernel_initializer=\"normal\", activation=\"relu\"))\n",
    "    \n",
    "    # 추가\n",
    "    model.add(Dense(6, kernel_initializer=\"normal\", activation=\"relu\"))\n",
    "    \n",
    "    model.add(Dense(1, kernel_initializer=\"normal\"))\n",
    "    model.compile(loss=\"mean_squared_error\", optimizer=\"adam\")\n",
    "    return model"
   ]
  },
  {
   "cell_type": "code",
   "execution_count": 16,
   "metadata": {},
   "outputs": [],
   "source": [
    "def wider_model():\n",
    "    model = Sequential()\n",
    "    \n",
    "    # 13->20 변경\n",
    "    model.add(Dense(20, input_dim=13, kernel_initializer=\"normal\", activation=\"relu\"))\n",
    "    \n",
    "    model.add(Dense(1, kernel_initializer=\"normal\"))\n",
    "    model.compile(loss=\"mean_squared_error\", optimizer=\"adam\")\n",
    "    return model"
   ]
  },
  {
   "cell_type": "code",
   "execution_count": 17,
   "metadata": {},
   "outputs": [],
   "source": [
    "seed = 7\n",
    "numpy.random.seed(seed)\n",
    "# 1. baseline_model 사용\n",
    "#estimator = KerasRegressor(build_fn=baseline_model, nb_epoch=100, batch_size=5, verbose=0)\n",
    "# 2. lager_model 사용\n",
    "estimator = KerasRegressor(build_fn=wider_model, nb_epoch=100, batch_size=5, verbose=0)"
   ]
  },
  {
   "cell_type": "code",
   "execution_count": 18,
   "metadata": {},
   "outputs": [
    {
     "name": "stdout",
     "output_type": "stream",
     "text": [
      "Results: -101.95 (72.26) MSE\n"
     ]
    }
   ],
   "source": [
    "# 10개 중에 한개는 validation\n",
    "kfold = KFold(n_splits=10, random_state=seed)\n",
    "results = cross_val_score(estimator, X, Y, cv=kfold)\n",
    "print(\"Results: %.2f (%.2f) MSE\" % (results.mean(), results.std()))"
   ]
  },
  {
   "cell_type": "code",
   "execution_count": 19,
   "metadata": {},
   "outputs": [
    {
     "name": "stdout",
     "output_type": "stream",
     "text": [
      "Standardized: -24.34 (24.88) MSE\n"
     ]
    }
   ],
   "source": [
    "numpy.random.seed(seed)\n",
    "\n",
    "estimators = []\n",
    "estimators.append((\"standardize\", StandardScaler()))\n",
    "estimators.append((\"mlp\", KerasRegressor(build_fn=wider_model, epochs=50, batch_size=5, verbose=0)))\n",
    "\n",
    "# pipeline 매개변수가 리스트를 요구한다.\n",
    "pipeline = Pipeline(estimators)\n",
    "kfold = KFold(n_splits=10, random_state=seed)\n",
    "results = cross_val_score(pipeline, X, Y, cv=kfold)\n",
    "print(\"Standardized: %.2f (%.2f) MSE\" % (results.mean(), results.std()))"
   ]
  },
  {
   "cell_type": "code",
   "execution_count": 20,
   "metadata": {},
   "outputs": [
    {
     "data": {
      "text/plain": [
       "Pipeline(memory=None,\n",
       "         steps=[('standardize',\n",
       "                 StandardScaler(copy=True, with_mean=True, with_std=True)),\n",
       "                ('mlp',\n",
       "                 <keras.wrappers.scikit_learn.KerasRegressor object at 0x0000016BFC4B7B48>)],\n",
       "         verbose=False)"
      ]
     },
     "execution_count": 20,
     "metadata": {},
     "output_type": "execute_result"
    }
   ],
   "source": [
    "pipeline.fit(X, Y)"
   ]
  },
  {
   "cell_type": "code",
   "execution_count": 21,
   "metadata": {},
   "outputs": [
    {
     "data": {
      "text/plain": [
       "27.941034"
      ]
     },
     "execution_count": 21,
     "metadata": {},
     "output_type": "execute_result"
    }
   ],
   "source": [
    "res = pipeline.predict(X)\n",
    "res[0]\n",
    "# 29.81923\n",
    "# 28.182102\n",
    "# 27.941034"
   ]
  },
  {
   "cell_type": "code",
   "execution_count": 22,
   "metadata": {},
   "outputs": [
    {
     "data": {
      "text/plain": [
       "array([[1.        , 0.90470094],\n",
       "       [0.90470094, 1.        ]])"
      ]
     },
     "execution_count": 22,
     "metadata": {},
     "output_type": "execute_result"
    }
   ],
   "source": [
    "# 상관계수\n",
    "import numpy as np\n",
    "np.corrcoef(res, Y)\n",
    "# array([[1.        , 0.91280602],\n",
    "#        [0.91280602, 1.        ]])\n",
    "# array([[1.        , 0.93655368],\n",
    "#       [0.93655368, 1.        ]])\n",
    "# array([[1.        , 0.90470094],\n",
    "#       [0.90470094, 1.        ]])"
   ]
  }
 ],
 "metadata": {
  "kernelspec": {
   "display_name": "Python 3",
   "language": "python",
   "name": "python3"
  },
  "language_info": {
   "codemirror_mode": {
    "name": "ipython",
    "version": 3
   },
   "file_extension": ".py",
   "mimetype": "text/x-python",
   "name": "python",
   "nbconvert_exporter": "python",
   "pygments_lexer": "ipython3",
   "version": "3.7.6"
  }
 },
 "nbformat": 4,
 "nbformat_minor": 2
}
