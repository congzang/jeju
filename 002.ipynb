{
 "cells": [
  {
   "cell_type": "code",
   "execution_count": 1,
   "metadata": {},
   "outputs": [
    {
     "name": "stdout",
     "output_type": "stream",
     "text": [
      "e- base\n",
      "e- ['b', 'a', 's', 'e']\n"
     ]
    },
    {
     "data": {
      "text/plain": [
       "['a', 'b', 'c', 'd']"
      ]
     },
     "execution_count": 1,
     "metadata": {},
     "output_type": "execute_result"
    }
   ],
   "source": [
    "e = [100,1000,[\"Ace\", \"base\", \"Captine\"]]\n",
    "\n",
    "print(\"e-\", e[-1][1])\n",
    "print(\"e-\", list(e[-1][1]))\n",
    "\n",
    "list(\"abcd\")"
   ]
  },
  {
   "cell_type": "code",
   "execution_count": 2,
   "metadata": {},
   "outputs": [
    {
     "name": "stdout",
     "output_type": "stream",
     "text": [
      "7 2 4\n",
      "3 8\n"
     ]
    }
   ],
   "source": [
    "num1 = 6\n",
    "num1 += 1 # num1 = num1 + 1\n",
    "num2 = 7\n",
    "num2 -= 5 # num2 = num2 - 5\n",
    "num3 = 8\n",
    "num3 /= 2 # num3 = num3 / 2\n",
    "print(num1, num2, round(num3))\n",
    "\n",
    "num1 = 1\n",
    "num1 *= 3\n",
    "num2 = 2\n",
    "num2 **= 3 # 2^3\n",
    "print(num1, num2)"
   ]
  },
  {
   "cell_type": "code",
   "execution_count": 3,
   "metadata": {},
   "outputs": [
    {
     "name": "stdout",
     "output_type": "stream",
     "text": [
      "Non-negative\n"
     ]
    }
   ],
   "source": [
    "# 3항 연산자\n",
    "x = 5\n",
    "ans = \"Non-negative\" if x >= 0 else \"Negative\" # [True인 경우] if [cond] else [False인 경우]\n",
    "print(ans) # ans: 문자열(str)"
   ]
  },
  {
   "cell_type": "code",
   "execution_count": 4,
   "metadata": {},
   "outputs": [],
   "source": [
    "city = '' # 빈문자열 / 0 / [](list) / {}(dict) / ()(tuple) = False\n",
    "if city:\n",
    "    print(\"empty city\")"
   ]
  },
  {
   "cell_type": "code",
   "execution_count": null,
   "metadata": {},
   "outputs": [
    {
     "name": "stdout",
     "output_type": "stream",
     "text": [
      "2019-12-26 16:07:46.387837\n",
      "\n"
     ]
    }
   ],
   "source": [
    "# 날짜의 입력은 문자열\n",
    "# 특수하게 해석해서 년월일로 해석한다.\n",
    "import datetime\n",
    "dt = datetime.datetime.now()\n",
    "print(dt)\n",
    "print()\n",
    "# 데이터 입력\n",
    "age = input(\"생년월일(19951031)을 입력하시오.\")\n",
    "\n",
    "# 데이터 처리\n",
    "year = int(age[:4])\n",
    "month = int(age[4:6])\n",
    "day = int(age[6:])\n",
    "# 빼기 연산\n",
    "# 분산 : 상계방지(제곱)\n",
    "year_diff = dt.year - year\n",
    "month_diff = dt.month - month\n",
    "day_diff = dt.day - day\n",
    "\n",
    "if day_diff < 0:\n",
    "    month_diff -= 1 # 일 내림처리\n",
    "if month_diff < 0:\n",
    "    year_diff -= 1  # 월 내림처리\n",
    "    \n",
    "# 데이터 출력\n",
    "print(\"당신의 나이는 \", year_diff + 1)\n",
    "\n",
    "if year_diff < 18 :\n",
    "    print(\"당신은 미성년자입니다.\")\n",
    "else:\n",
    "    print(\"당신은 미성년자가 아닙니다.\")"
   ]
  },
  {
   "cell_type": "code",
   "execution_count": null,
   "metadata": {},
   "outputs": [],
   "source": [
    "# 데이터 입력 -> 처리(연산자), 제어문(판단문, 한가지 규칙을 여러 데이터에 적용 : 반복문)"
   ]
  },
  {
   "cell_type": "code",
   "execution_count": null,
   "metadata": {},
   "outputs": [],
   "source": [
    "# for문\n",
    "# for(i = 0; i < 100; i++) -> 이전에 for문 사용방식 : 인덱스 오버플로우 문제\n",
    "# for in문"
   ]
  },
  {
   "cell_type": "code",
   "execution_count": null,
   "metadata": {},
   "outputs": [],
   "source": [
    "elements = [\"earth\", \"air\", \"fire\", \"water\"]\n",
    "for i in elements: # Collections, Iterator(rangerator), Generator, Enumerate\n",
    "    print(i, end = \" \") # print()의 끝이 \\n(default), end 옵션을 사용하면 바꿀 수 있음"
   ]
  },
  {
   "cell_type": "code",
   "execution_count": null,
   "metadata": {},
   "outputs": [],
   "source": [
    "# Collections : list, tuple, dict, set -> 메모리 차지\n",
    "# Iterator    : range (i=0; i<100; i++)와 같은 방법으로 사용 [ 형식: (start; end; step) ]\n",
    "# Generator   : 데이터 생성 -> 메모리를 차지하지 않고 실시간으로 데이터를 생성한다.\n",
    "# Enumerate   : 매핑을 해줌 (0:earth, 1:air, 2:fire)"
   ]
  },
  {
   "cell_type": "code",
   "execution_count": null,
   "metadata": {},
   "outputs": [],
   "source": [
    "for i in range(5): # => (i=0; i<5; i++)\n",
    "    print(i)"
   ]
  },
  {
   "cell_type": "code",
   "execution_count": null,
   "metadata": {},
   "outputs": [],
   "source": [
    "# 파이썬은 overloading 없음\n",
    "for i in range(2, 5): # => (i=2; i<5; i++)\n",
    "    print(i)"
   ]
  },
  {
   "cell_type": "code",
   "execution_count": null,
   "metadata": {},
   "outputs": [],
   "source": [
    "for i in range(0, 10, 2): # => (i=0; i<10; i=i+2)\n",
    "    print(i)"
   ]
  },
  {
   "cell_type": "code",
   "execution_count": null,
   "metadata": {},
   "outputs": [],
   "source": [
    "for i in range(4):\n",
    "    print(i)\n",
    "    print(elements[i])"
   ]
  },
  {
   "cell_type": "code",
   "execution_count": null,
   "metadata": {},
   "outputs": [],
   "source": [
    "# range는 객체(Object)다.\n",
    "ra = range(4)\n",
    "print(ra) # => range(0, 4)\n",
    "print(list(ra)) # list로 casting"
   ]
  },
  {
   "cell_type": "code",
   "execution_count": null,
   "metadata": {},
   "outputs": [],
   "source": [
    "print( list(reversed(range(6))) )\n",
    "print( list(range(5, -1, -1)) )"
   ]
  },
  {
   "cell_type": "code",
   "execution_count": null,
   "metadata": {},
   "outputs": [],
   "source": [
    "# 증가변수, 누적변수\n",
    "sum = 0\n",
    "for x in range(1,11):\n",
    "    #sum = sum + x\n",
    "    sum += x\n",
    "print(sum)"
   ]
  },
  {
   "cell_type": "code",
   "execution_count": null,
   "metadata": {},
   "outputs": [],
   "source": [
    "# 중첩된 for문\n",
    "for x in range(2,4):\n",
    "    print()\n",
    "    for y in range(2,10):\n",
    "        print(x, \"*\", y, \"=\", x*y, end = \"   \")"
   ]
  },
  {
   "cell_type": "code",
   "execution_count": null,
   "metadata": {},
   "outputs": [],
   "source": [
    "for x in range(2,10):\n",
    "    print()\n",
    "    for y in range(2,10):\n",
    "        print(y, \"*\", x, \"=\", x*y, \"\\t\", end = \"  \")"
   ]
  },
  {
   "cell_type": "code",
   "execution_count": null,
   "metadata": {},
   "outputs": [],
   "source": [
    "# 내장리스트 : 동적으로 데이터 생성\n",
    "[i for i in range(10)]"
   ]
  },
  {
   "cell_type": "code",
   "execution_count": null,
   "metadata": {},
   "outputs": [],
   "source": [
    "{i: i**3 for i in range(10)} # dict"
   ]
  },
  {
   "cell_type": "code",
   "execution_count": null,
   "metadata": {},
   "outputs": [],
   "source": [
    "[i**2 for i in range(10) if i%2 == 0]"
   ]
  },
  {
   "cell_type": "code",
   "execution_count": null,
   "metadata": {},
   "outputs": [],
   "source": [
    "# for r in rows:\n",
    "#    for c in cols:\n",
    "#        (r, c)\n",
    "rows = range(1, 5)\n",
    "cols = range(10, 15)\n",
    "vectors = [(r, c) for r in rows for c in cols]\n",
    "vectors"
   ]
  },
  {
   "cell_type": "code",
   "execution_count": null,
   "metadata": {},
   "outputs": [],
   "source": [
    "# 문자열 연산자 +, *(반복)\n",
    "# True : 1, False : 0\n",
    "[\"3의 배수\" * (i%3 == 0) + \"5의 배수\" * (i%5 == 0) or i for i in range(1, 21) ]"
   ]
  },
  {
   "cell_type": "code",
   "execution_count": null,
   "metadata": {},
   "outputs": [],
   "source": [
    "# 점수를 입력받아 A,B,C,D,F학점으로 출력하시요.(점수를 학점으로 mapping)\n",
    "score = int(input(\"점수를 입력하시요 >> \"))\n",
    "result = ''\n",
    "\n",
    "if score >= 90: result = 'A'\n",
    "elif score >= 80: result = 'B'\n",
    "elif score >= 70: result = 'C'\n",
    "elif score >= 60: result = 'D'\n",
    "else: result = 'F'\n",
    "\n",
    "print(result)"
   ]
  },
  {
   "cell_type": "code",
   "execution_count": null,
   "metadata": {},
   "outputs": [],
   "source": [
    "# 점수를 입력받아 A,B,C,D,F학점으로 출력하시요.(점수를 학점으로 mapping)\n",
    "while True: # 무한루프\n",
    "    print(\"점수 입력 : \", end = \"\")\n",
    "    \n",
    "    jumsu = int(input())\n",
    "    \n",
    "    if jumsu == 0: break          # 무한루프인 경우 종료조건 지정\n",
    "    \n",
    "    if jumsu >= 90: print('A')\n",
    "    elif jumsu >= 80: print('B')\n",
    "    elif jumsu >= 70: print('C')\n",
    "    elif jumsu >= 60: print('D')\n",
    "    else: print('F')"
   ]
  },
  {
   "cell_type": "code",
   "execution_count": null,
   "metadata": {},
   "outputs": [],
   "source": [
    "# 번호 이름 국어 영어 수학 점수를 입력하는 프로그램 작성(3명)\n",
    "# 2차원 리스트\n",
    "final = []\n",
    "\n",
    "for i in range(3):\n",
    "    sungjuk = []\n",
    "    \n",
    "    num = input(\"번호를 입력하시오: \")\n",
    "    name = input(\"이름을 입력하시오: \")\n",
    "    kor = int(input(\"-국어 점수: \"))\n",
    "    eng = int(input(\"-영어 점수: \"))\n",
    "    math = int(input(\"-수학 점수: \"))\n",
    "    \n",
    "    sungjuk.append(num)\n",
    "    sungjuk.append(name)\n",
    "    sungjuk.append(kor)\n",
    "    sungjuk.append(eng)\n",
    "    sungjuk.append(math)\n",
    "    \n",
    "    final.append(sungjuk)\n",
    "    \n",
    "print(final)"
   ]
  },
  {
   "cell_type": "code",
   "execution_count": null,
   "metadata": {},
   "outputs": [],
   "source": [
    "## 문제 : 합계와 평균을 구해서 추가시켜 보세요.\n",
    "final = []\n",
    "\n",
    "for i in range(3):\n",
    "    sungjuk = []\n",
    "    \n",
    "    num = input(\"번호를 입력하시오: \")\n",
    "    name = input(\"이름을 입력하시오: \")\n",
    "    kor = int(input(\"-국어 점수: \"))\n",
    "    eng = int(input(\"-영어 점수: \"))\n",
    "    math = int(input(\"-수학 점수: \"))\n",
    "    total = kor + eng + math\n",
    "    avg = round(total / 3, 2)\n",
    "    \n",
    "    if avg >= 90: \n",
    "        grade = 'A'\n",
    "    elif avg >= 80: \n",
    "        grade = 'B'\n",
    "    elif avg >= 70: \n",
    "        grade = 'C'\n",
    "    elif avg >= 60: \n",
    "        grade = 'D'\n",
    "    else: \n",
    "        grade = 'F'\n",
    "    \n",
    "    # 프로그램은 순차적으로 실행된다. 순서를 변경하는 것은 '제어문'과 '함수'이다.\n",
    "    # list는 순서가 있는 자료구조\n",
    "    sungjuk.append(num)\n",
    "    sungjuk.append(name)\n",
    "    sungjuk.append(kor)\n",
    "    sungjuk.append(eng)\n",
    "    sungjuk.append(math)\n",
    "    sungjuk.append(total)\n",
    "    sungjuk.append(avg)\n",
    "    sungjuk.append(grade)\n",
    "    \n",
    "    final.append(sungjuk)\n",
    "    \n",
    "print(final)"
   ]
  },
  {
   "cell_type": "code",
   "execution_count": null,
   "metadata": {},
   "outputs": [],
   "source": [
    "# 정렬 (이름으로 정렬)\n",
    "# 기본 데이터타입 : str, int, float, list, dict, set, tuple\n",
    "# python은 모든 것이 객체(변수+함수) : 사용자 정의 데이터 타입\n",
    "final.sort(reverse = True) # 현재 번호(index0)로 정렬됨 (*reverse = True : 내림차순)\n",
    "\n",
    "print(final)"
   ]
  },
  {
   "cell_type": "code",
   "execution_count": null,
   "metadata": {},
   "outputs": [],
   "source": [
    "# 함수를 key로 한다.\n",
    "def getKey(a1):\n",
    "    return a1[1]\n",
    "\n",
    "final.sort(key = getKey) # 정렬기준 변경\n",
    "print(final)"
   ]
  },
  {
   "cell_type": "code",
   "execution_count": null,
   "metadata": {},
   "outputs": [],
   "source": [
    "# lambda 함수 : 무명함수, 간단한 함수를 작성할 때 사용\n",
    "final.sort(key = lambda a1 : a1[0], reverse = True)\n",
    "\n",
    "print(final)"
   ]
  },
  {
   "cell_type": "code",
   "execution_count": null,
   "metadata": {},
   "outputs": [],
   "source": [
    "# 등수를 입력하는 필드를 추가하시요.\n",
    "final = [['3', '박둘리', 69, 50, 78, 197, 65.67, 'D'], \n",
    "         ['1', '도우너', 60, 50, 30, 140, 46.67, 'F'], \n",
    "         ['2', '김길동', 880, 80, 60, 1020, 340.0, 'A']]\n",
    "final.sort(key = lambda a : a[6], reverse = True)\n",
    "\n",
    "for i in range(3):\n",
    "    sungjuk = final[i]\n",
    "    sungjuk.append( i+1 )\n",
    "\n",
    "final.sort()\n",
    "print(final)"
   ]
  },
  {
   "cell_type": "code",
   "execution_count": null,
   "metadata": {},
   "outputs": [],
   "source": [
    "final = [['3', '박둘리', 69, 50, 78, 197, 65.67, 'D'], \n",
    "         ['1', '도우너', 60, 50, 30, 140, 46.67, 'F'], \n",
    "         ['2', '김길동', 880, 80, 60, 1020, 340.0, 'A']]\n",
    "\n",
    "final.sort(key = lambda row: row[6], reverse = True) # 총점 중심 내림차순\n",
    "\n",
    "rank = 0\n",
    "for i in range(len(final)):\n",
    "    rank = rank + 1\n",
    "    final[i].append(rank)\n",
    "    \n",
    "final.sort(key = lambda row: row[0])\n",
    "tot_list = [\"번호\", \"이름\", \"국어\", \"수학\", \"영어\", \"합계\", \"평균\", \"성적\", \"순위\"]\n",
    "\n",
    "for j in range(len(final[0])):\n",
    "    print(tot_list[j], end = \"\\t\")\n",
    "    \n",
    "for i in range(len(final)):\n",
    "    print(end = \"\\n\")\n",
    "    for j in range(len(tot_list)):\n",
    "        print(final[i][j], end = \"\\t\")\n",
    "    \n",
    "print()\n",
    "print(final)"
   ]
  },
  {
   "cell_type": "code",
   "execution_count": null,
   "metadata": {},
   "outputs": [],
   "source": [
    "# 문제 number guess(숫자 맞추기 게임 1:1)\n",
    "# 1) computer는 숫자를 랜덤으로 발생시킵니다.\n",
    "# 2) 사용자는 숫자를 입력합니다.\n",
    "# 3) 컴퓨터가 낸 숫자와 사용자가 입력한 숫자가 일치하는지 확인하고 일치하면 확인하고 다시 다음 게임으로 진행합니다.\n",
    "# 4) 만약 맞추지 못하였으면 사용자가 입력한 숫자가 컴퓨터가 가지고 있는 수 보다 큰 지 작은 지를 알려줍니다.\n",
    "# 5) 무한루프로 진행하던 게임은 Q가 눌리면 종료합니다.\n",
    "# 6) 몇회만에 맞추었는지를 확인하여 출력해 줍니다.\n",
    "# 7) 총 진행횟수 하고 guess횟수를 누적시킨다음 평균 시도횟수를 출력하시요.\n",
    "\n",
    "# 필요한 변수 : 컴퓨터선점수, 사용자 입력, 총횟수, 평균시도횟수\n",
    "from random import randint\n",
    "import sys\n",
    "\n",
    "tot_game = 0     # 전체 게임횟수\n",
    "win = 0          # 이긴 횟수\n",
    "tot_attempt = [] # 전체 시도횟수\n",
    "\n",
    "while True:\n",
    "    n = randint(1, 101) # computer 숫자 선택\n",
    "    \n",
    "    tot_game += 1\n",
    "    game = 0\n",
    "    \n",
    "    while True:\n",
    "        ans = input(\"숫자를 입력하세요.(Q to exit) >>\")\n",
    "        \n",
    "        game += 1\n",
    "\n",
    "        # 게임 종료\n",
    "        if ans.upper() == \"Q\":\n",
    "            print(\"총 게임수\", tot_game - 1, \"이긴 게임수\", win)\n",
    "            game_tot = sum(tot_attempt)\n",
    "            print(\"평균 시도횟수\", game_tot/(tot_game-1))\n",
    "            sys.exit(0) # 프로그램 종료\n",
    "\n",
    "        ians = int(ans)\n",
    "        \n",
    "        # computer숫자와 user숫자 판단\n",
    "        if(n == ians):\n",
    "            print(\"정답!\")\n",
    "            win += 1\n",
    "            tot_attempt.append(game)\n",
    "            break\n",
    "        elif(n > ians):\n",
    "            print(\"더 높은 수를 입력하세요.\")\n",
    "        else:\n",
    "            print(\"더 낮은 수를 입력하세요.\")\n",
    "    \n",
    "        \n",
    "        \n"
   ]
  },
  {
   "cell_type": "code",
   "execution_count": null,
   "metadata": {},
   "outputs": [],
   "source": [
    "# 경우의 수는 3가지(정답/작은 경우/큰 경우)\n",
    "# 평균 시도횟수를 계산하기 위해서 변수를 정의하고 계산\n",
    "from random import randint\n",
    "import sys\n",
    "\n",
    "while True:\n",
    "    n = randint(1, 101) # computer 숫자 선택\n",
    "    \n",
    "    while True:\n",
    "        ans = input(\"숫자를 입력하세요.(Q to exit) >>\")\n",
    "        \n",
    "        # 게임 종료\n",
    "        if ans.upper() == \"Q\":\n",
    "            sys.exit(0) # 프로그램 종료\n",
    "\n",
    "        ians = int(ans)\n",
    "        \n",
    "        # computer숫자와 user숫자 판단\n",
    "        if(n == ians):\n",
    "            print(\"정답!\")\n",
    "            break\n",
    "        elif(n > ians):\n",
    "            print(\"더 높은 수를 입력하세요.\")\n",
    "        else:\n",
    "            print(\"더 낮은 수를 입력하세요.\")\n",
    "    \n"
   ]
  },
  {
   "cell_type": "code",
   "execution_count": 7,
   "metadata": {},
   "outputs": [
    {
     "name": "stdout",
     "output_type": "stream",
     "text": [
      "제곱미터 아파트 면적 >>90\n",
      "중소형\n"
     ]
    }
   ],
   "source": [
    "# 문제1. 제곱미터로 입력되는 아파트 면적을 평형으로 계산하여 종류 판정(30평 기준)하는 프로그램 작성\n",
    "# 소형:17, 중소형:25, 중형:30\n",
    "# 평형 수 = 제곱미터 / 3.305\n",
    "userArea = float(input(\"제곱미터 아파트 면적 >>\"))\n",
    "py = userArea / 3.305\n",
    "\n",
    "if py >= 30: result = \"중형\"\n",
    "elif py >= 25: result = \"중소형\"\n",
    "else: result = \"소형\"\n",
    "    \n",
    "print(result)"
   ]
  },
  {
   "cell_type": "code",
   "execution_count": 8,
   "metadata": {},
   "outputs": [
    {
     "name": "stdout",
     "output_type": "stream",
     "text": [
      "날 수를 입력하세요 >>1\n",
      "86400\n"
     ]
    }
   ],
   "source": [
    "# 문제2. 날 수를 입력하면 이를 초로 변경하는 프로그램 작성\n",
    "userDay = int(input(\"날 수를 입력하세요 >>\"))\n",
    "print(userDay * 3600 * 24)"
   ]
  },
  {
   "cell_type": "code",
   "execution_count": null,
   "metadata": {},
   "outputs": [],
   "source": [
    "# 소득세 계산 : 소득세율표를 구해보고 이를 이용하여 소득이 들어오면 세금이 얼마인지 계산해보시오.\n",
    "# (연봉. 단순히 세율만 적용합니다.)\n",
    "# 1천만원 미만 : 연봉 9.5% / 1~4천 : 19% / 4~8천 : 28% / 8천이상 : 37%\n",
    "userPay = int(input(\"소득을 입력하세요 >>\"))\n",
    "\n",
    "if userPay >= 80000000:\n",
    "    incomeTaxRate = 0.37\n",
    "elif userPay >= 40000000:\n",
    "    incomeTaxRate = 0.28\n",
    "elif userPay >= 10000000:\n",
    "    incomeTaxRate = 0.19\n",
    "else:\n",
    "    incomeTaxRate = 0.095\n",
    "\n",
    "print((\"{:,}\").format(userPay * incomeTaxRate),\"원\")"
   ]
  },
  {
   "cell_type": "code",
   "execution_count": 11,
   "metadata": {},
   "outputs": [
    {
     "name": "stdout",
     "output_type": "stream",
     "text": [
      "연봉을 입력하시오 >>85000000\n",
      "입력하신 연봉은 85,000,000 원에 대한 세금 = 2,825,000 원\n"
     ]
    }
   ],
   "source": [
    "annual_income = int(input(\"연봉을 입력하시오 >>\"))\n",
    "tax = 0.0\n",
    "\n",
    "if annual_income < 10000000:\n",
    "    tax = annual_income * 0.095\n",
    "elif annual_income < 40000000:\n",
    "    tax = 10000000*0.095 + (annual_income-10000000) * 0.019\n",
    "elif annual_income < 80000000:\n",
    "    tax = 10000000*0.095 + 30000000*0.019 + (annual_income-40000000) * 0.028\n",
    "else:\n",
    "    tax = 10000000*0.095 + 30000000*0.019 + 40000000*0.028 + (annual_income-80000000) * 0.037\n",
    "\n",
    "print(\"입력하신 연봉은\", \"{:,}\".format(annual_income), \"원에 대한 세금 =\", \"{:,.0f}\".format(tax), \"원\")"
   ]
  },
  {
   "cell_type": "code",
   "execution_count": 12,
   "metadata": {},
   "outputs": [
    {
     "name": "stdout",
     "output_type": "stream",
     "text": [
      "초등학생 몇명? \n"
     ]
    },
    {
     "ename": "ValueError",
     "evalue": "invalid literal for int() with base 10: ''",
     "output_type": "error",
     "traceback": [
      "\u001b[1;31m---------------------------------------------------------------------------\u001b[0m",
      "\u001b[1;31mValueError\u001b[0m                                Traceback (most recent call last)",
      "\u001b[1;32m<ipython-input-12-386de63f62b3>\u001b[0m in \u001b[0;36m<module>\u001b[1;34m\u001b[0m\n\u001b[0;32m      4\u001b[0m \u001b[1;31m# 팀별 할인 카드 확인\u001b[0m\u001b[1;33m\u001b[0m\u001b[1;33m\u001b[0m\u001b[1;33m\u001b[0m\u001b[0m\n\u001b[0;32m      5\u001b[0m \u001b[1;31m# 카드 없음:할인무, 일반카드:10%, VIP:20%\u001b[0m\u001b[1;33m\u001b[0m\u001b[1;33m\u001b[0m\u001b[1;33m\u001b[0m\u001b[0m\n\u001b[1;32m----> 6\u001b[1;33m \u001b[0mele\u001b[0m \u001b[1;33m=\u001b[0m \u001b[0mint\u001b[0m\u001b[1;33m(\u001b[0m\u001b[0minput\u001b[0m\u001b[1;33m(\u001b[0m\u001b[1;34m\"초등학생 몇명? \"\u001b[0m\u001b[1;33m)\u001b[0m\u001b[1;33m)\u001b[0m\u001b[1;33m\u001b[0m\u001b[1;33m\u001b[0m\u001b[0m\n\u001b[0m\u001b[0;32m      7\u001b[0m \u001b[0mmid\u001b[0m \u001b[1;33m=\u001b[0m \u001b[0mint\u001b[0m\u001b[1;33m(\u001b[0m\u001b[0minput\u001b[0m\u001b[1;33m(\u001b[0m\u001b[1;34m\"청소년 몇명? \"\u001b[0m\u001b[1;33m)\u001b[0m\u001b[1;33m)\u001b[0m\u001b[1;33m\u001b[0m\u001b[1;33m\u001b[0m\u001b[0m\n\u001b[0;32m      8\u001b[0m \u001b[0madult\u001b[0m \u001b[1;33m=\u001b[0m \u001b[0mint\u001b[0m\u001b[1;33m(\u001b[0m\u001b[0minput\u001b[0m\u001b[1;33m(\u001b[0m\u001b[1;34m\"일반 몇명? \"\u001b[0m\u001b[1;33m)\u001b[0m\u001b[1;33m)\u001b[0m\u001b[1;33m\u001b[0m\u001b[1;33m\u001b[0m\u001b[0m\n",
      "\u001b[1;31mValueError\u001b[0m: invalid literal for int() with base 10: ''"
     ]
    }
   ],
   "source": [
    "# 놀이공원 매표소 단체 입장료 계산하기\n",
    "# 조건 : 팀별 인원 구성을 입력(초등, 청소년, 일반인, 경로대상)하면 입장료 소견표에\n",
    "# 정산요금 : 초등(5,000원), 청소년(10,000원), 일반인(15,000원), 경로대상(3,000원)\n",
    "# 팀별 할인 카드 확인\n",
    "# 카드 없음:할인무, 일반카드:10%, VIP:20%\n",
    "ele = int(input(\"초등학생 몇명? \"))\n",
    "mid = int(input(\"청소년 몇명? \"))\n",
    "adult = int(input(\"일반 몇명? \"))\n",
    "old = int(input(\"경로대상 몇명? \"))\n",
    "\n",
    "ele_tot = 5000 * ele\n",
    "mid_tot = 10000 * mid\n",
    "adult_tot = 15000 * adult\n",
    "old_tot = 3000 * old\n",
    "tot = ele_tot + mid_tot + adult_tot + old_tot\n",
    "\n",
    "dis = int(input(\"카드없음(0), 일반카드(1), VIP(2)? \"))\n",
    "select = [tot, tot * 0.9, tot * 0.8]\n",
    "print(\"총 요금은 \", select[dis], \"원 입니다.\")"
   ]
  },
  {
   "cell_type": "code",
   "execution_count": 25,
   "metadata": {},
   "outputs": [
    {
     "name": "stdout",
     "output_type": "stream",
     "text": [
      "숫자를 입력하세요 : 10\n",
      "*\n",
      "**\n",
      "***\n",
      "****\n",
      "*****\n",
      "******\n",
      "*******\n",
      "********\n",
      "*********\n",
      "**********\n"
     ]
    }
   ],
   "source": [
    "numberOfRows = int(input(\"숫자를 입력하세요 : \"))\n",
    "\n",
    "for i in range(numberOfRows):\n",
    "    for j in range(i+1):\n",
    "        print(\"*\", end=\"\")\n",
    "    print()"
   ]
  },
  {
   "cell_type": "code",
   "execution_count": 29,
   "metadata": {},
   "outputs": [
    {
     "name": "stdout",
     "output_type": "stream",
     "text": [
      "숫자를 입력하세요 : 10\n",
      "          *\n",
      "         **\n",
      "        ***\n",
      "       ****\n",
      "      *****\n",
      "     ******\n",
      "    *******\n",
      "   ********\n",
      "  *********\n",
      " **********\n"
     ]
    }
   ],
   "source": [
    "numberOfRows = int(input(\"숫자를 입력하세요 : \"))\n",
    "\n",
    "for i in range(numberOfRows):\n",
    "    for k in range(numberOfRows-i):\n",
    "        print(\" \", end=\"\")\n",
    "    for j in range(i+1):\n",
    "        print(\"*\", end=\"\")\n",
    "    print()"
   ]
  },
  {
   "cell_type": "code",
   "execution_count": 37,
   "metadata": {},
   "outputs": [
    {
     "name": "stdout",
     "output_type": "stream",
     "text": [
      "숫자를 입력하세요 : 10\n",
      "          *\n",
      "         ***\n",
      "        *****\n",
      "       *******\n",
      "      *********\n",
      "     ***********\n",
      "    *************\n",
      "   ***************\n",
      "  *****************\n",
      " *******************\n"
     ]
    }
   ],
   "source": [
    "numberOfRows = int(input(\"숫자를 입력하세요 : \"))\n",
    "\n",
    "for i in range(numberOfRows):\n",
    "    for k in range(numberOfRows-i):\n",
    "        print(\" \", end=\"\")\n",
    "    for j in range(i+1):\n",
    "        print(\"*\", end=\"\")\n",
    "    for j in range(i):\n",
    "        print(\"*\", end=\"\")\n",
    "    print()"
   ]
  },
  {
   "cell_type": "code",
   "execution_count": 75,
   "metadata": {},
   "outputs": [
    {
     "name": "stdout",
     "output_type": "stream",
     "text": [
      "숫자를 입력하세요 : 10\n",
      "*\n",
      "**\n",
      "***\n",
      "****\n",
      "*****\n",
      "****\n",
      "***\n",
      "**\n",
      "*\n",
      "\n"
     ]
    }
   ],
   "source": [
    "numberOfRows = int(input(\"숫자를 입력하세요 : \"))\n",
    "cen = numberOfRows//2\n",
    "\n",
    "for i in range(numberOfRows):\n",
    "    if i > (cen-1):\n",
    "        for j in range((cen-1)-(i-cen)):\n",
    "            print(\"*\", end=\"\")\n",
    "    else:\n",
    "        for j in range(i+1):\n",
    "            print(\"*\", end=\"\")\n",
    "    print()"
   ]
  },
  {
   "cell_type": "code",
   "execution_count": 82,
   "metadata": {},
   "outputs": [
    {
     "name": "stdout",
     "output_type": "stream",
     "text": [
      "숫자를 입력하세요 : 15\n",
      "*                              *\n",
      "**                            **\n",
      "***                          ***\n",
      "****                        ****\n",
      "*****                      *****\n",
      "******                    ******\n",
      "*******                  *******\n",
      "********                ********\n",
      "*********              *********\n",
      "**********            **********\n",
      "***********          ***********\n",
      "************        ************\n",
      "*************      *************\n",
      "**************    **************\n",
      "***************  ***************\n"
     ]
    }
   ],
   "source": [
    "numberOfRows = int(input(\"숫자를 입력하세요 : \"))\n",
    "cen = numberOfRows//2\n",
    "\n",
    "for i in range(numberOfRows):\n",
    "    for j in range(i+1):\n",
    "        print(\"*\", end=\"\")\n",
    "    for k in range((numberOfRows-i)*2):\n",
    "        print(\" \", end=\"\")\n",
    "    for j in range(i+1):\n",
    "        print(\"*\", end=\"\")\n",
    "    print()"
   ]
  },
  {
   "cell_type": "code",
   "execution_count": 97,
   "metadata": {},
   "outputs": [
    {
     "name": "stdout",
     "output_type": "stream",
     "text": [
      "숫자를 입력하세요 : 10\n",
      "*                    *\n",
      "**                  **\n",
      "***                ***\n",
      "****              ****\n",
      "*****            *****\n",
      "******          ******\n",
      "*******        *******\n",
      "********      ********\n",
      "*********    *********\n",
      "**********  **********\n",
      "**********************\n",
      "**********************\n",
      "**********************\n"
     ]
    }
   ],
   "source": [
    "numberOfRows = int(input(\"숫자를 입력하세요 : \"))\n",
    "cen = numberOfRows//2\n",
    "\n",
    "for i in range(numberOfRows):\n",
    "    for j in range(i+1):\n",
    "        print(\"*\", end=\"\")\n",
    "    for k in range((numberOfRows-i)*2):\n",
    "        print(\" \", end=\"\")\n",
    "    for j in range(i+1):\n",
    "        print(\"*\", end=\"\")\n",
    "    print()\n",
    "    \n",
    "for i in range(3):\n",
    "    for j in range(numberOfRows*2+2):\n",
    "        print(\"*\", end=\"\")\n",
    "    print()\n"
   ]
  },
  {
   "cell_type": "code",
   "execution_count": 164,
   "metadata": {},
   "outputs": [
    {
     "name": "stdout",
     "output_type": "stream",
     "text": [
      "숫자를 입력하세요 : 10\n",
      "*        *\n",
      "**      **\n",
      "***    ***\n",
      "****  ****\n",
      "**********\n",
      "****  ****\n",
      "***  ***\n",
      "** **\n",
      "* *\n",
      "\n"
     ]
    }
   ],
   "source": [
    "numberOfRows = int(input(\"숫자를 입력하세요 : \"))\n",
    "cen = numberOfRows//2\n",
    "\n",
    "for i in range(numberOfRows):\n",
    "    if i > (cen-1):\n",
    "        for j in range((cen-1)-(i-cen)):\n",
    "            print(\"*\", end=\"\")\n",
    "        for k in range((numberOfRows-i)//2):\n",
    "            print(\" \", end=\"\")\n",
    "        for j in range((cen-1)-(i-cen)):\n",
    "            print(\"*\", end=\"\")\n",
    "    elif i < (cen-1): \n",
    "        for j in range(i+1):\n",
    "            print(\"*\", end=\"\")\n",
    "        for k in range(cen-i-1):\n",
    "            print(\"  \", end=\"\")\n",
    "        for j in range(i+1):\n",
    "            print(\"*\", end=\"\")\n",
    "    else:\n",
    "        for j in range(i+1):\n",
    "            print(\"*\", end=\"\")\n",
    "        for j in range(i+1):\n",
    "            print(\"*\", end=\"\")\n",
    "    print()"
   ]
  },
  {
   "cell_type": "code",
   "execution_count": 133,
   "metadata": {},
   "outputs": [
    {
     "name": "stdout",
     "output_type": "stream",
     "text": [
      "숫자를 입력하세요 : 10\n",
      "*\n",
      "**\n",
      "***\n",
      "****\n",
      "*****\n",
      "*****\n",
      "****\n",
      "***\n",
      "**\n",
      "*\n"
     ]
    }
   ],
   "source": [
    "numberOfRows = int(input(\"숫자를 입력하세요 : \"))\n",
    "\n",
    "for i in range(numberOfRows):\n",
    "    if i < numberOfRows / 2:\n",
    "        for j in range(i + 1):\n",
    "            print(\"*\", end = \"\")\n",
    "    else:\n",
    "        for j in range(numberOfRows//2-1, -1, -1):\n",
    "            if(j >= i - numberOfRows // 2):\n",
    "                print(\"*\", end=\"\")\n",
    "    print()"
   ]
  }
 ],
 "metadata": {
  "kernelspec": {
   "display_name": "Python 3",
   "language": "python",
   "name": "python3"
  }
 },
 "nbformat": 4,
 "nbformat_minor": 2
}
