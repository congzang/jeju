{
 "cells": [
  {
   "cell_type": "code",
   "execution_count": null,
   "metadata": {},
   "outputs": [],
   "source": [
    "# Linux (MariaDB 설치)\n",
    "# - 서비스 제공을 제어 : systemctl\n",
    "#    systemctl get-default\n",
    "#     : graphic mode(GUI:Graphic User Interface)\n",
    "#     : text mode(Server가 Service 제공 시)\n",
    "# - 보안 : firewall-cmd (firewall : 방화벽)\n",
    "# - IP, Port number는 방화벽에 의해 막혀있음\n",
    "# Port 개방\n",
    "#    firewall-cmd --permanent --zone=public --add-port=3306/tcp\n",
    "# Heidi SQL : 원격으로 Database(mariaDB)에 접속 작업\n",
    "# putty : 원격으로 Linux(server)에 접속 작업\n",
    "# vi편집기\n",
    "# - 명령모드 (esc키) 커서가 있는 곳에서 dd, yy 복사, pp 붙여넣기\n",
    "# - 입력모드 i/a/o키\n",
    "# - 마지막행모드 :w 저장, :q! 저장하지 않고 종료"
   ]
  }
 ],
 "metadata": {
  "kernelspec": {
   "display_name": "Python 3",
   "language": "python",
   "name": "python3"
  },
  "language_info": {
   "codemirror_mode": {
    "name": "ipython",
    "version": 3
   },
   "file_extension": ".py",
   "mimetype": "text/x-python",
   "name": "python",
   "nbconvert_exporter": "python",
   "pygments_lexer": "ipython3",
   "version": "3.7.4"
  }
 },
 "nbformat": 4,
 "nbformat_minor": 2
}
