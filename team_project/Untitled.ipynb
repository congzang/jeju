{
 "cells": [
  {
   "cell_type": "code",
   "execution_count": 50,
   "metadata": {},
   "outputs": [
    {
     "name": "stdout",
     "output_type": "stream",
     "text": [
      "303\n",
      "303\n",
      "303\n",
      "Empty DataFrame\n",
      "Columns: [분류, 장소명, 카카오맵_장소명, 위도, 경도, 주소]\n",
      "Index: []\n",
      "Empty DataFrame\n",
      "Columns: [분류, 장소명, 카카오맵_장소명, 위도, 경도, 주소]\n",
      "Index: []\n"
     ]
    }
   ],
   "source": [
    "import pandas as pd\n",
    "import pprint\n",
    "\n",
    "FILE_PATH = \"관광지_분류위도경도_0120.csv\"\n",
    "org_data = pd.read_csv(FILE_PATH, \n",
    "                       names=[\"분류\", \"장소명\", \"카카오맵_장소명\", \"위도\", \"경도\", \"주소\"], \n",
    "                       encoding=\"euc-kr\", header=0)\n",
    "print(len(org_data))\n",
    "print(len(org_data[\"장소명\"].unique()))\n",
    "print(len(org_data[\"카카오맵_장소명\"].unique()))\n",
    "print(org_data[org_data[\"카카오맵_장소명\"].duplicated() == True])\n",
    "print(org_data[org_data.duplicated([\"위도\", \"경도\"], keep=False) == True])\n",
    "#print(len(org_data.drop_duplicates(['장소명', '카카오맵_장소명'])))\n",
    "\n"
   ]
  }
 ],
 "metadata": {
  "kernelspec": {
   "display_name": "Python 3",
   "language": "python",
   "name": "python3"
  },
  "language_info": {
   "codemirror_mode": {
    "name": "ipython",
    "version": 3
   },
   "file_extension": ".py",
   "mimetype": "text/x-python",
   "name": "python",
   "nbconvert_exporter": "python",
   "pygments_lexer": "ipython3",
   "version": "3.7.4"
  }
 },
 "nbformat": 4,
 "nbformat_minor": 2
}
