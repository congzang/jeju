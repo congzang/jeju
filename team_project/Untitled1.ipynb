{
 "cells": [
  {
   "cell_type": "code",
   "execution_count": 23,
   "metadata": {},
   "outputs": [],
   "source": [
    "from bs4 import BeautifulSoup\n",
    "#from pprint import pprint\n",
    "import requests\n",
    "import urllib.request\n",
    "\n",
    "#웹 페이지를 열고 소스코드를 읽어오는 작업\n",
    "#html = requests.get(\"https://www.angelicadass.com/humanae-project\")\n",
    "#soup = BeautifulSoup(html.text, 'html.parser')\n",
    "#html.close()\n",
    "\n",
    "res = urllib.request.urlopen(\"https://www.angelicadass.com/humanae-project\").read()\n",
    "soup = BeautifulSoup(res, \"lxml\")\n",
    "\n",
    "#data1_list=soup.findAll('div',{'class':'sqs-block-content'})\n",
    "#pprint(data1_list)\n",
    "\n",
    "#img_list = []\n",
    "#for data1 in data1_list:\n",
    "#    #제목+썸내일 영역 추출\n",
    "#    img_list.extend(data1.findAll('img')) #해당 부분을 찾아 li_list와 병합\n",
    "#pprint(img_list)\n",
    "\n",
    "img_list = soup.find_all(\"a\", {\"class\" : \"image-slide-anchor\"})\n",
    "\n",
    "for i in range(len(img_list)):\n",
    "    img = img_list[i]\n",
    "    img_src = img['href']\n",
    "    file_name = \"face_\" + str(i) + \".jpg\" # 파일명 face_X.jpg\n",
    "    save_path = \"./face/\" + file_name # face폴더 안에 파일명으로 저장\n",
    "    \n",
    "    urllib.request.urlretrieve(img_src , save_path) # 다운로드\n",
    "\n",
    "    #if i >= 2: break"
   ]
  }
 ],
 "metadata": {
  "kernelspec": {
   "display_name": "Python 3",
   "language": "python",
   "name": "python3"
  },
  "language_info": {
   "codemirror_mode": {
    "name": "ipython",
    "version": 3
   },
   "file_extension": ".py",
   "mimetype": "text/x-python",
   "name": "python",
   "nbconvert_exporter": "python",
   "pygments_lexer": "ipython3",
   "version": "3.7.4"
  }
 },
 "nbformat": 4,
 "nbformat_minor": 2
}
